{
 "cells": [
  {
   "cell_type": "markdown",
   "metadata": {},
   "source": [
    "### Importing Libraries"
   ]
  },
  {
   "cell_type": "code",
   "execution_count": 8,
   "metadata": {},
   "outputs": [],
   "source": [
    "import pandas as pd\n",
    "import numpy as np\n",
    "import seaborn as sns"
   ]
  },
  {
   "cell_type": "markdown",
   "metadata": {},
   "source": [
    "#### Converting excel to csv"
   ]
  },
  {
   "cell_type": "code",
   "execution_count": 181,
   "metadata": {},
   "outputs": [],
   "source": [
    "read_file = pd.read_excel(\"KAMPALA TP DATA 2022.xlsx\")\n",
    "data = read_file.to_csv(\"KAMPALA 2022.csv\",index = None, header=True)"
   ]
  },
  {
   "cell_type": "markdown",
   "metadata": {},
   "source": [
    "##### Converting csv to dataFrame"
   ]
  },
  {
   "cell_type": "code",
   "execution_count": 9,
   "metadata": {},
   "outputs": [
    {
     "data": {
      "text/html": [
       "<div>\n",
       "<style scoped>\n",
       "    .dataframe tbody tr th:only-of-type {\n",
       "        vertical-align: middle;\n",
       "    }\n",
       "\n",
       "    .dataframe tbody tr th {\n",
       "        vertical-align: top;\n",
       "    }\n",
       "\n",
       "    .dataframe thead th {\n",
       "        text-align: right;\n",
       "    }\n",
       "</style>\n",
       "<table border=\"1\" class=\"dataframe\">\n",
       "  <thead>\n",
       "    <tr style=\"text-align: right;\">\n",
       "      <th></th>\n",
       "      <th>Lab No.</th>\n",
       "      <th>Zone</th>\n",
       "      <th>Category</th>\n",
       "      <th>Sampling Date</th>\n",
       "      <th>Sample Description</th>\n",
       "      <th>Electrical Conductivty (µs/cm)</th>\n",
       "      <th>pH (pH Units)</th>\n",
       "      <th>Turbidty (NTU)</th>\n",
       "      <th>Apparent Colour (PtCo)</th>\n",
       "      <th>True Colour (TCU)</th>\n",
       "      <th>...</th>\n",
       "      <th>Total coliforms (CFU/100 mL)</th>\n",
       "      <th>Residual Cl2 (mg/L)</th>\n",
       "      <th>Residual Total Cl2 (mg/L)</th>\n",
       "      <th>TSS (mg/L)</th>\n",
       "      <th>Total Alkalinity (mg/L)</th>\n",
       "      <th>Total Hardness (mg/L)</th>\n",
       "      <th>Total Iron (mg/L)</th>\n",
       "      <th>Residual Aluminium (mg/L)</th>\n",
       "      <th>SO42-  (mg/L)</th>\n",
       "      <th>Chloride (mg/L)</th>\n",
       "    </tr>\n",
       "  </thead>\n",
       "  <tbody>\n",
       "    <tr>\n",
       "      <th>0</th>\n",
       "      <td>9857.0</td>\n",
       "      <td>KEZ</td>\n",
       "      <td>TP</td>\n",
       "      <td>2022-01-03</td>\n",
       "      <td>Bugolobi Flats Block 26</td>\n",
       "      <td>139.6</td>\n",
       "      <td>6.78</td>\n",
       "      <td>0.296</td>\n",
       "      <td>4</td>\n",
       "      <td>0</td>\n",
       "      <td>...</td>\n",
       "      <td>0</td>\n",
       "      <td>0.35</td>\n",
       "      <td>0.55</td>\n",
       "      <td>ND</td>\n",
       "      <td>NaN</td>\n",
       "      <td>NaN</td>\n",
       "      <td>NaN</td>\n",
       "      <td>NaN</td>\n",
       "      <td>NaN</td>\n",
       "      <td>NaN</td>\n",
       "    </tr>\n",
       "    <tr>\n",
       "      <th>1</th>\n",
       "      <td>9858.0</td>\n",
       "      <td>KEZ</td>\n",
       "      <td>TP</td>\n",
       "      <td>2022-01-03</td>\n",
       "      <td>Bugolobi Resurrection C.O.U</td>\n",
       "      <td>140.6</td>\n",
       "      <td>6.83</td>\n",
       "      <td>0.561</td>\n",
       "      <td>6</td>\n",
       "      <td>0</td>\n",
       "      <td>...</td>\n",
       "      <td>0</td>\n",
       "      <td>0.40</td>\n",
       "      <td>0.6</td>\n",
       "      <td>ND</td>\n",
       "      <td>NaN</td>\n",
       "      <td>NaN</td>\n",
       "      <td>NaN</td>\n",
       "      <td>NaN</td>\n",
       "      <td>NaN</td>\n",
       "      <td>NaN</td>\n",
       "    </tr>\n",
       "    <tr>\n",
       "      <th>2</th>\n",
       "      <td>9859.0</td>\n",
       "      <td>KEZ</td>\n",
       "      <td>TP</td>\n",
       "      <td>2022-01-03</td>\n",
       "      <td>Bugolobi market</td>\n",
       "      <td>141.2</td>\n",
       "      <td>6.88</td>\n",
       "      <td>0.173</td>\n",
       "      <td>0</td>\n",
       "      <td>0</td>\n",
       "      <td>...</td>\n",
       "      <td>0</td>\n",
       "      <td>0.40</td>\n",
       "      <td>0.6</td>\n",
       "      <td>ND</td>\n",
       "      <td>NaN</td>\n",
       "      <td>NaN</td>\n",
       "      <td>NaN</td>\n",
       "      <td>NaN</td>\n",
       "      <td>NaN</td>\n",
       "      <td>NaN</td>\n",
       "    </tr>\n",
       "    <tr>\n",
       "      <th>3</th>\n",
       "      <td>9860.0</td>\n",
       "      <td>KEZ</td>\n",
       "      <td>TP</td>\n",
       "      <td>2022-01-03</td>\n",
       "      <td>Bugolobi Hospital</td>\n",
       "      <td>138.7</td>\n",
       "      <td>6.73</td>\n",
       "      <td>0.789</td>\n",
       "      <td>8</td>\n",
       "      <td>0</td>\n",
       "      <td>...</td>\n",
       "      <td>0</td>\n",
       "      <td>0.40</td>\n",
       "      <td>0.6</td>\n",
       "      <td>ND</td>\n",
       "      <td>NaN</td>\n",
       "      <td>NaN</td>\n",
       "      <td>NaN</td>\n",
       "      <td>NaN</td>\n",
       "      <td>NaN</td>\n",
       "      <td>NaN</td>\n",
       "    </tr>\n",
       "    <tr>\n",
       "      <th>4</th>\n",
       "      <td>9861.0</td>\n",
       "      <td>KEZ</td>\n",
       "      <td>TP</td>\n",
       "      <td>2022-01-03</td>\n",
       "      <td>Kitintale market</td>\n",
       "      <td>139.6</td>\n",
       "      <td>6.96</td>\n",
       "      <td>0.395</td>\n",
       "      <td>4</td>\n",
       "      <td>0</td>\n",
       "      <td>...</td>\n",
       "      <td>0</td>\n",
       "      <td>0.35</td>\n",
       "      <td>0.65</td>\n",
       "      <td>ND</td>\n",
       "      <td>NaN</td>\n",
       "      <td>NaN</td>\n",
       "      <td>NaN</td>\n",
       "      <td>NaN</td>\n",
       "      <td>NaN</td>\n",
       "      <td>NaN</td>\n",
       "    </tr>\n",
       "  </tbody>\n",
       "</table>\n",
       "<p>5 rows × 22 columns</p>\n",
       "</div>"
      ],
      "text/plain": [
       "   Lab No. Zone Category Sampling Date           Sample Description  \\\n",
       "0   9857.0  KEZ       TP    2022-01-03      Bugolobi Flats Block 26   \n",
       "1   9858.0  KEZ       TP    2022-01-03  Bugolobi Resurrection C.O.U   \n",
       "2   9859.0  KEZ       TP    2022-01-03              Bugolobi market   \n",
       "3   9860.0  KEZ       TP    2022-01-03            Bugolobi Hospital   \n",
       "4   9861.0  KEZ       TP    2022-01-03             Kitintale market   \n",
       "\n",
       "   Electrical Conductivty (µs/cm)  pH (pH Units)  Turbidty (NTU)  \\\n",
       "0                           139.6           6.78           0.296   \n",
       "1                           140.6           6.83           0.561   \n",
       "2                           141.2           6.88           0.173   \n",
       "3                           138.7           6.73           0.789   \n",
       "4                           139.6           6.96           0.395   \n",
       "\n",
       "   Apparent Colour (PtCo)  True Colour (TCU)  ...  \\\n",
       "0                       4                  0  ...   \n",
       "1                       6                  0  ...   \n",
       "2                       0                  0  ...   \n",
       "3                       8                  0  ...   \n",
       "4                       4                  0  ...   \n",
       "\n",
       "   Total coliforms (CFU/100 mL)  Residual Cl2 (mg/L)  \\\n",
       "0                             0                 0.35   \n",
       "1                             0                 0.40   \n",
       "2                             0                 0.40   \n",
       "3                             0                 0.40   \n",
       "4                             0                 0.35   \n",
       "\n",
       "   Residual Total Cl2 (mg/L)  TSS (mg/L) Total Alkalinity (mg/L)  \\\n",
       "0                       0.55          ND                     NaN   \n",
       "1                        0.6          ND                     NaN   \n",
       "2                        0.6          ND                     NaN   \n",
       "3                        0.6          ND                     NaN   \n",
       "4                       0.65          ND                     NaN   \n",
       "\n",
       "  Total Hardness (mg/L) Total Iron (mg/L)  Residual Aluminium (mg/L)  \\\n",
       "0                   NaN               NaN                        NaN   \n",
       "1                   NaN               NaN                        NaN   \n",
       "2                   NaN               NaN                        NaN   \n",
       "3                   NaN               NaN                        NaN   \n",
       "4                   NaN               NaN                        NaN   \n",
       "\n",
       "   SO42-  (mg/L) Chloride (mg/L)  \n",
       "0            NaN             NaN  \n",
       "1            NaN             NaN  \n",
       "2            NaN             NaN  \n",
       "3            NaN             NaN  \n",
       "4            NaN             NaN  \n",
       "\n",
       "[5 rows x 22 columns]"
      ]
     },
     "execution_count": 9,
     "metadata": {},
     "output_type": "execute_result"
    }
   ],
   "source": [
    "Data = pd.read_csv(\"KAMPALA 2022.csv\")\n",
    "Data.head()"
   ]
  },
  {
   "cell_type": "markdown",
   "metadata": {},
   "source": [
    "#### Maximum number of Samples collected from each location"
   ]
  },
  {
   "cell_type": "code",
   "execution_count": 10,
   "metadata": {},
   "outputs": [
    {
     "name": "stdout",
     "output_type": "stream",
     "text": [
      "        Sample Description  Count\n",
      "26       Bugolobi Hospital     12\n",
      "98      Bweyogerere market      9\n",
      "324          Luzira market      9\n",
      "213               Kiira TC      9\n",
      "273               Kungu TC      8\n",
      "280    Kyebando Kisalosalo      8\n",
      "619       Wandegeya market      8\n",
      "590  St. Luke C.O.U Ntinda      8\n",
      "564           Seeta market      8\n",
      "406             Mukono UCU      8\n"
     ]
    },
    {
     "data": {
      "text/plain": [
       "<matplotlib.axes._subplots.AxesSubplot at 0x20bbdfa35e0>"
      ]
     },
     "execution_count": 10,
     "metadata": {},
     "output_type": "execute_result"
    },
    {
     "data": {
      "image/png": "[encoded data removed]",
      "text/plain": [
       "<Figure size 720x504 with 1 Axes>"
      ]
     },
     "metadata": {
      "needs_background": "light"
     },
     "output_type": "display_data"
    }
   ],
   "source": [
    "count = Data.groupby(['Sample Description']).count()['Electrical Conductivty (µs/cm)']\n",
    "max_count = count.reset_index(name='Count').sort_values(['Count'], ascending=False)\n",
    "count_ten = max_count.head(10)\n",
    "print(count_ten)\n",
    "count_ten.plot(x='Sample Description', kind='bar',figsize=(10,7))"
   ]
  },
  {
   "cell_type": "code",
   "execution_count": 11,
   "metadata": {},
   "outputs": [
    {
     "data": {
      "text/html": [
       "<div>\n",
       "<style scoped>\n",
       "    .dataframe tbody tr th:only-of-type {\n",
       "        vertical-align: middle;\n",
       "    }\n",
       "\n",
       "    .dataframe tbody tr th {\n",
       "        vertical-align: top;\n",
       "    }\n",
       "\n",
       "    .dataframe thead th {\n",
       "        text-align: right;\n",
       "    }\n",
       "</style>\n",
       "<table border=\"1\" class=\"dataframe\">\n",
       "  <thead>\n",
       "    <tr style=\"text-align: right;\">\n",
       "      <th></th>\n",
       "      <th>Electrical Conductivty (µs/cm)</th>\n",
       "      <th>pH (pH Units)</th>\n",
       "      <th>Turbidty (NTU)</th>\n",
       "      <th>Apparent Colour (PtCo)</th>\n",
       "      <th>True Colour (TCU)</th>\n",
       "      <th>Esherichia coliform (CFU/100 mL)</th>\n",
       "      <th>Feacal coliform (CFU/100 mL)</th>\n",
       "      <th>Total coliforms (CFU/100 mL)</th>\n",
       "      <th>Residual Cl2 (mg/L)</th>\n",
       "      <th>Residual Total Cl2 (mg/L)</th>\n",
       "      <th>TSS (mg/L)</th>\n",
       "      <th>Total Alkalinity (mg/L)</th>\n",
       "      <th>Total Hardness (mg/L)</th>\n",
       "      <th>Total Iron (mg/L)</th>\n",
       "      <th>Residual Aluminium (mg/L)</th>\n",
       "      <th>SO42-  (mg/L)</th>\n",
       "      <th>Chloride (mg/L)</th>\n",
       "    </tr>\n",
       "  </thead>\n",
       "  <tbody>\n",
       "    <tr>\n",
       "      <th>0</th>\n",
       "      <td>139.6</td>\n",
       "      <td>6.78</td>\n",
       "      <td>0.296</td>\n",
       "      <td>4</td>\n",
       "      <td>0</td>\n",
       "      <td>0</td>\n",
       "      <td>0</td>\n",
       "      <td>0</td>\n",
       "      <td>0.35</td>\n",
       "      <td>0.55</td>\n",
       "      <td>ND</td>\n",
       "      <td>NaN</td>\n",
       "      <td>NaN</td>\n",
       "      <td>NaN</td>\n",
       "      <td>NaN</td>\n",
       "      <td>NaN</td>\n",
       "      <td>NaN</td>\n",
       "    </tr>\n",
       "    <tr>\n",
       "      <th>1</th>\n",
       "      <td>140.6</td>\n",
       "      <td>6.83</td>\n",
       "      <td>0.561</td>\n",
       "      <td>6</td>\n",
       "      <td>0</td>\n",
       "      <td>0</td>\n",
       "      <td>0</td>\n",
       "      <td>0</td>\n",
       "      <td>0.40</td>\n",
       "      <td>0.6</td>\n",
       "      <td>ND</td>\n",
       "      <td>NaN</td>\n",
       "      <td>NaN</td>\n",
       "      <td>NaN</td>\n",
       "      <td>NaN</td>\n",
       "      <td>NaN</td>\n",
       "      <td>NaN</td>\n",
       "    </tr>\n",
       "    <tr>\n",
       "      <th>2</th>\n",
       "      <td>141.2</td>\n",
       "      <td>6.88</td>\n",
       "      <td>0.173</td>\n",
       "      <td>0</td>\n",
       "      <td>0</td>\n",
       "      <td>0</td>\n",
       "      <td>0</td>\n",
       "      <td>0</td>\n",
       "      <td>0.40</td>\n",
       "      <td>0.6</td>\n",
       "      <td>ND</td>\n",
       "      <td>NaN</td>\n",
       "      <td>NaN</td>\n",
       "      <td>NaN</td>\n",
       "      <td>NaN</td>\n",
       "      <td>NaN</td>\n",
       "      <td>NaN</td>\n",
       "    </tr>\n",
       "    <tr>\n",
       "      <th>3</th>\n",
       "      <td>138.7</td>\n",
       "      <td>6.73</td>\n",
       "      <td>0.789</td>\n",
       "      <td>8</td>\n",
       "      <td>0</td>\n",
       "      <td>0</td>\n",
       "      <td>0</td>\n",
       "      <td>0</td>\n",
       "      <td>0.40</td>\n",
       "      <td>0.6</td>\n",
       "      <td>ND</td>\n",
       "      <td>NaN</td>\n",
       "      <td>NaN</td>\n",
       "      <td>NaN</td>\n",
       "      <td>NaN</td>\n",
       "      <td>NaN</td>\n",
       "      <td>NaN</td>\n",
       "    </tr>\n",
       "    <tr>\n",
       "      <th>4</th>\n",
       "      <td>139.6</td>\n",
       "      <td>6.96</td>\n",
       "      <td>0.395</td>\n",
       "      <td>4</td>\n",
       "      <td>0</td>\n",
       "      <td>0</td>\n",
       "      <td>0</td>\n",
       "      <td>0</td>\n",
       "      <td>0.35</td>\n",
       "      <td>0.65</td>\n",
       "      <td>ND</td>\n",
       "      <td>NaN</td>\n",
       "      <td>NaN</td>\n",
       "      <td>NaN</td>\n",
       "      <td>NaN</td>\n",
       "      <td>NaN</td>\n",
       "      <td>NaN</td>\n",
       "    </tr>\n",
       "    <tr>\n",
       "      <th>...</th>\n",
       "      <td>...</td>\n",
       "      <td>...</td>\n",
       "      <td>...</td>\n",
       "      <td>...</td>\n",
       "      <td>...</td>\n",
       "      <td>...</td>\n",
       "      <td>...</td>\n",
       "      <td>...</td>\n",
       "      <td>...</td>\n",
       "      <td>...</td>\n",
       "      <td>...</td>\n",
       "      <td>...</td>\n",
       "      <td>...</td>\n",
       "      <td>...</td>\n",
       "      <td>...</td>\n",
       "      <td>...</td>\n",
       "      <td>...</td>\n",
       "    </tr>\n",
       "    <tr>\n",
       "      <th>1755</th>\n",
       "      <td>128.4</td>\n",
       "      <td>7.19</td>\n",
       "      <td>0.485</td>\n",
       "      <td>8</td>\n",
       "      <td>0</td>\n",
       "      <td>0</td>\n",
       "      <td>0</td>\n",
       "      <td>0</td>\n",
       "      <td>0.40</td>\n",
       "      <td>0.5</td>\n",
       "      <td>0</td>\n",
       "      <td>NaN</td>\n",
       "      <td>NaN</td>\n",
       "      <td>NaN</td>\n",
       "      <td>NaN</td>\n",
       "      <td>NaN</td>\n",
       "      <td>NaN</td>\n",
       "    </tr>\n",
       "    <tr>\n",
       "      <th>1756</th>\n",
       "      <td>125.6</td>\n",
       "      <td>7.28</td>\n",
       "      <td>0.290</td>\n",
       "      <td>3</td>\n",
       "      <td>0</td>\n",
       "      <td>0</td>\n",
       "      <td>0</td>\n",
       "      <td>0</td>\n",
       "      <td>0.50</td>\n",
       "      <td>0.6</td>\n",
       "      <td>0</td>\n",
       "      <td>NaN</td>\n",
       "      <td>NaN</td>\n",
       "      <td>NaN</td>\n",
       "      <td>NaN</td>\n",
       "      <td>NaN</td>\n",
       "      <td>NaN</td>\n",
       "    </tr>\n",
       "    <tr>\n",
       "      <th>1757</th>\n",
       "      <td>132.8</td>\n",
       "      <td>7.14</td>\n",
       "      <td>0.326</td>\n",
       "      <td>0</td>\n",
       "      <td>0</td>\n",
       "      <td>0</td>\n",
       "      <td>0</td>\n",
       "      <td>0</td>\n",
       "      <td>0.40</td>\n",
       "      <td>0.6</td>\n",
       "      <td>0</td>\n",
       "      <td>NaN</td>\n",
       "      <td>NaN</td>\n",
       "      <td>NaN</td>\n",
       "      <td>NaN</td>\n",
       "      <td>NaN</td>\n",
       "      <td>NaN</td>\n",
       "    </tr>\n",
       "    <tr>\n",
       "      <th>1758</th>\n",
       "      <td>130.9</td>\n",
       "      <td>7.06</td>\n",
       "      <td>0.351</td>\n",
       "      <td>3</td>\n",
       "      <td>0</td>\n",
       "      <td>0</td>\n",
       "      <td>0</td>\n",
       "      <td>0</td>\n",
       "      <td>0.50</td>\n",
       "      <td>0.7</td>\n",
       "      <td>0</td>\n",
       "      <td>NaN</td>\n",
       "      <td>NaN</td>\n",
       "      <td>NaN</td>\n",
       "      <td>NaN</td>\n",
       "      <td>NaN</td>\n",
       "      <td>NaN</td>\n",
       "    </tr>\n",
       "    <tr>\n",
       "      <th>1759</th>\n",
       "      <td>131.9</td>\n",
       "      <td>7.15</td>\n",
       "      <td>0.501</td>\n",
       "      <td>5</td>\n",
       "      <td>0</td>\n",
       "      <td>0</td>\n",
       "      <td>0</td>\n",
       "      <td>0</td>\n",
       "      <td>0.40</td>\n",
       "      <td>0.6</td>\n",
       "      <td>0</td>\n",
       "      <td>NaN</td>\n",
       "      <td>NaN</td>\n",
       "      <td>NaN</td>\n",
       "      <td>NaN</td>\n",
       "      <td>NaN</td>\n",
       "      <td>NaN</td>\n",
       "    </tr>\n",
       "  </tbody>\n",
       "</table>\n",
       "<p>1760 rows × 17 columns</p>\n",
       "</div>"
      ],
      "text/plain": [
       "      Electrical Conductivty (µs/cm)  pH (pH Units)  Turbidty (NTU)  \\\n",
       "0                              139.6           6.78           0.296   \n",
       "1                              140.6           6.83           0.561   \n",
       "2                              141.2           6.88           0.173   \n",
       "3                              138.7           6.73           0.789   \n",
       "4                              139.6           6.96           0.395   \n",
       "...                              ...            ...             ...   \n",
       "1755                           128.4           7.19           0.485   \n",
       "1756                           125.6           7.28           0.290   \n",
       "1757                           132.8           7.14           0.326   \n",
       "1758                           130.9           7.06           0.351   \n",
       "1759                           131.9           7.15           0.501   \n",
       "\n",
       "      Apparent Colour (PtCo)  True Colour (TCU)  \\\n",
       "0                          4                  0   \n",
       "1                          6                  0   \n",
       "2                          0                  0   \n",
       "3                          8                  0   \n",
       "4                          4                  0   \n",
       "...                      ...                ...   \n",
       "1755                       8                  0   \n",
       "1756                       3                  0   \n",
       "1757                       0                  0   \n",
       "1758                       3                  0   \n",
       "1759                       5                  0   \n",
       "\n",
       "      Esherichia coliform (CFU/100 mL)  Feacal coliform (CFU/100 mL)  \\\n",
       "0                                    0                             0   \n",
       "1                                    0                             0   \n",
       "2                                    0                             0   \n",
       "3                                    0                             0   \n",
       "4                                    0                             0   \n",
       "...                                ...                           ...   \n",
       "1755                                 0                             0   \n",
       "1756                                 0                             0   \n",
       "1757                                 0                             0   \n",
       "1758                                 0                             0   \n",
       "1759                                 0                             0   \n",
       "\n",
       "      Total coliforms (CFU/100 mL)  Residual Cl2 (mg/L)  \\\n",
       "0                                0                 0.35   \n",
       "1                                0                 0.40   \n",
       "2                                0                 0.40   \n",
       "3                                0                 0.40   \n",
       "4                                0                 0.35   \n",
       "...                            ...                  ...   \n",
       "1755                             0                 0.40   \n",
       "1756                             0                 0.50   \n",
       "1757                             0                 0.40   \n",
       "1758                             0                 0.50   \n",
       "1759                             0                 0.40   \n",
       "\n",
       "     Residual Total Cl2 (mg/L) TSS (mg/L) Total Alkalinity (mg/L)  \\\n",
       "0                         0.55         ND                     NaN   \n",
       "1                          0.6         ND                     NaN   \n",
       "2                          0.6         ND                     NaN   \n",
       "3                          0.6         ND                     NaN   \n",
       "4                         0.65         ND                     NaN   \n",
       "...                        ...        ...                     ...   \n",
       "1755                       0.5          0                     NaN   \n",
       "1756                       0.6          0                     NaN   \n",
       "1757                       0.6          0                     NaN   \n",
       "1758                       0.7          0                     NaN   \n",
       "1759                       0.6          0                     NaN   \n",
       "\n",
       "      Total Hardness (mg/L)  Total Iron (mg/L) Residual Aluminium (mg/L)  \\\n",
       "0                       NaN                NaN                       NaN   \n",
       "1                       NaN                NaN                       NaN   \n",
       "2                       NaN                NaN                       NaN   \n",
       "3                       NaN                NaN                       NaN   \n",
       "4                       NaN                NaN                       NaN   \n",
       "...                     ...                ...                       ...   \n",
       "1755                    NaN                NaN                       NaN   \n",
       "1756                    NaN                NaN                       NaN   \n",
       "1757                    NaN                NaN                       NaN   \n",
       "1758                    NaN                NaN                       NaN   \n",
       "1759                    NaN                NaN                       NaN   \n",
       "\n",
       "      SO42-  (mg/L)  Chloride (mg/L)  \n",
       "0               NaN              NaN  \n",
       "1               NaN              NaN  \n",
       "2               NaN              NaN  \n",
       "3               NaN              NaN  \n",
       "4               NaN              NaN  \n",
       "...             ...              ...  \n",
       "1755            NaN              NaN  \n",
       "1756            NaN              NaN  \n",
       "1757            NaN              NaN  \n",
       "1758            NaN              NaN  \n",
       "1759            NaN              NaN  \n",
       "\n",
       "[1760 rows x 17 columns]"
      ]
     },
     "execution_count": 11,
     "metadata": {},
     "output_type": "execute_result"
    }
   ],
   "source": [
    "data_set = Data.drop(['Lab No.','Zone','Sampling Date','Sample Description','Category'],axis=1)\n",
    "data_set"
   ]
  },
  {
   "cell_type": "markdown",
   "metadata": {},
   "source": [
    "### Dealing with Nan values"
   ]
  },
  {
   "cell_type": "code",
   "execution_count": 12,
   "metadata": {},
   "outputs": [
    {
     "data": {
      "text/html": [
       "<div>\n",
       "<style scoped>\n",
       "    .dataframe tbody tr th:only-of-type {\n",
       "        vertical-align: middle;\n",
       "    }\n",
       "\n",
       "    .dataframe tbody tr th {\n",
       "        vertical-align: top;\n",
       "    }\n",
       "\n",
       "    .dataframe thead th {\n",
       "        text-align: right;\n",
       "    }\n",
       "</style>\n",
       "<table border=\"1\" class=\"dataframe\">\n",
       "  <thead>\n",
       "    <tr style=\"text-align: right;\">\n",
       "      <th></th>\n",
       "      <th>Electrical Conductivty (µs/cm)</th>\n",
       "      <th>pH (pH Units)</th>\n",
       "      <th>Turbidty (NTU)</th>\n",
       "      <th>Apparent Colour (PtCo)</th>\n",
       "      <th>True Colour (TCU)</th>\n",
       "      <th>Esherichia coliform (CFU/100 mL)</th>\n",
       "      <th>Feacal coliform (CFU/100 mL)</th>\n",
       "      <th>Total coliforms (CFU/100 mL)</th>\n",
       "      <th>Residual Cl2 (mg/L)</th>\n",
       "      <th>Residual Total Cl2 (mg/L)</th>\n",
       "      <th>TSS (mg/L)</th>\n",
       "      <th>Total Alkalinity (mg/L)</th>\n",
       "      <th>Total Hardness (mg/L)</th>\n",
       "      <th>Total Iron (mg/L)</th>\n",
       "      <th>Residual Aluminium (mg/L)</th>\n",
       "      <th>SO42-  (mg/L)</th>\n",
       "      <th>Chloride (mg/L)</th>\n",
       "    </tr>\n",
       "  </thead>\n",
       "  <tbody>\n",
       "    <tr>\n",
       "      <th>0</th>\n",
       "      <td>False</td>\n",
       "      <td>False</td>\n",
       "      <td>False</td>\n",
       "      <td>False</td>\n",
       "      <td>False</td>\n",
       "      <td>False</td>\n",
       "      <td>False</td>\n",
       "      <td>False</td>\n",
       "      <td>False</td>\n",
       "      <td>False</td>\n",
       "      <td>False</td>\n",
       "      <td>True</td>\n",
       "      <td>True</td>\n",
       "      <td>True</td>\n",
       "      <td>True</td>\n",
       "      <td>True</td>\n",
       "      <td>True</td>\n",
       "    </tr>\n",
       "    <tr>\n",
       "      <th>1</th>\n",
       "      <td>False</td>\n",
       "      <td>False</td>\n",
       "      <td>False</td>\n",
       "      <td>False</td>\n",
       "      <td>False</td>\n",
       "      <td>False</td>\n",
       "      <td>False</td>\n",
       "      <td>False</td>\n",
       "      <td>False</td>\n",
       "      <td>False</td>\n",
       "      <td>False</td>\n",
       "      <td>True</td>\n",
       "      <td>True</td>\n",
       "      <td>True</td>\n",
       "      <td>True</td>\n",
       "      <td>True</td>\n",
       "      <td>True</td>\n",
       "    </tr>\n",
       "    <tr>\n",
       "      <th>2</th>\n",
       "      <td>False</td>\n",
       "      <td>False</td>\n",
       "      <td>False</td>\n",
       "      <td>False</td>\n",
       "      <td>False</td>\n",
       "      <td>False</td>\n",
       "      <td>False</td>\n",
       "      <td>False</td>\n",
       "      <td>False</td>\n",
       "      <td>False</td>\n",
       "      <td>False</td>\n",
       "      <td>True</td>\n",
       "      <td>True</td>\n",
       "      <td>True</td>\n",
       "      <td>True</td>\n",
       "      <td>True</td>\n",
       "      <td>True</td>\n",
       "    </tr>\n",
       "    <tr>\n",
       "      <th>3</th>\n",
       "      <td>False</td>\n",
       "      <td>False</td>\n",
       "      <td>False</td>\n",
       "      <td>False</td>\n",
       "      <td>False</td>\n",
       "      <td>False</td>\n",
       "      <td>False</td>\n",
       "      <td>False</td>\n",
       "      <td>False</td>\n",
       "      <td>False</td>\n",
       "      <td>False</td>\n",
       "      <td>True</td>\n",
       "      <td>True</td>\n",
       "      <td>True</td>\n",
       "      <td>True</td>\n",
       "      <td>True</td>\n",
       "      <td>True</td>\n",
       "    </tr>\n",
       "    <tr>\n",
       "      <th>4</th>\n",
       "      <td>False</td>\n",
       "      <td>False</td>\n",
       "      <td>False</td>\n",
       "      <td>False</td>\n",
       "      <td>False</td>\n",
       "      <td>False</td>\n",
       "      <td>False</td>\n",
       "      <td>False</td>\n",
       "      <td>False</td>\n",
       "      <td>False</td>\n",
       "      <td>False</td>\n",
       "      <td>True</td>\n",
       "      <td>True</td>\n",
       "      <td>True</td>\n",
       "      <td>True</td>\n",
       "      <td>True</td>\n",
       "      <td>True</td>\n",
       "    </tr>\n",
       "    <tr>\n",
       "      <th>...</th>\n",
       "      <td>...</td>\n",
       "      <td>...</td>\n",
       "      <td>...</td>\n",
       "      <td>...</td>\n",
       "      <td>...</td>\n",
       "      <td>...</td>\n",
       "      <td>...</td>\n",
       "      <td>...</td>\n",
       "      <td>...</td>\n",
       "      <td>...</td>\n",
       "      <td>...</td>\n",
       "      <td>...</td>\n",
       "      <td>...</td>\n",
       "      <td>...</td>\n",
       "      <td>...</td>\n",
       "      <td>...</td>\n",
       "      <td>...</td>\n",
       "    </tr>\n",
       "    <tr>\n",
       "      <th>1755</th>\n",
       "      <td>False</td>\n",
       "      <td>False</td>\n",
       "      <td>False</td>\n",
       "      <td>False</td>\n",
       "      <td>False</td>\n",
       "      <td>False</td>\n",
       "      <td>False</td>\n",
       "      <td>False</td>\n",
       "      <td>False</td>\n",
       "      <td>False</td>\n",
       "      <td>False</td>\n",
       "      <td>True</td>\n",
       "      <td>True</td>\n",
       "      <td>True</td>\n",
       "      <td>True</td>\n",
       "      <td>True</td>\n",
       "      <td>True</td>\n",
       "    </tr>\n",
       "    <tr>\n",
       "      <th>1756</th>\n",
       "      <td>False</td>\n",
       "      <td>False</td>\n",
       "      <td>False</td>\n",
       "      <td>False</td>\n",
       "      <td>False</td>\n",
       "      <td>False</td>\n",
       "      <td>False</td>\n",
       "      <td>False</td>\n",
       "      <td>False</td>\n",
       "      <td>False</td>\n",
       "      <td>False</td>\n",
       "      <td>True</td>\n",
       "      <td>True</td>\n",
       "      <td>True</td>\n",
       "      <td>True</td>\n",
       "      <td>True</td>\n",
       "      <td>True</td>\n",
       "    </tr>\n",
       "    <tr>\n",
       "      <th>1757</th>\n",
       "      <td>False</td>\n",
       "      <td>False</td>\n",
       "      <td>False</td>\n",
       "      <td>False</td>\n",
       "      <td>False</td>\n",
       "      <td>False</td>\n",
       "      <td>False</td>\n",
       "      <td>False</td>\n",
       "      <td>False</td>\n",
       "      <td>False</td>\n",
       "      <td>False</td>\n",
       "      <td>True</td>\n",
       "      <td>True</td>\n",
       "      <td>True</td>\n",
       "      <td>True</td>\n",
       "      <td>True</td>\n",
       "      <td>True</td>\n",
       "    </tr>\n",
       "    <tr>\n",
       "      <th>1758</th>\n",
       "      <td>False</td>\n",
       "      <td>False</td>\n",
       "      <td>False</td>\n",
       "      <td>False</td>\n",
       "      <td>False</td>\n",
       "      <td>False</td>\n",
       "      <td>False</td>\n",
       "      <td>False</td>\n",
       "      <td>False</td>\n",
       "      <td>False</td>\n",
       "      <td>False</td>\n",
       "      <td>True</td>\n",
       "      <td>True</td>\n",
       "      <td>True</td>\n",
       "      <td>True</td>\n",
       "      <td>True</td>\n",
       "      <td>True</td>\n",
       "    </tr>\n",
       "    <tr>\n",
       "      <th>1759</th>\n",
       "      <td>False</td>\n",
       "      <td>False</td>\n",
       "      <td>False</td>\n",
       "      <td>False</td>\n",
       "      <td>False</td>\n",
       "      <td>False</td>\n",
       "      <td>False</td>\n",
       "      <td>False</td>\n",
       "      <td>False</td>\n",
       "      <td>False</td>\n",
       "      <td>False</td>\n",
       "      <td>True</td>\n",
       "      <td>True</td>\n",
       "      <td>True</td>\n",
       "      <td>True</td>\n",
       "      <td>True</td>\n",
       "      <td>True</td>\n",
       "    </tr>\n",
       "  </tbody>\n",
       "</table>\n",
       "<p>1760 rows × 17 columns</p>\n",
       "</div>"
      ],
      "text/plain": [
       "      Electrical Conductivty (µs/cm)  pH (pH Units)  Turbidty (NTU)  \\\n",
       "0                              False          False           False   \n",
       "1                              False          False           False   \n",
       "2                              False          False           False   \n",
       "3                              False          False           False   \n",
       "4                              False          False           False   \n",
       "...                              ...            ...             ...   \n",
       "1755                           False          False           False   \n",
       "1756                           False          False           False   \n",
       "1757                           False          False           False   \n",
       "1758                           False          False           False   \n",
       "1759                           False          False           False   \n",
       "\n",
       "      Apparent Colour (PtCo)  True Colour (TCU)  \\\n",
       "0                      False              False   \n",
       "1                      False              False   \n",
       "2                      False              False   \n",
       "3                      False              False   \n",
       "4                      False              False   \n",
       "...                      ...                ...   \n",
       "1755                   False              False   \n",
       "1756                   False              False   \n",
       "1757                   False              False   \n",
       "1758                   False              False   \n",
       "1759                   False              False   \n",
       "\n",
       "      Esherichia coliform (CFU/100 mL)  Feacal coliform (CFU/100 mL)  \\\n",
       "0                                False                         False   \n",
       "1                                False                         False   \n",
       "2                                False                         False   \n",
       "3                                False                         False   \n",
       "4                                False                         False   \n",
       "...                                ...                           ...   \n",
       "1755                             False                         False   \n",
       "1756                             False                         False   \n",
       "1757                             False                         False   \n",
       "1758                             False                         False   \n",
       "1759                             False                         False   \n",
       "\n",
       "      Total coliforms (CFU/100 mL)  Residual Cl2 (mg/L)  \\\n",
       "0                            False                False   \n",
       "1                            False                False   \n",
       "2                            False                False   \n",
       "3                            False                False   \n",
       "4                            False                False   \n",
       "...                            ...                  ...   \n",
       "1755                         False                False   \n",
       "1756                         False                False   \n",
       "1757                         False                False   \n",
       "1758                         False                False   \n",
       "1759                         False                False   \n",
       "\n",
       "      Residual Total Cl2 (mg/L)  TSS (mg/L)  Total Alkalinity (mg/L)  \\\n",
       "0                         False       False                     True   \n",
       "1                         False       False                     True   \n",
       "2                         False       False                     True   \n",
       "3                         False       False                     True   \n",
       "4                         False       False                     True   \n",
       "...                         ...         ...                      ...   \n",
       "1755                      False       False                     True   \n",
       "1756                      False       False                     True   \n",
       "1757                      False       False                     True   \n",
       "1758                      False       False                     True   \n",
       "1759                      False       False                     True   \n",
       "\n",
       "      Total Hardness (mg/L)  Total Iron (mg/L)  Residual Aluminium (mg/L)  \\\n",
       "0                      True               True                       True   \n",
       "1                      True               True                       True   \n",
       "2                      True               True                       True   \n",
       "3                      True               True                       True   \n",
       "4                      True               True                       True   \n",
       "...                     ...                ...                        ...   \n",
       "1755                   True               True                       True   \n",
       "1756                   True               True                       True   \n",
       "1757                   True               True                       True   \n",
       "1758                   True               True                       True   \n",
       "1759                   True               True                       True   \n",
       "\n",
       "      SO42-  (mg/L)  Chloride (mg/L)  \n",
       "0              True             True  \n",
       "1              True             True  \n",
       "2              True             True  \n",
       "3              True             True  \n",
       "4              True             True  \n",
       "...             ...              ...  \n",
       "1755           True             True  \n",
       "1756           True             True  \n",
       "1757           True             True  \n",
       "1758           True             True  \n",
       "1759           True             True  \n",
       "\n",
       "[1760 rows x 17 columns]"
      ]
     },
     "execution_count": 12,
     "metadata": {},
     "output_type": "execute_result"
    }
   ],
   "source": [
    "data_set.isna()"
   ]
  },
  {
   "cell_type": "code",
   "execution_count": 13,
   "metadata": {},
   "outputs": [
    {
     "name": "stdout",
     "output_type": "stream",
     "text": [
      "Number of nan values for alkalinity: 1565\n",
      "Number of nan values for hardness: 1566\n",
      "Number of nan values for iron: 1621\n",
      "Number of nan values for aluminium: 1636\n",
      "Number of nan values for sulphate: 1760\n",
      "Number of nan values for chloride: 1760\n"
     ]
    }
   ],
   "source": [
    "nan_alka = data_set['Total Alkalinity (mg/L)'].isna().sum()\n",
    "nan_hardness = data_set['Total Hardness (mg/L)'].isna().sum()\n",
    "nan_iron = data_set['Total Iron (mg/L)'].isna().sum()\n",
    "nan_al = data_set['Residual Aluminium (mg/L)'].isna().sum()\n",
    "nan_sulphate = data_set['SO42-  (mg/L)'].isna().sum()\n",
    "nan_chloride = data_set['Chloride (mg/L)'].isna().sum()\n",
    "print(\"Number of nan values for alkalinity:\",nan_alka)\n",
    "print(\"Number of nan values for hardness:\",nan_hardness)\n",
    "print(\"Number of nan values for iron:\",nan_iron)\n",
    "print(\"Number of nan values for aluminium:\",nan_al)\n",
    "print(\"Number of nan values for sulphate:\",nan_sulphate)\n",
    "print(\"Number of nan values for chloride:\",nan_chloride)"
   ]
  },
  {
   "cell_type": "code",
   "execution_count": 14,
   "metadata": {},
   "outputs": [
    {
     "data": {
      "text/plain": [
       "1760"
      ]
     },
     "execution_count": 14,
     "metadata": {},
     "output_type": "execute_result"
    }
   ],
   "source": [
    "data_set['True Colour (TCU)'].value_counts()[0]"
   ]
  },
  {
   "cell_type": "code",
   "execution_count": 15,
   "metadata": {},
   "outputs": [
    {
     "data": {
      "text/plain": [
       "148"
      ]
     },
     "execution_count": 15,
     "metadata": {},
     "output_type": "execute_result"
    }
   ],
   "source": [
    "data_set['TSS (mg/L)'].isna().sum()"
   ]
  },
  {
   "cell_type": "markdown",
   "metadata": {},
   "source": [
    "#### Removing Irrelevant columns"
   ]
  },
  {
   "cell_type": "code",
   "execution_count": 16,
   "metadata": {},
   "outputs": [
    {
     "data": {
      "text/html": [
       "<div>\n",
       "<style scoped>\n",
       "    .dataframe tbody tr th:only-of-type {\n",
       "        vertical-align: middle;\n",
       "    }\n",
       "\n",
       "    .dataframe tbody tr th {\n",
       "        vertical-align: top;\n",
       "    }\n",
       "\n",
       "    .dataframe thead th {\n",
       "        text-align: right;\n",
       "    }\n",
       "</style>\n",
       "<table border=\"1\" class=\"dataframe\">\n",
       "  <thead>\n",
       "    <tr style=\"text-align: right;\">\n",
       "      <th></th>\n",
       "      <th>Electrical Conductivty (µs/cm)</th>\n",
       "      <th>pH (pH Units)</th>\n",
       "      <th>Turbidty (NTU)</th>\n",
       "      <th>Apparent Colour (PtCo)</th>\n",
       "      <th>Residual Cl2 (mg/L)</th>\n",
       "    </tr>\n",
       "  </thead>\n",
       "  <tbody>\n",
       "    <tr>\n",
       "      <th>0</th>\n",
       "      <td>139.6</td>\n",
       "      <td>6.78</td>\n",
       "      <td>0.296</td>\n",
       "      <td>4</td>\n",
       "      <td>0.35</td>\n",
       "    </tr>\n",
       "    <tr>\n",
       "      <th>1</th>\n",
       "      <td>140.6</td>\n",
       "      <td>6.83</td>\n",
       "      <td>0.561</td>\n",
       "      <td>6</td>\n",
       "      <td>0.40</td>\n",
       "    </tr>\n",
       "    <tr>\n",
       "      <th>2</th>\n",
       "      <td>141.2</td>\n",
       "      <td>6.88</td>\n",
       "      <td>0.173</td>\n",
       "      <td>0</td>\n",
       "      <td>0.40</td>\n",
       "    </tr>\n",
       "    <tr>\n",
       "      <th>3</th>\n",
       "      <td>138.7</td>\n",
       "      <td>6.73</td>\n",
       "      <td>0.789</td>\n",
       "      <td>8</td>\n",
       "      <td>0.40</td>\n",
       "    </tr>\n",
       "    <tr>\n",
       "      <th>4</th>\n",
       "      <td>139.6</td>\n",
       "      <td>6.96</td>\n",
       "      <td>0.395</td>\n",
       "      <td>4</td>\n",
       "      <td>0.35</td>\n",
       "    </tr>\n",
       "    <tr>\n",
       "      <th>...</th>\n",
       "      <td>...</td>\n",
       "      <td>...</td>\n",
       "      <td>...</td>\n",
       "      <td>...</td>\n",
       "      <td>...</td>\n",
       "    </tr>\n",
       "    <tr>\n",
       "      <th>1755</th>\n",
       "      <td>128.4</td>\n",
       "      <td>7.19</td>\n",
       "      <td>0.485</td>\n",
       "      <td>8</td>\n",
       "      <td>0.40</td>\n",
       "    </tr>\n",
       "    <tr>\n",
       "      <th>1756</th>\n",
       "      <td>125.6</td>\n",
       "      <td>7.28</td>\n",
       "      <td>0.290</td>\n",
       "      <td>3</td>\n",
       "      <td>0.50</td>\n",
       "    </tr>\n",
       "    <tr>\n",
       "      <th>1757</th>\n",
       "      <td>132.8</td>\n",
       "      <td>7.14</td>\n",
       "      <td>0.326</td>\n",
       "      <td>0</td>\n",
       "      <td>0.40</td>\n",
       "    </tr>\n",
       "    <tr>\n",
       "      <th>1758</th>\n",
       "      <td>130.9</td>\n",
       "      <td>7.06</td>\n",
       "      <td>0.351</td>\n",
       "      <td>3</td>\n",
       "      <td>0.50</td>\n",
       "    </tr>\n",
       "    <tr>\n",
       "      <th>1759</th>\n",
       "      <td>131.9</td>\n",
       "      <td>7.15</td>\n",
       "      <td>0.501</td>\n",
       "      <td>5</td>\n",
       "      <td>0.40</td>\n",
       "    </tr>\n",
       "  </tbody>\n",
       "</table>\n",
       "<p>1760 rows × 5 columns</p>\n",
       "</div>"
      ],
      "text/plain": [
       "      Electrical Conductivty (µs/cm)  pH (pH Units)  Turbidty (NTU)  \\\n",
       "0                              139.6           6.78           0.296   \n",
       "1                              140.6           6.83           0.561   \n",
       "2                              141.2           6.88           0.173   \n",
       "3                              138.7           6.73           0.789   \n",
       "4                              139.6           6.96           0.395   \n",
       "...                              ...            ...             ...   \n",
       "1755                           128.4           7.19           0.485   \n",
       "1756                           125.6           7.28           0.290   \n",
       "1757                           132.8           7.14           0.326   \n",
       "1758                           130.9           7.06           0.351   \n",
       "1759                           131.9           7.15           0.501   \n",
       "\n",
       "      Apparent Colour (PtCo)  Residual Cl2 (mg/L)  \n",
       "0                          4                 0.35  \n",
       "1                          6                 0.40  \n",
       "2                          0                 0.40  \n",
       "3                          8                 0.40  \n",
       "4                          4                 0.35  \n",
       "...                      ...                  ...  \n",
       "1755                       8                 0.40  \n",
       "1756                       3                 0.50  \n",
       "1757                       0                 0.40  \n",
       "1758                       3                 0.50  \n",
       "1759                       5                 0.40  \n",
       "\n",
       "[1760 rows x 5 columns]"
      ]
     },
     "execution_count": 16,
     "metadata": {},
     "output_type": "execute_result"
    }
   ],
   "source": [
    "n_data = data_set.drop(['TSS (mg/L)','Total Hardness (mg/L)','Total Alkalinity (mg/L)','Total Iron (mg/L)','Residual Aluminium (mg/L)','SO42-  (mg/L)','Chloride (mg/L)','True Colour (TCU)','Esherichia coliform (CFU/100 mL)','Feacal coliform (CFU/100 mL)','Total coliforms (CFU/100 mL)','Residual Total Cl2 (mg/L)'],axis=1)\n",
    "n_data"
   ]
  },
  {
   "cell_type": "code",
   "execution_count": 17,
   "metadata": {},
   "outputs": [
    {
     "data": {
      "text/html": [
       "<div>\n",
       "<style scoped>\n",
       "    .dataframe tbody tr th:only-of-type {\n",
       "        vertical-align: middle;\n",
       "    }\n",
       "\n",
       "    .dataframe tbody tr th {\n",
       "        vertical-align: top;\n",
       "    }\n",
       "\n",
       "    .dataframe thead th {\n",
       "        text-align: right;\n",
       "    }\n",
       "</style>\n",
       "<table border=\"1\" class=\"dataframe\">\n",
       "  <thead>\n",
       "    <tr style=\"text-align: right;\">\n",
       "      <th></th>\n",
       "      <th>Electrical Conductivty (µs/cm)</th>\n",
       "      <th>pH (pH Units)</th>\n",
       "      <th>Turbidty (NTU)</th>\n",
       "      <th>Apparent Colour (PtCo)</th>\n",
       "      <th>Residual Cl2 (mg/L)</th>\n",
       "    </tr>\n",
       "  </thead>\n",
       "  <tbody>\n",
       "    <tr>\n",
       "      <th>count</th>\n",
       "      <td>1760.000000</td>\n",
       "      <td>1755.000000</td>\n",
       "      <td>1760.000000</td>\n",
       "      <td>1760.000000</td>\n",
       "      <td>1754.000000</td>\n",
       "    </tr>\n",
       "    <tr>\n",
       "      <th>mean</th>\n",
       "      <td>125.534250</td>\n",
       "      <td>7.349045</td>\n",
       "      <td>0.531558</td>\n",
       "      <td>5.305682</td>\n",
       "      <td>0.324969</td>\n",
       "    </tr>\n",
       "    <tr>\n",
       "      <th>std</th>\n",
       "      <td>20.483945</td>\n",
       "      <td>0.354001</td>\n",
       "      <td>0.275412</td>\n",
       "      <td>4.104071</td>\n",
       "      <td>0.108187</td>\n",
       "    </tr>\n",
       "    <tr>\n",
       "      <th>min</th>\n",
       "      <td>96.100000</td>\n",
       "      <td>6.050000</td>\n",
       "      <td>0.037700</td>\n",
       "      <td>0.000000</td>\n",
       "      <td>0.050000</td>\n",
       "    </tr>\n",
       "    <tr>\n",
       "      <th>25%</th>\n",
       "      <td>112.250000</td>\n",
       "      <td>7.100000</td>\n",
       "      <td>0.388750</td>\n",
       "      <td>4.000000</td>\n",
       "      <td>0.250000</td>\n",
       "    </tr>\n",
       "    <tr>\n",
       "      <th>50%</th>\n",
       "      <td>122.790000</td>\n",
       "      <td>7.300000</td>\n",
       "      <td>0.483500</td>\n",
       "      <td>5.000000</td>\n",
       "      <td>0.300000</td>\n",
       "    </tr>\n",
       "    <tr>\n",
       "      <th>75%</th>\n",
       "      <td>134.225000</td>\n",
       "      <td>7.600000</td>\n",
       "      <td>0.603000</td>\n",
       "      <td>6.000000</td>\n",
       "      <td>0.400000</td>\n",
       "    </tr>\n",
       "    <tr>\n",
       "      <th>max</th>\n",
       "      <td>330.000000</td>\n",
       "      <td>8.560000</td>\n",
       "      <td>4.460000</td>\n",
       "      <td>46.000000</td>\n",
       "      <td>1.000000</td>\n",
       "    </tr>\n",
       "  </tbody>\n",
       "</table>\n",
       "</div>"
      ],
      "text/plain": [
       "       Electrical Conductivty (µs/cm)  pH (pH Units)  Turbidty (NTU)  \\\n",
       "count                     1760.000000    1755.000000     1760.000000   \n",
       "mean                       125.534250       7.349045        0.531558   \n",
       "std                         20.483945       0.354001        0.275412   \n",
       "min                         96.100000       6.050000        0.037700   \n",
       "25%                        112.250000       7.100000        0.388750   \n",
       "50%                        122.790000       7.300000        0.483500   \n",
       "75%                        134.225000       7.600000        0.603000   \n",
       "max                        330.000000       8.560000        4.460000   \n",
       "\n",
       "       Apparent Colour (PtCo)  Residual Cl2 (mg/L)  \n",
       "count             1760.000000          1754.000000  \n",
       "mean                 5.305682             0.324969  \n",
       "std                  4.104071             0.108187  \n",
       "min                  0.000000             0.050000  \n",
       "25%                  4.000000             0.250000  \n",
       "50%                  5.000000             0.300000  \n",
       "75%                  6.000000             0.400000  \n",
       "max                 46.000000             1.000000  "
      ]
     },
     "execution_count": 17,
     "metadata": {},
     "output_type": "execute_result"
    }
   ],
   "source": [
    "n_data.describe()"
   ]
  },
  {
   "cell_type": "code",
   "execution_count": 18,
   "metadata": {},
   "outputs": [
    {
     "data": {
      "text/plain": [
       "<matplotlib.axes._subplots.AxesSubplot at 0x20bc00cd0a0>"
      ]
     },
     "execution_count": 18,
     "metadata": {},
     "output_type": "execute_result"
    },
    {
     "data": {
      "image/png": "[encoded data removed]",
      "text/plain": [
       "<Figure size 432x288 with 2 Axes>"
      ]
     },
     "metadata": {
      "needs_background": "light"
     },
     "output_type": "display_data"
    }
   ],
   "source": [
    "sns.heatmap(n_data.isnull(),yticklabels=False,cbar='viridis')"
   ]
  },
  {
   "cell_type": "code",
   "execution_count": 19,
   "metadata": {},
   "outputs": [
    {
     "data": {
      "text/plain": [
       "Electrical Conductivty (µs/cm)    0\n",
       "pH (pH Units)                     5\n",
       "Turbidty (NTU)                    0\n",
       "Apparent Colour (PtCo)            0\n",
       "Residual Cl2 (mg/L)               6\n",
       "dtype: int64"
      ]
     },
     "execution_count": 19,
     "metadata": {},
     "output_type": "execute_result"
    }
   ],
   "source": [
    "n_data.isna().sum()"
   ]
  },
  {
   "cell_type": "code",
   "execution_count": 20,
   "metadata": {},
   "outputs": [
    {
     "data": {
      "text/plain": [
       "<matplotlib.axes._subplots.AxesSubplot at 0x20bc016fd30>"
      ]
     },
     "execution_count": 20,
     "metadata": {},
     "output_type": "execute_result"
    },
    {
     "data": {
      "image/png": "[encoded data removed]",
      "text/plain": [
       "<Figure size 432x288 with 1 Axes>"
      ]
     },
     "metadata": {
      "needs_background": "light"
     },
     "output_type": "display_data"
    }
   ],
   "source": [
    "sns.distplot(n_data['pH (pH Units)'].dropna(),kde = False,color='darkred',bins=30)\n"
   ]
  },
  {
   "cell_type": "code",
   "execution_count": 21,
   "metadata": {},
   "outputs": [
    {
     "data": {
      "text/plain": [
       "<matplotlib.axes._subplots.AxesSubplot at 0x20bc03c17c0>"
      ]
     },
     "execution_count": 21,
     "metadata": {},
     "output_type": "execute_result"
    },
    {
     "data": {
      "image/png": "[encoded data removed]",
      "text/plain": [
       "<Figure size 432x288 with 1 Axes>"
      ]
     },
     "metadata": {
      "needs_background": "light"
     },
     "output_type": "display_data"
    }
   ],
   "source": [
    "sns.distplot(n_data['Residual Cl2 (mg/L)'].dropna(),kde = False,color='darkred',bins=30)"
   ]
  },
  {
   "cell_type": "code",
   "execution_count": 22,
   "metadata": {},
   "outputs": [
    {
     "data": {
      "text/plain": [
       "Electrical Conductivty (µs/cm)    0\n",
       "pH (pH Units)                     0\n",
       "Turbidty (NTU)                    0\n",
       "Apparent Colour (PtCo)            0\n",
       "Residual Cl2 (mg/L)               0\n",
       "dtype: int64"
      ]
     },
     "execution_count": 22,
     "metadata": {},
     "output_type": "execute_result"
    }
   ],
   "source": [
    "# Replacing the nan values with median\n",
    "n_data.fillna(value=n_data['pH (pH Units)'].mean(), inplace=True)\n",
    "n_data.fillna(value=n_data['Residual Cl2 (mg/L)'].mean(), inplace=True)\n",
    "n_data.isna().sum()# checking for null values"
   ]
  },
  {
   "cell_type": "code",
   "execution_count": 23,
   "metadata": {},
   "outputs": [
    {
     "data": {
      "text/html": [
       "<div>\n",
       "<style scoped>\n",
       "    .dataframe tbody tr th:only-of-type {\n",
       "        vertical-align: middle;\n",
       "    }\n",
       "\n",
       "    .dataframe tbody tr th {\n",
       "        vertical-align: top;\n",
       "    }\n",
       "\n",
       "    .dataframe thead th {\n",
       "        text-align: right;\n",
       "    }\n",
       "</style>\n",
       "<table border=\"1\" class=\"dataframe\">\n",
       "  <thead>\n",
       "    <tr style=\"text-align: right;\">\n",
       "      <th></th>\n",
       "      <th>Electrical Conductivty (µs/cm)</th>\n",
       "      <th>pH (pH Units)</th>\n",
       "      <th>Turbidty (NTU)</th>\n",
       "      <th>Apparent Colour (PtCo)</th>\n",
       "      <th>Residual Cl2 (mg/L)</th>\n",
       "    </tr>\n",
       "  </thead>\n",
       "  <tbody>\n",
       "    <tr>\n",
       "      <th>0</th>\n",
       "      <td>139.6</td>\n",
       "      <td>6.78</td>\n",
       "      <td>0.296</td>\n",
       "      <td>4</td>\n",
       "      <td>0.35</td>\n",
       "    </tr>\n",
       "    <tr>\n",
       "      <th>1</th>\n",
       "      <td>140.6</td>\n",
       "      <td>6.83</td>\n",
       "      <td>0.561</td>\n",
       "      <td>6</td>\n",
       "      <td>0.40</td>\n",
       "    </tr>\n",
       "    <tr>\n",
       "      <th>2</th>\n",
       "      <td>141.2</td>\n",
       "      <td>6.88</td>\n",
       "      <td>0.173</td>\n",
       "      <td>0</td>\n",
       "      <td>0.40</td>\n",
       "    </tr>\n",
       "    <tr>\n",
       "      <th>3</th>\n",
       "      <td>138.7</td>\n",
       "      <td>6.73</td>\n",
       "      <td>0.789</td>\n",
       "      <td>8</td>\n",
       "      <td>0.40</td>\n",
       "    </tr>\n",
       "    <tr>\n",
       "      <th>4</th>\n",
       "      <td>139.6</td>\n",
       "      <td>6.96</td>\n",
       "      <td>0.395</td>\n",
       "      <td>4</td>\n",
       "      <td>0.35</td>\n",
       "    </tr>\n",
       "    <tr>\n",
       "      <th>...</th>\n",
       "      <td>...</td>\n",
       "      <td>...</td>\n",
       "      <td>...</td>\n",
       "      <td>...</td>\n",
       "      <td>...</td>\n",
       "    </tr>\n",
       "    <tr>\n",
       "      <th>1755</th>\n",
       "      <td>128.4</td>\n",
       "      <td>7.19</td>\n",
       "      <td>0.485</td>\n",
       "      <td>8</td>\n",
       "      <td>0.40</td>\n",
       "    </tr>\n",
       "    <tr>\n",
       "      <th>1756</th>\n",
       "      <td>125.6</td>\n",
       "      <td>7.28</td>\n",
       "      <td>0.290</td>\n",
       "      <td>3</td>\n",
       "      <td>0.50</td>\n",
       "    </tr>\n",
       "    <tr>\n",
       "      <th>1757</th>\n",
       "      <td>132.8</td>\n",
       "      <td>7.14</td>\n",
       "      <td>0.326</td>\n",
       "      <td>0</td>\n",
       "      <td>0.40</td>\n",
       "    </tr>\n",
       "    <tr>\n",
       "      <th>1758</th>\n",
       "      <td>130.9</td>\n",
       "      <td>7.06</td>\n",
       "      <td>0.351</td>\n",
       "      <td>3</td>\n",
       "      <td>0.50</td>\n",
       "    </tr>\n",
       "    <tr>\n",
       "      <th>1759</th>\n",
       "      <td>131.9</td>\n",
       "      <td>7.15</td>\n",
       "      <td>0.501</td>\n",
       "      <td>5</td>\n",
       "      <td>0.40</td>\n",
       "    </tr>\n",
       "  </tbody>\n",
       "</table>\n",
       "<p>1760 rows × 5 columns</p>\n",
       "</div>"
      ],
      "text/plain": [
       "      Electrical Conductivty (µs/cm)  pH (pH Units)  Turbidty (NTU)  \\\n",
       "0                              139.6           6.78           0.296   \n",
       "1                              140.6           6.83           0.561   \n",
       "2                              141.2           6.88           0.173   \n",
       "3                              138.7           6.73           0.789   \n",
       "4                              139.6           6.96           0.395   \n",
       "...                              ...            ...             ...   \n",
       "1755                           128.4           7.19           0.485   \n",
       "1756                           125.6           7.28           0.290   \n",
       "1757                           132.8           7.14           0.326   \n",
       "1758                           130.9           7.06           0.351   \n",
       "1759                           131.9           7.15           0.501   \n",
       "\n",
       "      Apparent Colour (PtCo)  Residual Cl2 (mg/L)  \n",
       "0                          4                 0.35  \n",
       "1                          6                 0.40  \n",
       "2                          0                 0.40  \n",
       "3                          8                 0.40  \n",
       "4                          4                 0.35  \n",
       "...                      ...                  ...  \n",
       "1755                       8                 0.40  \n",
       "1756                       3                 0.50  \n",
       "1757                       0                 0.40  \n",
       "1758                       3                 0.50  \n",
       "1759                       5                 0.40  \n",
       "\n",
       "[1760 rows x 5 columns]"
      ]
     },
     "execution_count": 23,
     "metadata": {},
     "output_type": "execute_result"
    }
   ],
   "source": [
    "n_data"
   ]
  },
  {
   "cell_type": "markdown",
   "metadata": {},
   "source": [
    "### Calculating the Water Quality Index"
   ]
  },
  {
   "cell_type": "markdown",
   "metadata": {},
   "source": [
    "#### Unit Weight"
   ]
  },
  {
   "cell_type": "code",
   "execution_count": 24,
   "metadata": {},
   "outputs": [
    {
     "data": {
      "text/html": [
       "<div>\n",
       "<style scoped>\n",
       "    .dataframe tbody tr th:only-of-type {\n",
       "        vertical-align: middle;\n",
       "    }\n",
       "\n",
       "    .dataframe tbody tr th {\n",
       "        vertical-align: top;\n",
       "    }\n",
       "\n",
       "    .dataframe thead th {\n",
       "        text-align: right;\n",
       "    }\n",
       "</style>\n",
       "<table border=\"1\" class=\"dataframe\">\n",
       "  <thead>\n",
       "    <tr style=\"text-align: right;\">\n",
       "      <th></th>\n",
       "      <th>Electrical Conductivty (µs/cm)</th>\n",
       "      <th>pH (pH Units)</th>\n",
       "      <th>Turbidty (NTU)</th>\n",
       "      <th>Apparent Colour (PtCo)</th>\n",
       "      <th>Residual Cl2 (mg/L)</th>\n",
       "      <th>Conductivity_Wn</th>\n",
       "      <th>Ph_Wn</th>\n",
       "      <th>Turbidity_Wn</th>\n",
       "      <th>Colour_Wn</th>\n",
       "      <th>Cl2_Wn</th>\n",
       "    </tr>\n",
       "  </thead>\n",
       "  <tbody>\n",
       "    <tr>\n",
       "      <th>0</th>\n",
       "      <td>139.6</td>\n",
       "      <td>6.78</td>\n",
       "      <td>0.296</td>\n",
       "      <td>4</td>\n",
       "      <td>0.35</td>\n",
       "      <td>0.000419</td>\n",
       "      <td>0.049318</td>\n",
       "      <td>0.08384</td>\n",
       "      <td>0.027947</td>\n",
       "      <td>0.8384</td>\n",
       "    </tr>\n",
       "    <tr>\n",
       "      <th>1</th>\n",
       "      <td>140.6</td>\n",
       "      <td>6.83</td>\n",
       "      <td>0.561</td>\n",
       "      <td>6</td>\n",
       "      <td>0.40</td>\n",
       "      <td>0.000419</td>\n",
       "      <td>0.049318</td>\n",
       "      <td>0.08384</td>\n",
       "      <td>0.027947</td>\n",
       "      <td>0.8384</td>\n",
       "    </tr>\n",
       "    <tr>\n",
       "      <th>2</th>\n",
       "      <td>141.2</td>\n",
       "      <td>6.88</td>\n",
       "      <td>0.173</td>\n",
       "      <td>0</td>\n",
       "      <td>0.40</td>\n",
       "      <td>0.000419</td>\n",
       "      <td>0.049318</td>\n",
       "      <td>0.08384</td>\n",
       "      <td>0.027947</td>\n",
       "      <td>0.8384</td>\n",
       "    </tr>\n",
       "    <tr>\n",
       "      <th>3</th>\n",
       "      <td>138.7</td>\n",
       "      <td>6.73</td>\n",
       "      <td>0.789</td>\n",
       "      <td>8</td>\n",
       "      <td>0.40</td>\n",
       "      <td>0.000419</td>\n",
       "      <td>0.049318</td>\n",
       "      <td>0.08384</td>\n",
       "      <td>0.027947</td>\n",
       "      <td>0.8384</td>\n",
       "    </tr>\n",
       "    <tr>\n",
       "      <th>4</th>\n",
       "      <td>139.6</td>\n",
       "      <td>6.96</td>\n",
       "      <td>0.395</td>\n",
       "      <td>4</td>\n",
       "      <td>0.35</td>\n",
       "      <td>0.000419</td>\n",
       "      <td>0.049318</td>\n",
       "      <td>0.08384</td>\n",
       "      <td>0.027947</td>\n",
       "      <td>0.8384</td>\n",
       "    </tr>\n",
       "    <tr>\n",
       "      <th>...</th>\n",
       "      <td>...</td>\n",
       "      <td>...</td>\n",
       "      <td>...</td>\n",
       "      <td>...</td>\n",
       "      <td>...</td>\n",
       "      <td>...</td>\n",
       "      <td>...</td>\n",
       "      <td>...</td>\n",
       "      <td>...</td>\n",
       "      <td>...</td>\n",
       "    </tr>\n",
       "    <tr>\n",
       "      <th>1755</th>\n",
       "      <td>128.4</td>\n",
       "      <td>7.19</td>\n",
       "      <td>0.485</td>\n",
       "      <td>8</td>\n",
       "      <td>0.40</td>\n",
       "      <td>0.000419</td>\n",
       "      <td>0.049318</td>\n",
       "      <td>0.08384</td>\n",
       "      <td>0.027947</td>\n",
       "      <td>0.8384</td>\n",
       "    </tr>\n",
       "    <tr>\n",
       "      <th>1756</th>\n",
       "      <td>125.6</td>\n",
       "      <td>7.28</td>\n",
       "      <td>0.290</td>\n",
       "      <td>3</td>\n",
       "      <td>0.50</td>\n",
       "      <td>0.000419</td>\n",
       "      <td>0.049318</td>\n",
       "      <td>0.08384</td>\n",
       "      <td>0.027947</td>\n",
       "      <td>0.8384</td>\n",
       "    </tr>\n",
       "    <tr>\n",
       "      <th>1757</th>\n",
       "      <td>132.8</td>\n",
       "      <td>7.14</td>\n",
       "      <td>0.326</td>\n",
       "      <td>0</td>\n",
       "      <td>0.40</td>\n",
       "      <td>0.000419</td>\n",
       "      <td>0.049318</td>\n",
       "      <td>0.08384</td>\n",
       "      <td>0.027947</td>\n",
       "      <td>0.8384</td>\n",
       "    </tr>\n",
       "    <tr>\n",
       "      <th>1758</th>\n",
       "      <td>130.9</td>\n",
       "      <td>7.06</td>\n",
       "      <td>0.351</td>\n",
       "      <td>3</td>\n",
       "      <td>0.50</td>\n",
       "      <td>0.000419</td>\n",
       "      <td>0.049318</td>\n",
       "      <td>0.08384</td>\n",
       "      <td>0.027947</td>\n",
       "      <td>0.8384</td>\n",
       "    </tr>\n",
       "    <tr>\n",
       "      <th>1759</th>\n",
       "      <td>131.9</td>\n",
       "      <td>7.15</td>\n",
       "      <td>0.501</td>\n",
       "      <td>5</td>\n",
       "      <td>0.40</td>\n",
       "      <td>0.000419</td>\n",
       "      <td>0.049318</td>\n",
       "      <td>0.08384</td>\n",
       "      <td>0.027947</td>\n",
       "      <td>0.8384</td>\n",
       "    </tr>\n",
       "  </tbody>\n",
       "</table>\n",
       "<p>1760 rows × 10 columns</p>\n",
       "</div>"
      ],
      "text/plain": [
       "      Electrical Conductivty (µs/cm)  pH (pH Units)  Turbidty (NTU)  \\\n",
       "0                              139.6           6.78           0.296   \n",
       "1                              140.6           6.83           0.561   \n",
       "2                              141.2           6.88           0.173   \n",
       "3                              138.7           6.73           0.789   \n",
       "4                              139.6           6.96           0.395   \n",
       "...                              ...            ...             ...   \n",
       "1755                           128.4           7.19           0.485   \n",
       "1756                           125.6           7.28           0.290   \n",
       "1757                           132.8           7.14           0.326   \n",
       "1758                           130.9           7.06           0.351   \n",
       "1759                           131.9           7.15           0.501   \n",
       "\n",
       "      Apparent Colour (PtCo)  Residual Cl2 (mg/L)  Conductivity_Wn     Ph_Wn  \\\n",
       "0                          4                 0.35         0.000419  0.049318   \n",
       "1                          6                 0.40         0.000419  0.049318   \n",
       "2                          0                 0.40         0.000419  0.049318   \n",
       "3                          8                 0.40         0.000419  0.049318   \n",
       "4                          4                 0.35         0.000419  0.049318   \n",
       "...                      ...                  ...              ...       ...   \n",
       "1755                       8                 0.40         0.000419  0.049318   \n",
       "1756                       3                 0.50         0.000419  0.049318   \n",
       "1757                       0                 0.40         0.000419  0.049318   \n",
       "1758                       3                 0.50         0.000419  0.049318   \n",
       "1759                       5                 0.40         0.000419  0.049318   \n",
       "\n",
       "      Turbidity_Wn  Colour_Wn  Cl2_Wn  \n",
       "0          0.08384   0.027947  0.8384  \n",
       "1          0.08384   0.027947  0.8384  \n",
       "2          0.08384   0.027947  0.8384  \n",
       "3          0.08384   0.027947  0.8384  \n",
       "4          0.08384   0.027947  0.8384  \n",
       "...            ...        ...     ...  \n",
       "1755       0.08384   0.027947  0.8384  \n",
       "1756       0.08384   0.027947  0.8384  \n",
       "1757       0.08384   0.027947  0.8384  \n",
       "1758       0.08384   0.027947  0.8384  \n",
       "1759       0.08384   0.027947  0.8384  \n",
       "\n",
       "[1760 rows x 10 columns]"
      ]
     },
     "execution_count": 24,
     "metadata": {},
     "output_type": "execute_result"
    }
   ],
   "source": [
    "def unit_weight(Sn):\n",
    "    Wn = 0.4192/Sn\n",
    "    return Wn\n",
    "n_data['Conductivity_Wn'] = unit_weight(1000)\n",
    "n_data['Ph_Wn'] = unit_weight(8.5)\n",
    "n_data['Turbidity_Wn'] = unit_weight(5)\n",
    "n_data['Colour_Wn'] = unit_weight(15)\n",
    "n_data['Cl2_Wn'] = unit_weight(0.5)\n",
    "n_data"
   ]
  },
  {
   "cell_type": "code",
   "execution_count": 25,
   "metadata": {},
   "outputs": [
    {
     "data": {
      "text/html": [
       "<div>\n",
       "<style scoped>\n",
       "    .dataframe tbody tr th:only-of-type {\n",
       "        vertical-align: middle;\n",
       "    }\n",
       "\n",
       "    .dataframe tbody tr th {\n",
       "        vertical-align: top;\n",
       "    }\n",
       "\n",
       "    .dataframe thead th {\n",
       "        text-align: right;\n",
       "    }\n",
       "</style>\n",
       "<table border=\"1\" class=\"dataframe\">\n",
       "  <thead>\n",
       "    <tr style=\"text-align: right;\">\n",
       "      <th></th>\n",
       "      <th>Electrical Conductivty (µs/cm)</th>\n",
       "      <th>pH (pH Units)</th>\n",
       "      <th>Turbidty (NTU)</th>\n",
       "      <th>Apparent Colour (PtCo)</th>\n",
       "      <th>Residual Cl2 (mg/L)</th>\n",
       "      <th>Conductivity_Wn</th>\n",
       "      <th>Ph_Wn</th>\n",
       "      <th>Turbidity_Wn</th>\n",
       "      <th>Colour_Wn</th>\n",
       "      <th>Cl2_Wn</th>\n",
       "    </tr>\n",
       "  </thead>\n",
       "  <tbody>\n",
       "    <tr>\n",
       "      <th>count</th>\n",
       "      <td>1760.000000</td>\n",
       "      <td>1760.000000</td>\n",
       "      <td>1760.000000</td>\n",
       "      <td>1760.000000</td>\n",
       "      <td>1760.000000</td>\n",
       "      <td>1.760000e+03</td>\n",
       "      <td>1.760000e+03</td>\n",
       "      <td>1.760000e+03</td>\n",
       "      <td>1.760000e+03</td>\n",
       "      <td>1.760000e+03</td>\n",
       "    </tr>\n",
       "    <tr>\n",
       "      <th>mean</th>\n",
       "      <td>125.534250</td>\n",
       "      <td>7.349045</td>\n",
       "      <td>0.531558</td>\n",
       "      <td>5.305682</td>\n",
       "      <td>0.348914</td>\n",
       "      <td>4.192000e-04</td>\n",
       "      <td>4.931765e-02</td>\n",
       "      <td>8.384000e-02</td>\n",
       "      <td>2.794667e-02</td>\n",
       "      <td>8.384000e-01</td>\n",
       "    </tr>\n",
       "    <tr>\n",
       "      <th>std</th>\n",
       "      <td>20.483945</td>\n",
       "      <td>0.353498</td>\n",
       "      <td>0.275412</td>\n",
       "      <td>4.104071</td>\n",
       "      <td>0.423536</td>\n",
       "      <td>1.122468e-17</td>\n",
       "      <td>4.164520e-16</td>\n",
       "      <td>5.969145e-16</td>\n",
       "      <td>1.086246e-15</td>\n",
       "      <td>1.810178e-14</td>\n",
       "    </tr>\n",
       "    <tr>\n",
       "      <th>min</th>\n",
       "      <td>96.100000</td>\n",
       "      <td>6.050000</td>\n",
       "      <td>0.037700</td>\n",
       "      <td>0.000000</td>\n",
       "      <td>0.050000</td>\n",
       "      <td>4.192000e-04</td>\n",
       "      <td>4.931765e-02</td>\n",
       "      <td>8.384000e-02</td>\n",
       "      <td>2.794667e-02</td>\n",
       "      <td>8.384000e-01</td>\n",
       "    </tr>\n",
       "    <tr>\n",
       "      <th>25%</th>\n",
       "      <td>112.250000</td>\n",
       "      <td>7.100000</td>\n",
       "      <td>0.388750</td>\n",
       "      <td>4.000000</td>\n",
       "      <td>0.250000</td>\n",
       "      <td>4.192000e-04</td>\n",
       "      <td>4.931765e-02</td>\n",
       "      <td>8.384000e-02</td>\n",
       "      <td>2.794667e-02</td>\n",
       "      <td>8.384000e-01</td>\n",
       "    </tr>\n",
       "    <tr>\n",
       "      <th>50%</th>\n",
       "      <td>122.790000</td>\n",
       "      <td>7.300000</td>\n",
       "      <td>0.483500</td>\n",
       "      <td>5.000000</td>\n",
       "      <td>0.300000</td>\n",
       "      <td>4.192000e-04</td>\n",
       "      <td>4.931765e-02</td>\n",
       "      <td>8.384000e-02</td>\n",
       "      <td>2.794667e-02</td>\n",
       "      <td>8.384000e-01</td>\n",
       "    </tr>\n",
       "    <tr>\n",
       "      <th>75%</th>\n",
       "      <td>134.225000</td>\n",
       "      <td>7.600000</td>\n",
       "      <td>0.603000</td>\n",
       "      <td>6.000000</td>\n",
       "      <td>0.400000</td>\n",
       "      <td>4.192000e-04</td>\n",
       "      <td>4.931765e-02</td>\n",
       "      <td>8.384000e-02</td>\n",
       "      <td>2.794667e-02</td>\n",
       "      <td>8.384000e-01</td>\n",
       "    </tr>\n",
       "    <tr>\n",
       "      <th>max</th>\n",
       "      <td>330.000000</td>\n",
       "      <td>8.560000</td>\n",
       "      <td>4.460000</td>\n",
       "      <td>46.000000</td>\n",
       "      <td>7.349045</td>\n",
       "      <td>4.192000e-04</td>\n",
       "      <td>4.931765e-02</td>\n",
       "      <td>8.384000e-02</td>\n",
       "      <td>2.794667e-02</td>\n",
       "      <td>8.384000e-01</td>\n",
       "    </tr>\n",
       "  </tbody>\n",
       "</table>\n",
       "</div>"
      ],
      "text/plain": [
       "       Electrical Conductivty (µs/cm)  pH (pH Units)  Turbidty (NTU)  \\\n",
       "count                     1760.000000    1760.000000     1760.000000   \n",
       "mean                       125.534250       7.349045        0.531558   \n",
       "std                         20.483945       0.353498        0.275412   \n",
       "min                         96.100000       6.050000        0.037700   \n",
       "25%                        112.250000       7.100000        0.388750   \n",
       "50%                        122.790000       7.300000        0.483500   \n",
       "75%                        134.225000       7.600000        0.603000   \n",
       "max                        330.000000       8.560000        4.460000   \n",
       "\n",
       "       Apparent Colour (PtCo)  Residual Cl2 (mg/L)  Conductivity_Wn  \\\n",
       "count             1760.000000          1760.000000     1.760000e+03   \n",
       "mean                 5.305682             0.348914     4.192000e-04   \n",
       "std                  4.104071             0.423536     1.122468e-17   \n",
       "min                  0.000000             0.050000     4.192000e-04   \n",
       "25%                  4.000000             0.250000     4.192000e-04   \n",
       "50%                  5.000000             0.300000     4.192000e-04   \n",
       "75%                  6.000000             0.400000     4.192000e-04   \n",
       "max                 46.000000             7.349045     4.192000e-04   \n",
       "\n",
       "              Ph_Wn  Turbidity_Wn     Colour_Wn        Cl2_Wn  \n",
       "count  1.760000e+03  1.760000e+03  1.760000e+03  1.760000e+03  \n",
       "mean   4.931765e-02  8.384000e-02  2.794667e-02  8.384000e-01  \n",
       "std    4.164520e-16  5.969145e-16  1.086246e-15  1.810178e-14  \n",
       "min    4.931765e-02  8.384000e-02  2.794667e-02  8.384000e-01  \n",
       "25%    4.931765e-02  8.384000e-02  2.794667e-02  8.384000e-01  \n",
       "50%    4.931765e-02  8.384000e-02  2.794667e-02  8.384000e-01  \n",
       "75%    4.931765e-02  8.384000e-02  2.794667e-02  8.384000e-01  \n",
       "max    4.931765e-02  8.384000e-02  2.794667e-02  8.384000e-01  "
      ]
     },
     "execution_count": 25,
     "metadata": {},
     "output_type": "execute_result"
    }
   ],
   "source": [
    "n_data.describe()"
   ]
  },
  {
   "cell_type": "markdown",
   "metadata": {},
   "source": [
    "#### Sub-index"
   ]
  },
  {
   "cell_type": "code",
   "execution_count": 26,
   "metadata": {},
   "outputs": [
    {
     "data": {
      "text/html": [
       "<div>\n",
       "<style scoped>\n",
       "    .dataframe tbody tr th:only-of-type {\n",
       "        vertical-align: middle;\n",
       "    }\n",
       "\n",
       "    .dataframe tbody tr th {\n",
       "        vertical-align: top;\n",
       "    }\n",
       "\n",
       "    .dataframe thead th {\n",
       "        text-align: right;\n",
       "    }\n",
       "</style>\n",
       "<table border=\"1\" class=\"dataframe\">\n",
       "  <thead>\n",
       "    <tr style=\"text-align: right;\">\n",
       "      <th></th>\n",
       "      <th>Electrical Conductivty (µs/cm)</th>\n",
       "      <th>pH (pH Units)</th>\n",
       "      <th>Turbidty (NTU)</th>\n",
       "      <th>Apparent Colour (PtCo)</th>\n",
       "      <th>Residual Cl2 (mg/L)</th>\n",
       "      <th>Conductivity_Wn</th>\n",
       "      <th>Ph_Wn</th>\n",
       "      <th>Turbidity_Wn</th>\n",
       "      <th>Colour_Wn</th>\n",
       "      <th>Cl2_Wn</th>\n",
       "      <th>Conductivity_Qn</th>\n",
       "      <th>Ph_Qn</th>\n",
       "      <th>Turbidity_Qn</th>\n",
       "      <th>Colour_Qn</th>\n",
       "      <th>Cl2_Qn</th>\n",
       "    </tr>\n",
       "  </thead>\n",
       "  <tbody>\n",
       "    <tr>\n",
       "      <th>0</th>\n",
       "      <td>139.6</td>\n",
       "      <td>6.78</td>\n",
       "      <td>0.296</td>\n",
       "      <td>4</td>\n",
       "      <td>0.35</td>\n",
       "      <td>0.000419</td>\n",
       "      <td>0.049318</td>\n",
       "      <td>0.08384</td>\n",
       "      <td>0.027947</td>\n",
       "      <td>0.8384</td>\n",
       "      <td>13.96</td>\n",
       "      <td>-14.666667</td>\n",
       "      <td>5.92</td>\n",
       "      <td>26.666667</td>\n",
       "      <td>70.0</td>\n",
       "    </tr>\n",
       "    <tr>\n",
       "      <th>1</th>\n",
       "      <td>140.6</td>\n",
       "      <td>6.83</td>\n",
       "      <td>0.561</td>\n",
       "      <td>6</td>\n",
       "      <td>0.40</td>\n",
       "      <td>0.000419</td>\n",
       "      <td>0.049318</td>\n",
       "      <td>0.08384</td>\n",
       "      <td>0.027947</td>\n",
       "      <td>0.8384</td>\n",
       "      <td>14.06</td>\n",
       "      <td>-11.333333</td>\n",
       "      <td>11.22</td>\n",
       "      <td>40.000000</td>\n",
       "      <td>80.0</td>\n",
       "    </tr>\n",
       "    <tr>\n",
       "      <th>2</th>\n",
       "      <td>141.2</td>\n",
       "      <td>6.88</td>\n",
       "      <td>0.173</td>\n",
       "      <td>0</td>\n",
       "      <td>0.40</td>\n",
       "      <td>0.000419</td>\n",
       "      <td>0.049318</td>\n",
       "      <td>0.08384</td>\n",
       "      <td>0.027947</td>\n",
       "      <td>0.8384</td>\n",
       "      <td>14.12</td>\n",
       "      <td>-8.000000</td>\n",
       "      <td>3.46</td>\n",
       "      <td>0.000000</td>\n",
       "      <td>80.0</td>\n",
       "    </tr>\n",
       "    <tr>\n",
       "      <th>3</th>\n",
       "      <td>138.7</td>\n",
       "      <td>6.73</td>\n",
       "      <td>0.789</td>\n",
       "      <td>8</td>\n",
       "      <td>0.40</td>\n",
       "      <td>0.000419</td>\n",
       "      <td>0.049318</td>\n",
       "      <td>0.08384</td>\n",
       "      <td>0.027947</td>\n",
       "      <td>0.8384</td>\n",
       "      <td>13.87</td>\n",
       "      <td>-18.000000</td>\n",
       "      <td>15.78</td>\n",
       "      <td>53.333333</td>\n",
       "      <td>80.0</td>\n",
       "    </tr>\n",
       "    <tr>\n",
       "      <th>4</th>\n",
       "      <td>139.6</td>\n",
       "      <td>6.96</td>\n",
       "      <td>0.395</td>\n",
       "      <td>4</td>\n",
       "      <td>0.35</td>\n",
       "      <td>0.000419</td>\n",
       "      <td>0.049318</td>\n",
       "      <td>0.08384</td>\n",
       "      <td>0.027947</td>\n",
       "      <td>0.8384</td>\n",
       "      <td>13.96</td>\n",
       "      <td>-2.666667</td>\n",
       "      <td>7.90</td>\n",
       "      <td>26.666667</td>\n",
       "      <td>70.0</td>\n",
       "    </tr>\n",
       "    <tr>\n",
       "      <th>...</th>\n",
       "      <td>...</td>\n",
       "      <td>...</td>\n",
       "      <td>...</td>\n",
       "      <td>...</td>\n",
       "      <td>...</td>\n",
       "      <td>...</td>\n",
       "      <td>...</td>\n",
       "      <td>...</td>\n",
       "      <td>...</td>\n",
       "      <td>...</td>\n",
       "      <td>...</td>\n",
       "      <td>...</td>\n",
       "      <td>...</td>\n",
       "      <td>...</td>\n",
       "      <td>...</td>\n",
       "    </tr>\n",
       "    <tr>\n",
       "      <th>1755</th>\n",
       "      <td>128.4</td>\n",
       "      <td>7.19</td>\n",
       "      <td>0.485</td>\n",
       "      <td>8</td>\n",
       "      <td>0.40</td>\n",
       "      <td>0.000419</td>\n",
       "      <td>0.049318</td>\n",
       "      <td>0.08384</td>\n",
       "      <td>0.027947</td>\n",
       "      <td>0.8384</td>\n",
       "      <td>12.84</td>\n",
       "      <td>12.666667</td>\n",
       "      <td>9.70</td>\n",
       "      <td>53.333333</td>\n",
       "      <td>80.0</td>\n",
       "    </tr>\n",
       "    <tr>\n",
       "      <th>1756</th>\n",
       "      <td>125.6</td>\n",
       "      <td>7.28</td>\n",
       "      <td>0.290</td>\n",
       "      <td>3</td>\n",
       "      <td>0.50</td>\n",
       "      <td>0.000419</td>\n",
       "      <td>0.049318</td>\n",
       "      <td>0.08384</td>\n",
       "      <td>0.027947</td>\n",
       "      <td>0.8384</td>\n",
       "      <td>12.56</td>\n",
       "      <td>18.666667</td>\n",
       "      <td>5.80</td>\n",
       "      <td>20.000000</td>\n",
       "      <td>100.0</td>\n",
       "    </tr>\n",
       "    <tr>\n",
       "      <th>1757</th>\n",
       "      <td>132.8</td>\n",
       "      <td>7.14</td>\n",
       "      <td>0.326</td>\n",
       "      <td>0</td>\n",
       "      <td>0.40</td>\n",
       "      <td>0.000419</td>\n",
       "      <td>0.049318</td>\n",
       "      <td>0.08384</td>\n",
       "      <td>0.027947</td>\n",
       "      <td>0.8384</td>\n",
       "      <td>13.28</td>\n",
       "      <td>9.333333</td>\n",
       "      <td>6.52</td>\n",
       "      <td>0.000000</td>\n",
       "      <td>80.0</td>\n",
       "    </tr>\n",
       "    <tr>\n",
       "      <th>1758</th>\n",
       "      <td>130.9</td>\n",
       "      <td>7.06</td>\n",
       "      <td>0.351</td>\n",
       "      <td>3</td>\n",
       "      <td>0.50</td>\n",
       "      <td>0.000419</td>\n",
       "      <td>0.049318</td>\n",
       "      <td>0.08384</td>\n",
       "      <td>0.027947</td>\n",
       "      <td>0.8384</td>\n",
       "      <td>13.09</td>\n",
       "      <td>4.000000</td>\n",
       "      <td>7.02</td>\n",
       "      <td>20.000000</td>\n",
       "      <td>100.0</td>\n",
       "    </tr>\n",
       "    <tr>\n",
       "      <th>1759</th>\n",
       "      <td>131.9</td>\n",
       "      <td>7.15</td>\n",
       "      <td>0.501</td>\n",
       "      <td>5</td>\n",
       "      <td>0.40</td>\n",
       "      <td>0.000419</td>\n",
       "      <td>0.049318</td>\n",
       "      <td>0.08384</td>\n",
       "      <td>0.027947</td>\n",
       "      <td>0.8384</td>\n",
       "      <td>13.19</td>\n",
       "      <td>10.000000</td>\n",
       "      <td>10.02</td>\n",
       "      <td>33.333333</td>\n",
       "      <td>80.0</td>\n",
       "    </tr>\n",
       "  </tbody>\n",
       "</table>\n",
       "<p>1760 rows × 15 columns</p>\n",
       "</div>"
      ],
      "text/plain": [
       "      Electrical Conductivty (µs/cm)  pH (pH Units)  Turbidty (NTU)  \\\n",
       "0                              139.6           6.78           0.296   \n",
       "1                              140.6           6.83           0.561   \n",
       "2                              141.2           6.88           0.173   \n",
       "3                              138.7           6.73           0.789   \n",
       "4                              139.6           6.96           0.395   \n",
       "...                              ...            ...             ...   \n",
       "1755                           128.4           7.19           0.485   \n",
       "1756                           125.6           7.28           0.290   \n",
       "1757                           132.8           7.14           0.326   \n",
       "1758                           130.9           7.06           0.351   \n",
       "1759                           131.9           7.15           0.501   \n",
       "\n",
       "      Apparent Colour (PtCo)  Residual Cl2 (mg/L)  Conductivity_Wn     Ph_Wn  \\\n",
       "0                          4                 0.35         0.000419  0.049318   \n",
       "1                          6                 0.40         0.000419  0.049318   \n",
       "2                          0                 0.40         0.000419  0.049318   \n",
       "3                          8                 0.40         0.000419  0.049318   \n",
       "4                          4                 0.35         0.000419  0.049318   \n",
       "...                      ...                  ...              ...       ...   \n",
       "1755                       8                 0.40         0.000419  0.049318   \n",
       "1756                       3                 0.50         0.000419  0.049318   \n",
       "1757                       0                 0.40         0.000419  0.049318   \n",
       "1758                       3                 0.50         0.000419  0.049318   \n",
       "1759                       5                 0.40         0.000419  0.049318   \n",
       "\n",
       "      Turbidity_Wn  Colour_Wn  Cl2_Wn  Conductivity_Qn      Ph_Qn  \\\n",
       "0          0.08384   0.027947  0.8384            13.96 -14.666667   \n",
       "1          0.08384   0.027947  0.8384            14.06 -11.333333   \n",
       "2          0.08384   0.027947  0.8384            14.12  -8.000000   \n",
       "3          0.08384   0.027947  0.8384            13.87 -18.000000   \n",
       "4          0.08384   0.027947  0.8384            13.96  -2.666667   \n",
       "...            ...        ...     ...              ...        ...   \n",
       "1755       0.08384   0.027947  0.8384            12.84  12.666667   \n",
       "1756       0.08384   0.027947  0.8384            12.56  18.666667   \n",
       "1757       0.08384   0.027947  0.8384            13.28   9.333333   \n",
       "1758       0.08384   0.027947  0.8384            13.09   4.000000   \n",
       "1759       0.08384   0.027947  0.8384            13.19  10.000000   \n",
       "\n",
       "      Turbidity_Qn  Colour_Qn  Cl2_Qn  \n",
       "0             5.92  26.666667    70.0  \n",
       "1            11.22  40.000000    80.0  \n",
       "2             3.46   0.000000    80.0  \n",
       "3            15.78  53.333333    80.0  \n",
       "4             7.90  26.666667    70.0  \n",
       "...            ...        ...     ...  \n",
       "1755          9.70  53.333333    80.0  \n",
       "1756          5.80  20.000000   100.0  \n",
       "1757          6.52   0.000000    80.0  \n",
       "1758          7.02  20.000000   100.0  \n",
       "1759         10.02  33.333333    80.0  \n",
       "\n",
       "[1760 rows x 15 columns]"
      ]
     },
     "execution_count": 26,
     "metadata": {},
     "output_type": "execute_result"
    }
   ],
   "source": [
    "def sub_index(Vn,Sn):\n",
    "    Qn = ((Vn)/(Sn))*100\n",
    "    return Qn\n",
    "def ph_sub_index(Kn):\n",
    "    Pn = ((Kn-7)/(8.5-7))*100\n",
    "    return Pn\n",
    "n_data['Conductivity_Qn'] = sub_index(n_data['Electrical Conductivty (µs/cm)'],1000)\n",
    "n_data['Ph_Qn'] = ph_sub_index(n_data['pH (pH Units)'])\n",
    "n_data['Turbidity_Qn'] = sub_index(n_data['Turbidty (NTU)'],5.0)\n",
    "n_data['Colour_Qn'] = sub_index(n_data['Apparent Colour (PtCo)'],15)\n",
    "n_data['Cl2_Qn'] = sub_index(n_data['Residual Cl2 (mg/L)'],0.5)\n",
    "n_data"
   ]
  },
  {
   "cell_type": "markdown",
   "metadata": {},
   "source": [
    "#### WnQn"
   ]
  },
  {
   "cell_type": "code",
   "execution_count": 27,
   "metadata": {},
   "outputs": [
    {
     "data": {
      "text/html": [
       "<div>\n",
       "<style scoped>\n",
       "    .dataframe tbody tr th:only-of-type {\n",
       "        vertical-align: middle;\n",
       "    }\n",
       "\n",
       "    .dataframe tbody tr th {\n",
       "        vertical-align: top;\n",
       "    }\n",
       "\n",
       "    .dataframe thead th {\n",
       "        text-align: right;\n",
       "    }\n",
       "</style>\n",
       "<table border=\"1\" class=\"dataframe\">\n",
       "  <thead>\n",
       "    <tr style=\"text-align: right;\">\n",
       "      <th></th>\n",
       "      <th>Electrical Conductivty (µs/cm)</th>\n",
       "      <th>pH (pH Units)</th>\n",
       "      <th>Turbidty (NTU)</th>\n",
       "      <th>Apparent Colour (PtCo)</th>\n",
       "      <th>Residual Cl2 (mg/L)</th>\n",
       "      <th>Conductivity_Wn</th>\n",
       "      <th>Ph_Wn</th>\n",
       "      <th>Turbidity_Wn</th>\n",
       "      <th>Colour_Wn</th>\n",
       "      <th>Cl2_Wn</th>\n",
       "      <th>Conductivity_Qn</th>\n",
       "      <th>Ph_Qn</th>\n",
       "      <th>Turbidity_Qn</th>\n",
       "      <th>Colour_Qn</th>\n",
       "      <th>Cl2_Qn</th>\n",
       "      <th>sum_WnQn</th>\n",
       "    </tr>\n",
       "  </thead>\n",
       "  <tbody>\n",
       "    <tr>\n",
       "      <th>0</th>\n",
       "      <td>139.6</td>\n",
       "      <td>6.78</td>\n",
       "      <td>0.296</td>\n",
       "      <td>4</td>\n",
       "      <td>0.35</td>\n",
       "      <td>0.000419</td>\n",
       "      <td>0.049318</td>\n",
       "      <td>0.08384</td>\n",
       "      <td>0.027947</td>\n",
       "      <td>0.8384</td>\n",
       "      <td>13.96</td>\n",
       "      <td>-14.666667</td>\n",
       "      <td>5.92</td>\n",
       "      <td>26.666667</td>\n",
       "      <td>70.0</td>\n",
       "      <td>59.212104</td>\n",
       "    </tr>\n",
       "    <tr>\n",
       "      <th>1</th>\n",
       "      <td>140.6</td>\n",
       "      <td>6.83</td>\n",
       "      <td>0.561</td>\n",
       "      <td>6</td>\n",
       "      <td>0.40</td>\n",
       "      <td>0.000419</td>\n",
       "      <td>0.049318</td>\n",
       "      <td>0.08384</td>\n",
       "      <td>0.027947</td>\n",
       "      <td>0.8384</td>\n",
       "      <td>14.06</td>\n",
       "      <td>-11.333333</td>\n",
       "      <td>11.22</td>\n",
       "      <td>40.000000</td>\n",
       "      <td>80.0</td>\n",
       "      <td>68.577512</td>\n",
       "    </tr>\n",
       "    <tr>\n",
       "      <th>2</th>\n",
       "      <td>141.2</td>\n",
       "      <td>6.88</td>\n",
       "      <td>0.173</td>\n",
       "      <td>0</td>\n",
       "      <td>0.40</td>\n",
       "      <td>0.000419</td>\n",
       "      <td>0.049318</td>\n",
       "      <td>0.08384</td>\n",
       "      <td>0.027947</td>\n",
       "      <td>0.8384</td>\n",
       "      <td>14.12</td>\n",
       "      <td>-8.000000</td>\n",
       "      <td>3.46</td>\n",
       "      <td>0.000000</td>\n",
       "      <td>80.0</td>\n",
       "      <td>66.973464</td>\n",
       "    </tr>\n",
       "    <tr>\n",
       "      <th>3</th>\n",
       "      <td>138.7</td>\n",
       "      <td>6.73</td>\n",
       "      <td>0.789</td>\n",
       "      <td>8</td>\n",
       "      <td>0.40</td>\n",
       "      <td>0.000419</td>\n",
       "      <td>0.049318</td>\n",
       "      <td>0.08384</td>\n",
       "      <td>0.027947</td>\n",
       "      <td>0.8384</td>\n",
       "      <td>13.87</td>\n",
       "      <td>-18.000000</td>\n",
       "      <td>15.78</td>\n",
       "      <td>53.333333</td>\n",
       "      <td>80.0</td>\n",
       "      <td>69.003581</td>\n",
       "    </tr>\n",
       "    <tr>\n",
       "      <th>4</th>\n",
       "      <td>139.6</td>\n",
       "      <td>6.96</td>\n",
       "      <td>0.395</td>\n",
       "      <td>4</td>\n",
       "      <td>0.35</td>\n",
       "      <td>0.000419</td>\n",
       "      <td>0.049318</td>\n",
       "      <td>0.08384</td>\n",
       "      <td>0.027947</td>\n",
       "      <td>0.8384</td>\n",
       "      <td>13.96</td>\n",
       "      <td>-2.666667</td>\n",
       "      <td>7.90</td>\n",
       "      <td>26.666667</td>\n",
       "      <td>70.0</td>\n",
       "      <td>59.969919</td>\n",
       "    </tr>\n",
       "    <tr>\n",
       "      <th>...</th>\n",
       "      <td>...</td>\n",
       "      <td>...</td>\n",
       "      <td>...</td>\n",
       "      <td>...</td>\n",
       "      <td>...</td>\n",
       "      <td>...</td>\n",
       "      <td>...</td>\n",
       "      <td>...</td>\n",
       "      <td>...</td>\n",
       "      <td>...</td>\n",
       "      <td>...</td>\n",
       "      <td>...</td>\n",
       "      <td>...</td>\n",
       "      <td>...</td>\n",
       "      <td>...</td>\n",
       "      <td>...</td>\n",
       "    </tr>\n",
       "    <tr>\n",
       "      <th>1755</th>\n",
       "      <td>128.4</td>\n",
       "      <td>7.19</td>\n",
       "      <td>0.485</td>\n",
       "      <td>8</td>\n",
       "      <td>0.40</td>\n",
       "      <td>0.000419</td>\n",
       "      <td>0.049318</td>\n",
       "      <td>0.08384</td>\n",
       "      <td>0.027947</td>\n",
       "      <td>0.8384</td>\n",
       "      <td>12.84</td>\n",
       "      <td>12.666667</td>\n",
       "      <td>9.70</td>\n",
       "      <td>53.333333</td>\n",
       "      <td>80.0</td>\n",
       "      <td>70.005810</td>\n",
       "    </tr>\n",
       "    <tr>\n",
       "      <th>1756</th>\n",
       "      <td>125.6</td>\n",
       "      <td>7.28</td>\n",
       "      <td>0.290</td>\n",
       "      <td>3</td>\n",
       "      <td>0.50</td>\n",
       "      <td>0.000419</td>\n",
       "      <td>0.049318</td>\n",
       "      <td>0.08384</td>\n",
       "      <td>0.027947</td>\n",
       "      <td>0.8384</td>\n",
       "      <td>12.56</td>\n",
       "      <td>18.666667</td>\n",
       "      <td>5.80</td>\n",
       "      <td>20.000000</td>\n",
       "      <td>100.0</td>\n",
       "      <td>85.811067</td>\n",
       "    </tr>\n",
       "    <tr>\n",
       "      <th>1757</th>\n",
       "      <td>132.8</td>\n",
       "      <td>7.14</td>\n",
       "      <td>0.326</td>\n",
       "      <td>0</td>\n",
       "      <td>0.40</td>\n",
       "      <td>0.000419</td>\n",
       "      <td>0.049318</td>\n",
       "      <td>0.08384</td>\n",
       "      <td>0.027947</td>\n",
       "      <td>0.8384</td>\n",
       "      <td>13.28</td>\n",
       "      <td>9.333333</td>\n",
       "      <td>6.52</td>\n",
       "      <td>0.000000</td>\n",
       "      <td>80.0</td>\n",
       "      <td>68.084502</td>\n",
       "    </tr>\n",
       "    <tr>\n",
       "      <th>1758</th>\n",
       "      <td>130.9</td>\n",
       "      <td>7.06</td>\n",
       "      <td>0.351</td>\n",
       "      <td>3</td>\n",
       "      <td>0.50</td>\n",
       "      <td>0.000419</td>\n",
       "      <td>0.049318</td>\n",
       "      <td>0.08384</td>\n",
       "      <td>0.027947</td>\n",
       "      <td>0.8384</td>\n",
       "      <td>13.09</td>\n",
       "      <td>4.000000</td>\n",
       "      <td>7.02</td>\n",
       "      <td>20.000000</td>\n",
       "      <td>100.0</td>\n",
       "      <td>85.190248</td>\n",
       "    </tr>\n",
       "    <tr>\n",
       "      <th>1759</th>\n",
       "      <td>131.9</td>\n",
       "      <td>7.15</td>\n",
       "      <td>0.501</td>\n",
       "      <td>5</td>\n",
       "      <td>0.40</td>\n",
       "      <td>0.000419</td>\n",
       "      <td>0.049318</td>\n",
       "      <td>0.08384</td>\n",
       "      <td>0.027947</td>\n",
       "      <td>0.8384</td>\n",
       "      <td>13.19</td>\n",
       "      <td>10.000000</td>\n",
       "      <td>10.02</td>\n",
       "      <td>33.333333</td>\n",
       "      <td>80.0</td>\n",
       "      <td>69.342338</td>\n",
       "    </tr>\n",
       "  </tbody>\n",
       "</table>\n",
       "<p>1760 rows × 16 columns</p>\n",
       "</div>"
      ],
      "text/plain": [
       "      Electrical Conductivty (µs/cm)  pH (pH Units)  Turbidty (NTU)  \\\n",
       "0                              139.6           6.78           0.296   \n",
       "1                              140.6           6.83           0.561   \n",
       "2                              141.2           6.88           0.173   \n",
       "3                              138.7           6.73           0.789   \n",
       "4                              139.6           6.96           0.395   \n",
       "...                              ...            ...             ...   \n",
       "1755                           128.4           7.19           0.485   \n",
       "1756                           125.6           7.28           0.290   \n",
       "1757                           132.8           7.14           0.326   \n",
       "1758                           130.9           7.06           0.351   \n",
       "1759                           131.9           7.15           0.501   \n",
       "\n",
       "      Apparent Colour (PtCo)  Residual Cl2 (mg/L)  Conductivity_Wn     Ph_Wn  \\\n",
       "0                          4                 0.35         0.000419  0.049318   \n",
       "1                          6                 0.40         0.000419  0.049318   \n",
       "2                          0                 0.40         0.000419  0.049318   \n",
       "3                          8                 0.40         0.000419  0.049318   \n",
       "4                          4                 0.35         0.000419  0.049318   \n",
       "...                      ...                  ...              ...       ...   \n",
       "1755                       8                 0.40         0.000419  0.049318   \n",
       "1756                       3                 0.50         0.000419  0.049318   \n",
       "1757                       0                 0.40         0.000419  0.049318   \n",
       "1758                       3                 0.50         0.000419  0.049318   \n",
       "1759                       5                 0.40         0.000419  0.049318   \n",
       "\n",
       "      Turbidity_Wn  Colour_Wn  Cl2_Wn  Conductivity_Qn      Ph_Qn  \\\n",
       "0          0.08384   0.027947  0.8384            13.96 -14.666667   \n",
       "1          0.08384   0.027947  0.8384            14.06 -11.333333   \n",
       "2          0.08384   0.027947  0.8384            14.12  -8.000000   \n",
       "3          0.08384   0.027947  0.8384            13.87 -18.000000   \n",
       "4          0.08384   0.027947  0.8384            13.96  -2.666667   \n",
       "...            ...        ...     ...              ...        ...   \n",
       "1755       0.08384   0.027947  0.8384            12.84  12.666667   \n",
       "1756       0.08384   0.027947  0.8384            12.56  18.666667   \n",
       "1757       0.08384   0.027947  0.8384            13.28   9.333333   \n",
       "1758       0.08384   0.027947  0.8384            13.09   4.000000   \n",
       "1759       0.08384   0.027947  0.8384            13.19  10.000000   \n",
       "\n",
       "      Turbidity_Qn  Colour_Qn  Cl2_Qn   sum_WnQn  \n",
       "0             5.92  26.666667    70.0  59.212104  \n",
       "1            11.22  40.000000    80.0  68.577512  \n",
       "2             3.46   0.000000    80.0  66.973464  \n",
       "3            15.78  53.333333    80.0  69.003581  \n",
       "4             7.90  26.666667    70.0  59.969919  \n",
       "...            ...        ...     ...        ...  \n",
       "1755          9.70  53.333333    80.0  70.005810  \n",
       "1756          5.80  20.000000   100.0  85.811067  \n",
       "1757          6.52   0.000000    80.0  68.084502  \n",
       "1758          7.02  20.000000   100.0  85.190248  \n",
       "1759         10.02  33.333333    80.0  69.342338  \n",
       "\n",
       "[1760 rows x 16 columns]"
      ]
     },
     "execution_count": 27,
     "metadata": {},
     "output_type": "execute_result"
    }
   ],
   "source": [
    "Conductivity_WnQn = n_data['Conductivity_Qn']*n_data['Conductivity_Wn']\n",
    "Ph_WnQn = n_data['Ph_Qn']*n_data['Ph_Wn']\n",
    "Turbidty_WnQn = n_data['Turbidity_Qn']*n_data['Turbidity_Wn']\n",
    "Colour_WnQn = n_data['Colour_Qn']*n_data['Colour_Wn']\n",
    "Cl2_WnQn = n_data['Cl2_Qn']*n_data['Cl2_Wn']\n",
    "n_data['sum_WnQn'] = Conductivity_WnQn+Ph_WnQn+Turbidty_WnQn+Colour_WnQn+Cl2_WnQn\n",
    "n_data"
   ]
  },
  {
   "cell_type": "markdown",
   "metadata": {},
   "source": [
    "#### sum_Wn"
   ]
  },
  {
   "cell_type": "code",
   "execution_count": 28,
   "metadata": {},
   "outputs": [
    {
     "data": {
      "text/html": [
       "<div>\n",
       "<style scoped>\n",
       "    .dataframe tbody tr th:only-of-type {\n",
       "        vertical-align: middle;\n",
       "    }\n",
       "\n",
       "    .dataframe tbody tr th {\n",
       "        vertical-align: top;\n",
       "    }\n",
       "\n",
       "    .dataframe thead th {\n",
       "        text-align: right;\n",
       "    }\n",
       "</style>\n",
       "<table border=\"1\" class=\"dataframe\">\n",
       "  <thead>\n",
       "    <tr style=\"text-align: right;\">\n",
       "      <th></th>\n",
       "      <th>Electrical Conductivty (µs/cm)</th>\n",
       "      <th>pH (pH Units)</th>\n",
       "      <th>Turbidty (NTU)</th>\n",
       "      <th>Apparent Colour (PtCo)</th>\n",
       "      <th>Residual Cl2 (mg/L)</th>\n",
       "      <th>Conductivity_Wn</th>\n",
       "      <th>Ph_Wn</th>\n",
       "      <th>Turbidity_Wn</th>\n",
       "      <th>Colour_Wn</th>\n",
       "      <th>Cl2_Wn</th>\n",
       "      <th>Conductivity_Qn</th>\n",
       "      <th>Ph_Qn</th>\n",
       "      <th>Turbidity_Qn</th>\n",
       "      <th>Colour_Qn</th>\n",
       "      <th>Cl2_Qn</th>\n",
       "      <th>sum_WnQn</th>\n",
       "      <th>sum_Wn</th>\n",
       "    </tr>\n",
       "  </thead>\n",
       "  <tbody>\n",
       "    <tr>\n",
       "      <th>0</th>\n",
       "      <td>139.6</td>\n",
       "      <td>6.78</td>\n",
       "      <td>0.296</td>\n",
       "      <td>4</td>\n",
       "      <td>0.35</td>\n",
       "      <td>0.000419</td>\n",
       "      <td>0.049318</td>\n",
       "      <td>0.08384</td>\n",
       "      <td>0.027947</td>\n",
       "      <td>0.8384</td>\n",
       "      <td>13.96</td>\n",
       "      <td>-14.666667</td>\n",
       "      <td>5.92</td>\n",
       "      <td>26.666667</td>\n",
       "      <td>70.0</td>\n",
       "      <td>59.212104</td>\n",
       "      <td>0.999924</td>\n",
       "    </tr>\n",
       "    <tr>\n",
       "      <th>1</th>\n",
       "      <td>140.6</td>\n",
       "      <td>6.83</td>\n",
       "      <td>0.561</td>\n",
       "      <td>6</td>\n",
       "      <td>0.40</td>\n",
       "      <td>0.000419</td>\n",
       "      <td>0.049318</td>\n",
       "      <td>0.08384</td>\n",
       "      <td>0.027947</td>\n",
       "      <td>0.8384</td>\n",
       "      <td>14.06</td>\n",
       "      <td>-11.333333</td>\n",
       "      <td>11.22</td>\n",
       "      <td>40.000000</td>\n",
       "      <td>80.0</td>\n",
       "      <td>68.577512</td>\n",
       "      <td>0.999924</td>\n",
       "    </tr>\n",
       "    <tr>\n",
       "      <th>2</th>\n",
       "      <td>141.2</td>\n",
       "      <td>6.88</td>\n",
       "      <td>0.173</td>\n",
       "      <td>0</td>\n",
       "      <td>0.40</td>\n",
       "      <td>0.000419</td>\n",
       "      <td>0.049318</td>\n",
       "      <td>0.08384</td>\n",
       "      <td>0.027947</td>\n",
       "      <td>0.8384</td>\n",
       "      <td>14.12</td>\n",
       "      <td>-8.000000</td>\n",
       "      <td>3.46</td>\n",
       "      <td>0.000000</td>\n",
       "      <td>80.0</td>\n",
       "      <td>66.973464</td>\n",
       "      <td>0.999924</td>\n",
       "    </tr>\n",
       "    <tr>\n",
       "      <th>3</th>\n",
       "      <td>138.7</td>\n",
       "      <td>6.73</td>\n",
       "      <td>0.789</td>\n",
       "      <td>8</td>\n",
       "      <td>0.40</td>\n",
       "      <td>0.000419</td>\n",
       "      <td>0.049318</td>\n",
       "      <td>0.08384</td>\n",
       "      <td>0.027947</td>\n",
       "      <td>0.8384</td>\n",
       "      <td>13.87</td>\n",
       "      <td>-18.000000</td>\n",
       "      <td>15.78</td>\n",
       "      <td>53.333333</td>\n",
       "      <td>80.0</td>\n",
       "      <td>69.003581</td>\n",
       "      <td>0.999924</td>\n",
       "    </tr>\n",
       "    <tr>\n",
       "      <th>4</th>\n",
       "      <td>139.6</td>\n",
       "      <td>6.96</td>\n",
       "      <td>0.395</td>\n",
       "      <td>4</td>\n",
       "      <td>0.35</td>\n",
       "      <td>0.000419</td>\n",
       "      <td>0.049318</td>\n",
       "      <td>0.08384</td>\n",
       "      <td>0.027947</td>\n",
       "      <td>0.8384</td>\n",
       "      <td>13.96</td>\n",
       "      <td>-2.666667</td>\n",
       "      <td>7.90</td>\n",
       "      <td>26.666667</td>\n",
       "      <td>70.0</td>\n",
       "      <td>59.969919</td>\n",
       "      <td>0.999924</td>\n",
       "    </tr>\n",
       "    <tr>\n",
       "      <th>...</th>\n",
       "      <td>...</td>\n",
       "      <td>...</td>\n",
       "      <td>...</td>\n",
       "      <td>...</td>\n",
       "      <td>...</td>\n",
       "      <td>...</td>\n",
       "      <td>...</td>\n",
       "      <td>...</td>\n",
       "      <td>...</td>\n",
       "      <td>...</td>\n",
       "      <td>...</td>\n",
       "      <td>...</td>\n",
       "      <td>...</td>\n",
       "      <td>...</td>\n",
       "      <td>...</td>\n",
       "      <td>...</td>\n",
       "      <td>...</td>\n",
       "    </tr>\n",
       "    <tr>\n",
       "      <th>1755</th>\n",
       "      <td>128.4</td>\n",
       "      <td>7.19</td>\n",
       "      <td>0.485</td>\n",
       "      <td>8</td>\n",
       "      <td>0.40</td>\n",
       "      <td>0.000419</td>\n",
       "      <td>0.049318</td>\n",
       "      <td>0.08384</td>\n",
       "      <td>0.027947</td>\n",
       "      <td>0.8384</td>\n",
       "      <td>12.84</td>\n",
       "      <td>12.666667</td>\n",
       "      <td>9.70</td>\n",
       "      <td>53.333333</td>\n",
       "      <td>80.0</td>\n",
       "      <td>70.005810</td>\n",
       "      <td>0.999924</td>\n",
       "    </tr>\n",
       "    <tr>\n",
       "      <th>1756</th>\n",
       "      <td>125.6</td>\n",
       "      <td>7.28</td>\n",
       "      <td>0.290</td>\n",
       "      <td>3</td>\n",
       "      <td>0.50</td>\n",
       "      <td>0.000419</td>\n",
       "      <td>0.049318</td>\n",
       "      <td>0.08384</td>\n",
       "      <td>0.027947</td>\n",
       "      <td>0.8384</td>\n",
       "      <td>12.56</td>\n",
       "      <td>18.666667</td>\n",
       "      <td>5.80</td>\n",
       "      <td>20.000000</td>\n",
       "      <td>100.0</td>\n",
       "      <td>85.811067</td>\n",
       "      <td>0.999924</td>\n",
       "    </tr>\n",
       "    <tr>\n",
       "      <th>1757</th>\n",
       "      <td>132.8</td>\n",
       "      <td>7.14</td>\n",
       "      <td>0.326</td>\n",
       "      <td>0</td>\n",
       "      <td>0.40</td>\n",
       "      <td>0.000419</td>\n",
       "      <td>0.049318</td>\n",
       "      <td>0.08384</td>\n",
       "      <td>0.027947</td>\n",
       "      <td>0.8384</td>\n",
       "      <td>13.28</td>\n",
       "      <td>9.333333</td>\n",
       "      <td>6.52</td>\n",
       "      <td>0.000000</td>\n",
       "      <td>80.0</td>\n",
       "      <td>68.084502</td>\n",
       "      <td>0.999924</td>\n",
       "    </tr>\n",
       "    <tr>\n",
       "      <th>1758</th>\n",
       "      <td>130.9</td>\n",
       "      <td>7.06</td>\n",
       "      <td>0.351</td>\n",
       "      <td>3</td>\n",
       "      <td>0.50</td>\n",
       "      <td>0.000419</td>\n",
       "      <td>0.049318</td>\n",
       "      <td>0.08384</td>\n",
       "      <td>0.027947</td>\n",
       "      <td>0.8384</td>\n",
       "      <td>13.09</td>\n",
       "      <td>4.000000</td>\n",
       "      <td>7.02</td>\n",
       "      <td>20.000000</td>\n",
       "      <td>100.0</td>\n",
       "      <td>85.190248</td>\n",
       "      <td>0.999924</td>\n",
       "    </tr>\n",
       "    <tr>\n",
       "      <th>1759</th>\n",
       "      <td>131.9</td>\n",
       "      <td>7.15</td>\n",
       "      <td>0.501</td>\n",
       "      <td>5</td>\n",
       "      <td>0.40</td>\n",
       "      <td>0.000419</td>\n",
       "      <td>0.049318</td>\n",
       "      <td>0.08384</td>\n",
       "      <td>0.027947</td>\n",
       "      <td>0.8384</td>\n",
       "      <td>13.19</td>\n",
       "      <td>10.000000</td>\n",
       "      <td>10.02</td>\n",
       "      <td>33.333333</td>\n",
       "      <td>80.0</td>\n",
       "      <td>69.342338</td>\n",
       "      <td>0.999924</td>\n",
       "    </tr>\n",
       "  </tbody>\n",
       "</table>\n",
       "<p>1760 rows × 17 columns</p>\n",
       "</div>"
      ],
      "text/plain": [
       "      Electrical Conductivty (µs/cm)  pH (pH Units)  Turbidty (NTU)  \\\n",
       "0                              139.6           6.78           0.296   \n",
       "1                              140.6           6.83           0.561   \n",
       "2                              141.2           6.88           0.173   \n",
       "3                              138.7           6.73           0.789   \n",
       "4                              139.6           6.96           0.395   \n",
       "...                              ...            ...             ...   \n",
       "1755                           128.4           7.19           0.485   \n",
       "1756                           125.6           7.28           0.290   \n",
       "1757                           132.8           7.14           0.326   \n",
       "1758                           130.9           7.06           0.351   \n",
       "1759                           131.9           7.15           0.501   \n",
       "\n",
       "      Apparent Colour (PtCo)  Residual Cl2 (mg/L)  Conductivity_Wn     Ph_Wn  \\\n",
       "0                          4                 0.35         0.000419  0.049318   \n",
       "1                          6                 0.40         0.000419  0.049318   \n",
       "2                          0                 0.40         0.000419  0.049318   \n",
       "3                          8                 0.40         0.000419  0.049318   \n",
       "4                          4                 0.35         0.000419  0.049318   \n",
       "...                      ...                  ...              ...       ...   \n",
       "1755                       8                 0.40         0.000419  0.049318   \n",
       "1756                       3                 0.50         0.000419  0.049318   \n",
       "1757                       0                 0.40         0.000419  0.049318   \n",
       "1758                       3                 0.50         0.000419  0.049318   \n",
       "1759                       5                 0.40         0.000419  0.049318   \n",
       "\n",
       "      Turbidity_Wn  Colour_Wn  Cl2_Wn  Conductivity_Qn      Ph_Qn  \\\n",
       "0          0.08384   0.027947  0.8384            13.96 -14.666667   \n",
       "1          0.08384   0.027947  0.8384            14.06 -11.333333   \n",
       "2          0.08384   0.027947  0.8384            14.12  -8.000000   \n",
       "3          0.08384   0.027947  0.8384            13.87 -18.000000   \n",
       "4          0.08384   0.027947  0.8384            13.96  -2.666667   \n",
       "...            ...        ...     ...              ...        ...   \n",
       "1755       0.08384   0.027947  0.8384            12.84  12.666667   \n",
       "1756       0.08384   0.027947  0.8384            12.56  18.666667   \n",
       "1757       0.08384   0.027947  0.8384            13.28   9.333333   \n",
       "1758       0.08384   0.027947  0.8384            13.09   4.000000   \n",
       "1759       0.08384   0.027947  0.8384            13.19  10.000000   \n",
       "\n",
       "      Turbidity_Qn  Colour_Qn  Cl2_Qn   sum_WnQn    sum_Wn  \n",
       "0             5.92  26.666667    70.0  59.212104  0.999924  \n",
       "1            11.22  40.000000    80.0  68.577512  0.999924  \n",
       "2             3.46   0.000000    80.0  66.973464  0.999924  \n",
       "3            15.78  53.333333    80.0  69.003581  0.999924  \n",
       "4             7.90  26.666667    70.0  59.969919  0.999924  \n",
       "...            ...        ...     ...        ...       ...  \n",
       "1755          9.70  53.333333    80.0  70.005810  0.999924  \n",
       "1756          5.80  20.000000   100.0  85.811067  0.999924  \n",
       "1757          6.52   0.000000    80.0  68.084502  0.999924  \n",
       "1758          7.02  20.000000   100.0  85.190248  0.999924  \n",
       "1759         10.02  33.333333    80.0  69.342338  0.999924  \n",
       "\n",
       "[1760 rows x 17 columns]"
      ]
     },
     "execution_count": 28,
     "metadata": {},
     "output_type": "execute_result"
    }
   ],
   "source": [
    "n_data['sum_Wn'] = n_data['Conductivity_Wn'] + n_data['Ph_Wn'] + n_data['Turbidity_Wn'] + n_data['Colour_Wn']+ n_data['Cl2_Wn']\n",
    "n_data"
   ]
  },
  {
   "cell_type": "markdown",
   "metadata": {},
   "source": [
    "#### WQI"
   ]
  },
  {
   "cell_type": "code",
   "execution_count": 29,
   "metadata": {},
   "outputs": [
    {
     "data": {
      "text/html": [
       "<div>\n",
       "<style scoped>\n",
       "    .dataframe tbody tr th:only-of-type {\n",
       "        vertical-align: middle;\n",
       "    }\n",
       "\n",
       "    .dataframe tbody tr th {\n",
       "        vertical-align: top;\n",
       "    }\n",
       "\n",
       "    .dataframe thead th {\n",
       "        text-align: right;\n",
       "    }\n",
       "</style>\n",
       "<table border=\"1\" class=\"dataframe\">\n",
       "  <thead>\n",
       "    <tr style=\"text-align: right;\">\n",
       "      <th></th>\n",
       "      <th>Electrical Conductivty (µs/cm)</th>\n",
       "      <th>pH (pH Units)</th>\n",
       "      <th>Turbidty (NTU)</th>\n",
       "      <th>Apparent Colour (PtCo)</th>\n",
       "      <th>Residual Cl2 (mg/L)</th>\n",
       "      <th>Conductivity_Wn</th>\n",
       "      <th>Ph_Wn</th>\n",
       "      <th>Turbidity_Wn</th>\n",
       "      <th>Colour_Wn</th>\n",
       "      <th>Cl2_Wn</th>\n",
       "      <th>Conductivity_Qn</th>\n",
       "      <th>Ph_Qn</th>\n",
       "      <th>Turbidity_Qn</th>\n",
       "      <th>Colour_Qn</th>\n",
       "      <th>Cl2_Qn</th>\n",
       "      <th>sum_WnQn</th>\n",
       "      <th>sum_Wn</th>\n",
       "      <th>WQI</th>\n",
       "    </tr>\n",
       "  </thead>\n",
       "  <tbody>\n",
       "    <tr>\n",
       "      <th>count</th>\n",
       "      <td>1760.000000</td>\n",
       "      <td>1760.000000</td>\n",
       "      <td>1760.000000</td>\n",
       "      <td>1760.000000</td>\n",
       "      <td>1760.000000</td>\n",
       "      <td>1.760000e+03</td>\n",
       "      <td>1.760000e+03</td>\n",
       "      <td>1.760000e+03</td>\n",
       "      <td>1.760000e+03</td>\n",
       "      <td>1.760000e+03</td>\n",
       "      <td>1760.000000</td>\n",
       "      <td>1760.000000</td>\n",
       "      <td>1760.000000</td>\n",
       "      <td>1760.000000</td>\n",
       "      <td>1760.000000</td>\n",
       "      <td>1760.000000</td>\n",
       "      <td>1.760000e+03</td>\n",
       "      <td>1760.000000</td>\n",
       "    </tr>\n",
       "    <tr>\n",
       "      <th>mean</th>\n",
       "      <td>125.534250</td>\n",
       "      <td>7.349045</td>\n",
       "      <td>0.531558</td>\n",
       "      <td>5.305682</td>\n",
       "      <td>0.348914</td>\n",
       "      <td>4.192000e-04</td>\n",
       "      <td>4.931765e-02</td>\n",
       "      <td>8.384000e-02</td>\n",
       "      <td>2.794667e-02</td>\n",
       "      <td>8.384000e-01</td>\n",
       "      <td>12.553425</td>\n",
       "      <td>23.269668</td>\n",
       "      <td>10.631160</td>\n",
       "      <td>35.371212</td>\n",
       "      <td>69.782872</td>\n",
       "      <td>61.538651</td>\n",
       "      <td>9.999235e-01</td>\n",
       "      <td>61.543358</td>\n",
       "    </tr>\n",
       "    <tr>\n",
       "      <th>std</th>\n",
       "      <td>20.483945</td>\n",
       "      <td>0.353498</td>\n",
       "      <td>0.275412</td>\n",
       "      <td>4.104071</td>\n",
       "      <td>0.423536</td>\n",
       "      <td>1.122468e-17</td>\n",
       "      <td>4.164520e-16</td>\n",
       "      <td>5.969145e-16</td>\n",
       "      <td>1.086246e-15</td>\n",
       "      <td>1.810178e-14</td>\n",
       "      <td>2.048394</td>\n",
       "      <td>23.566531</td>\n",
       "      <td>5.508234</td>\n",
       "      <td>27.360476</td>\n",
       "      <td>84.707253</td>\n",
       "      <td>70.986461</td>\n",
       "      <td>3.920201e-14</td>\n",
       "      <td>70.991891</td>\n",
       "    </tr>\n",
       "    <tr>\n",
       "      <th>min</th>\n",
       "      <td>96.100000</td>\n",
       "      <td>6.050000</td>\n",
       "      <td>0.037700</td>\n",
       "      <td>0.000000</td>\n",
       "      <td>0.050000</td>\n",
       "      <td>4.192000e-04</td>\n",
       "      <td>4.931765e-02</td>\n",
       "      <td>8.384000e-02</td>\n",
       "      <td>2.794667e-02</td>\n",
       "      <td>8.384000e-01</td>\n",
       "      <td>9.610000</td>\n",
       "      <td>-63.333333</td>\n",
       "      <td>0.754000</td>\n",
       "      <td>0.000000</td>\n",
       "      <td>10.000000</td>\n",
       "      <td>8.334315</td>\n",
       "      <td>9.999235e-01</td>\n",
       "      <td>8.334953</td>\n",
       "    </tr>\n",
       "    <tr>\n",
       "      <th>25%</th>\n",
       "      <td>112.250000</td>\n",
       "      <td>7.100000</td>\n",
       "      <td>0.388750</td>\n",
       "      <td>4.000000</td>\n",
       "      <td>0.250000</td>\n",
       "      <td>4.192000e-04</td>\n",
       "      <td>4.931765e-02</td>\n",
       "      <td>8.384000e-02</td>\n",
       "      <td>2.794667e-02</td>\n",
       "      <td>8.384000e-01</td>\n",
       "      <td>11.225000</td>\n",
       "      <td>6.666667</td>\n",
       "      <td>7.775000</td>\n",
       "      <td>26.666667</td>\n",
       "      <td>50.000000</td>\n",
       "      <td>45.993536</td>\n",
       "      <td>9.999235e-01</td>\n",
       "      <td>45.997054</td>\n",
       "    </tr>\n",
       "    <tr>\n",
       "      <th>50%</th>\n",
       "      <td>122.790000</td>\n",
       "      <td>7.300000</td>\n",
       "      <td>0.483500</td>\n",
       "      <td>5.000000</td>\n",
       "      <td>0.300000</td>\n",
       "      <td>4.192000e-04</td>\n",
       "      <td>4.931765e-02</td>\n",
       "      <td>8.384000e-02</td>\n",
       "      <td>2.794667e-02</td>\n",
       "      <td>8.384000e-01</td>\n",
       "      <td>12.279000</td>\n",
       "      <td>20.000000</td>\n",
       "      <td>9.670000</td>\n",
       "      <td>33.333333</td>\n",
       "      <td>60.000000</td>\n",
       "      <td>54.567559</td>\n",
       "      <td>9.999235e-01</td>\n",
       "      <td>54.571733</td>\n",
       "    </tr>\n",
       "    <tr>\n",
       "      <th>75%</th>\n",
       "      <td>134.225000</td>\n",
       "      <td>7.600000</td>\n",
       "      <td>0.603000</td>\n",
       "      <td>6.000000</td>\n",
       "      <td>0.400000</td>\n",
       "      <td>4.192000e-04</td>\n",
       "      <td>4.931765e-02</td>\n",
       "      <td>8.384000e-02</td>\n",
       "      <td>2.794667e-02</td>\n",
       "      <td>8.384000e-01</td>\n",
       "      <td>13.422500</td>\n",
       "      <td>40.000000</td>\n",
       "      <td>12.060000</td>\n",
       "      <td>40.000000</td>\n",
       "      <td>80.000000</td>\n",
       "      <td>69.795941</td>\n",
       "      <td>9.999235e-01</td>\n",
       "      <td>69.801280</td>\n",
       "    </tr>\n",
       "    <tr>\n",
       "      <th>max</th>\n",
       "      <td>330.000000</td>\n",
       "      <td>8.560000</td>\n",
       "      <td>4.460000</td>\n",
       "      <td>46.000000</td>\n",
       "      <td>7.349045</td>\n",
       "      <td>4.192000e-04</td>\n",
       "      <td>4.931765e-02</td>\n",
       "      <td>8.384000e-02</td>\n",
       "      <td>2.794667e-02</td>\n",
       "      <td>8.384000e-01</td>\n",
       "      <td>33.000000</td>\n",
       "      <td>104.000000</td>\n",
       "      <td>89.200000</td>\n",
       "      <td>306.666667</td>\n",
       "      <td>1469.809003</td>\n",
       "      <td>1238.378461</td>\n",
       "      <td>9.999235e-01</td>\n",
       "      <td>1238.473187</td>\n",
       "    </tr>\n",
       "  </tbody>\n",
       "</table>\n",
       "</div>"
      ],
      "text/plain": [
       "       Electrical Conductivty (µs/cm)  pH (pH Units)  Turbidty (NTU)  \\\n",
       "count                     1760.000000    1760.000000     1760.000000   \n",
       "mean                       125.534250       7.349045        0.531558   \n",
       "std                         20.483945       0.353498        0.275412   \n",
       "min                         96.100000       6.050000        0.037700   \n",
       "25%                        112.250000       7.100000        0.388750   \n",
       "50%                        122.790000       7.300000        0.483500   \n",
       "75%                        134.225000       7.600000        0.603000   \n",
       "max                        330.000000       8.560000        4.460000   \n",
       "\n",
       "       Apparent Colour (PtCo)  Residual Cl2 (mg/L)  Conductivity_Wn  \\\n",
       "count             1760.000000          1760.000000     1.760000e+03   \n",
       "mean                 5.305682             0.348914     4.192000e-04   \n",
       "std                  4.104071             0.423536     1.122468e-17   \n",
       "min                  0.000000             0.050000     4.192000e-04   \n",
       "25%                  4.000000             0.250000     4.192000e-04   \n",
       "50%                  5.000000             0.300000     4.192000e-04   \n",
       "75%                  6.000000             0.400000     4.192000e-04   \n",
       "max                 46.000000             7.349045     4.192000e-04   \n",
       "\n",
       "              Ph_Wn  Turbidity_Wn     Colour_Wn        Cl2_Wn  \\\n",
       "count  1.760000e+03  1.760000e+03  1.760000e+03  1.760000e+03   \n",
       "mean   4.931765e-02  8.384000e-02  2.794667e-02  8.384000e-01   \n",
       "std    4.164520e-16  5.969145e-16  1.086246e-15  1.810178e-14   \n",
       "min    4.931765e-02  8.384000e-02  2.794667e-02  8.384000e-01   \n",
       "25%    4.931765e-02  8.384000e-02  2.794667e-02  8.384000e-01   \n",
       "50%    4.931765e-02  8.384000e-02  2.794667e-02  8.384000e-01   \n",
       "75%    4.931765e-02  8.384000e-02  2.794667e-02  8.384000e-01   \n",
       "max    4.931765e-02  8.384000e-02  2.794667e-02  8.384000e-01   \n",
       "\n",
       "       Conductivity_Qn        Ph_Qn  Turbidity_Qn    Colour_Qn       Cl2_Qn  \\\n",
       "count      1760.000000  1760.000000   1760.000000  1760.000000  1760.000000   \n",
       "mean         12.553425    23.269668     10.631160    35.371212    69.782872   \n",
       "std           2.048394    23.566531      5.508234    27.360476    84.707253   \n",
       "min           9.610000   -63.333333      0.754000     0.000000    10.000000   \n",
       "25%          11.225000     6.666667      7.775000    26.666667    50.000000   \n",
       "50%          12.279000    20.000000      9.670000    33.333333    60.000000   \n",
       "75%          13.422500    40.000000     12.060000    40.000000    80.000000   \n",
       "max          33.000000   104.000000     89.200000   306.666667  1469.809003   \n",
       "\n",
       "          sum_WnQn        sum_Wn          WQI  \n",
       "count  1760.000000  1.760000e+03  1760.000000  \n",
       "mean     61.538651  9.999235e-01    61.543358  \n",
       "std      70.986461  3.920201e-14    70.991891  \n",
       "min       8.334315  9.999235e-01     8.334953  \n",
       "25%      45.993536  9.999235e-01    45.997054  \n",
       "50%      54.567559  9.999235e-01    54.571733  \n",
       "75%      69.795941  9.999235e-01    69.801280  \n",
       "max    1238.378461  9.999235e-01  1238.473187  "
      ]
     },
     "execution_count": 29,
     "metadata": {},
     "output_type": "execute_result"
    }
   ],
   "source": [
    "n_data['WQI'] = n_data['sum_WnQn']/n_data['sum_Wn']\n",
    "n_data.describe()"
   ]
  },
  {
   "cell_type": "markdown",
   "metadata": {},
   "source": [
    "#### WQC"
   ]
  },
  {
   "cell_type": "code",
   "execution_count": 30,
   "metadata": {},
   "outputs": [
    {
     "data": {
      "text/html": [
       "<div>\n",
       "<style scoped>\n",
       "    .dataframe tbody tr th:only-of-type {\n",
       "        vertical-align: middle;\n",
       "    }\n",
       "\n",
       "    .dataframe tbody tr th {\n",
       "        vertical-align: top;\n",
       "    }\n",
       "\n",
       "    .dataframe thead th {\n",
       "        text-align: right;\n",
       "    }\n",
       "</style>\n",
       "<table border=\"1\" class=\"dataframe\">\n",
       "  <thead>\n",
       "    <tr style=\"text-align: right;\">\n",
       "      <th></th>\n",
       "      <th>Electrical Conductivty (µs/cm)</th>\n",
       "      <th>pH (pH Units)</th>\n",
       "      <th>Turbidty (NTU)</th>\n",
       "      <th>Apparent Colour (PtCo)</th>\n",
       "      <th>Residual Cl2 (mg/L)</th>\n",
       "      <th>Conductivity_Wn</th>\n",
       "      <th>Ph_Wn</th>\n",
       "      <th>Turbidity_Wn</th>\n",
       "      <th>Colour_Wn</th>\n",
       "      <th>Cl2_Wn</th>\n",
       "      <th>Conductivity_Qn</th>\n",
       "      <th>Ph_Qn</th>\n",
       "      <th>Turbidity_Qn</th>\n",
       "      <th>Colour_Qn</th>\n",
       "      <th>Cl2_Qn</th>\n",
       "      <th>sum_WnQn</th>\n",
       "      <th>sum_Wn</th>\n",
       "      <th>WQI</th>\n",
       "    </tr>\n",
       "  </thead>\n",
       "  <tbody>\n",
       "    <tr>\n",
       "      <th>0</th>\n",
       "      <td>139.6</td>\n",
       "      <td>6.78</td>\n",
       "      <td>0.296</td>\n",
       "      <td>4</td>\n",
       "      <td>0.35</td>\n",
       "      <td>0.0004192</td>\n",
       "      <td>0.0493176</td>\n",
       "      <td>0.08384</td>\n",
       "      <td>0.0279467</td>\n",
       "      <td>0.8384</td>\n",
       "      <td>13.96</td>\n",
       "      <td>-14.6667</td>\n",
       "      <td>5.92</td>\n",
       "      <td>26.6667</td>\n",
       "      <td>70</td>\n",
       "      <td>59.2121</td>\n",
       "      <td>0.999924</td>\n",
       "      <td>59.2166</td>\n",
       "    </tr>\n",
       "    <tr>\n",
       "      <th>1</th>\n",
       "      <td>140.6</td>\n",
       "      <td>6.83</td>\n",
       "      <td>0.561</td>\n",
       "      <td>6</td>\n",
       "      <td>0.4</td>\n",
       "      <td>0.0004192</td>\n",
       "      <td>0.0493176</td>\n",
       "      <td>0.08384</td>\n",
       "      <td>0.0279467</td>\n",
       "      <td>0.8384</td>\n",
       "      <td>14.06</td>\n",
       "      <td>-11.3333</td>\n",
       "      <td>11.22</td>\n",
       "      <td>40</td>\n",
       "      <td>80</td>\n",
       "      <td>68.5775</td>\n",
       "      <td>0.999924</td>\n",
       "      <td>68.5828</td>\n",
       "    </tr>\n",
       "    <tr>\n",
       "      <th>2</th>\n",
       "      <td>141.2</td>\n",
       "      <td>6.88</td>\n",
       "      <td>0.173</td>\n",
       "      <td>0</td>\n",
       "      <td>0.4</td>\n",
       "      <td>0.0004192</td>\n",
       "      <td>0.0493176</td>\n",
       "      <td>0.08384</td>\n",
       "      <td>0.0279467</td>\n",
       "      <td>0.8384</td>\n",
       "      <td>14.12</td>\n",
       "      <td>-8</td>\n",
       "      <td>3.46</td>\n",
       "      <td>0</td>\n",
       "      <td>80</td>\n",
       "      <td>66.9735</td>\n",
       "      <td>0.999924</td>\n",
       "      <td>66.9786</td>\n",
       "    </tr>\n",
       "    <tr>\n",
       "      <th>3</th>\n",
       "      <td>138.7</td>\n",
       "      <td>6.73</td>\n",
       "      <td>0.789</td>\n",
       "      <td>8</td>\n",
       "      <td>0.4</td>\n",
       "      <td>0.0004192</td>\n",
       "      <td>0.0493176</td>\n",
       "      <td>0.08384</td>\n",
       "      <td>0.0279467</td>\n",
       "      <td>0.8384</td>\n",
       "      <td>13.87</td>\n",
       "      <td>-18</td>\n",
       "      <td>15.78</td>\n",
       "      <td>53.3333</td>\n",
       "      <td>80</td>\n",
       "      <td>69.0036</td>\n",
       "      <td>0.999924</td>\n",
       "      <td>69.0089</td>\n",
       "    </tr>\n",
       "    <tr>\n",
       "      <th>4</th>\n",
       "      <td>139.6</td>\n",
       "      <td>6.96</td>\n",
       "      <td>0.395</td>\n",
       "      <td>4</td>\n",
       "      <td>0.35</td>\n",
       "      <td>0.0004192</td>\n",
       "      <td>0.0493176</td>\n",
       "      <td>0.08384</td>\n",
       "      <td>0.0279467</td>\n",
       "      <td>0.8384</td>\n",
       "      <td>13.96</td>\n",
       "      <td>-2.66667</td>\n",
       "      <td>7.9</td>\n",
       "      <td>26.6667</td>\n",
       "      <td>70</td>\n",
       "      <td>59.9699</td>\n",
       "      <td>0.999924</td>\n",
       "      <td>59.9745</td>\n",
       "    </tr>\n",
       "    <tr>\n",
       "      <th>...</th>\n",
       "      <td>...</td>\n",
       "      <td>...</td>\n",
       "      <td>...</td>\n",
       "      <td>...</td>\n",
       "      <td>...</td>\n",
       "      <td>...</td>\n",
       "      <td>...</td>\n",
       "      <td>...</td>\n",
       "      <td>...</td>\n",
       "      <td>...</td>\n",
       "      <td>...</td>\n",
       "      <td>...</td>\n",
       "      <td>...</td>\n",
       "      <td>...</td>\n",
       "      <td>...</td>\n",
       "      <td>...</td>\n",
       "      <td>...</td>\n",
       "      <td>...</td>\n",
       "    </tr>\n",
       "    <tr>\n",
       "      <th>1755</th>\n",
       "      <td>128.4</td>\n",
       "      <td>7.19</td>\n",
       "      <td>0.485</td>\n",
       "      <td>8</td>\n",
       "      <td>0.4</td>\n",
       "      <td>0.0004192</td>\n",
       "      <td>0.0493176</td>\n",
       "      <td>0.08384</td>\n",
       "      <td>0.0279467</td>\n",
       "      <td>0.8384</td>\n",
       "      <td>12.84</td>\n",
       "      <td>12.6667</td>\n",
       "      <td>9.7</td>\n",
       "      <td>53.3333</td>\n",
       "      <td>80</td>\n",
       "      <td>70.0058</td>\n",
       "      <td>0.999924</td>\n",
       "      <td>70.0112</td>\n",
       "    </tr>\n",
       "    <tr>\n",
       "      <th>1756</th>\n",
       "      <td>125.6</td>\n",
       "      <td>7.28</td>\n",
       "      <td>0.29</td>\n",
       "      <td>3</td>\n",
       "      <td>0.5</td>\n",
       "      <td>0.0004192</td>\n",
       "      <td>0.0493176</td>\n",
       "      <td>0.08384</td>\n",
       "      <td>0.0279467</td>\n",
       "      <td>0.8384</td>\n",
       "      <td>12.56</td>\n",
       "      <td>18.6667</td>\n",
       "      <td>5.8</td>\n",
       "      <td>20</td>\n",
       "      <td>100</td>\n",
       "      <td>85.8111</td>\n",
       "      <td>0.999924</td>\n",
       "      <td>85.8176</td>\n",
       "    </tr>\n",
       "    <tr>\n",
       "      <th>1757</th>\n",
       "      <td>132.8</td>\n",
       "      <td>7.14</td>\n",
       "      <td>0.326</td>\n",
       "      <td>0</td>\n",
       "      <td>0.4</td>\n",
       "      <td>0.0004192</td>\n",
       "      <td>0.0493176</td>\n",
       "      <td>0.08384</td>\n",
       "      <td>0.0279467</td>\n",
       "      <td>0.8384</td>\n",
       "      <td>13.28</td>\n",
       "      <td>9.33333</td>\n",
       "      <td>6.52</td>\n",
       "      <td>0</td>\n",
       "      <td>80</td>\n",
       "      <td>68.0845</td>\n",
       "      <td>0.999924</td>\n",
       "      <td>68.0897</td>\n",
       "    </tr>\n",
       "    <tr>\n",
       "      <th>1758</th>\n",
       "      <td>130.9</td>\n",
       "      <td>7.06</td>\n",
       "      <td>0.351</td>\n",
       "      <td>3</td>\n",
       "      <td>0.5</td>\n",
       "      <td>0.0004192</td>\n",
       "      <td>0.0493176</td>\n",
       "      <td>0.08384</td>\n",
       "      <td>0.0279467</td>\n",
       "      <td>0.8384</td>\n",
       "      <td>13.09</td>\n",
       "      <td>4</td>\n",
       "      <td>7.02</td>\n",
       "      <td>20</td>\n",
       "      <td>100</td>\n",
       "      <td>85.1902</td>\n",
       "      <td>0.999924</td>\n",
       "      <td>85.1968</td>\n",
       "    </tr>\n",
       "    <tr>\n",
       "      <th>1759</th>\n",
       "      <td>131.9</td>\n",
       "      <td>7.15</td>\n",
       "      <td>0.501</td>\n",
       "      <td>5</td>\n",
       "      <td>0.4</td>\n",
       "      <td>0.0004192</td>\n",
       "      <td>0.0493176</td>\n",
       "      <td>0.08384</td>\n",
       "      <td>0.0279467</td>\n",
       "      <td>0.8384</td>\n",
       "      <td>13.19</td>\n",
       "      <td>10</td>\n",
       "      <td>10.02</td>\n",
       "      <td>33.3333</td>\n",
       "      <td>80</td>\n",
       "      <td>69.3423</td>\n",
       "      <td>0.999924</td>\n",
       "      <td>69.3476</td>\n",
       "    </tr>\n",
       "  </tbody>\n",
       "</table>\n",
       "<p>1760 rows × 18 columns</p>\n",
       "</div>"
      ],
      "text/plain": [
       "     Electrical Conductivty (µs/cm) pH (pH Units) Turbidty (NTU)  \\\n",
       "0                             139.6          6.78          0.296   \n",
       "1                             140.6          6.83          0.561   \n",
       "2                             141.2          6.88          0.173   \n",
       "3                             138.7          6.73          0.789   \n",
       "4                             139.6          6.96          0.395   \n",
       "...                             ...           ...            ...   \n",
       "1755                          128.4          7.19          0.485   \n",
       "1756                          125.6          7.28           0.29   \n",
       "1757                          132.8          7.14          0.326   \n",
       "1758                          130.9          7.06          0.351   \n",
       "1759                          131.9          7.15          0.501   \n",
       "\n",
       "     Apparent Colour (PtCo) Residual Cl2 (mg/L) Conductivity_Wn      Ph_Wn  \\\n",
       "0                         4                0.35       0.0004192  0.0493176   \n",
       "1                         6                 0.4       0.0004192  0.0493176   \n",
       "2                         0                 0.4       0.0004192  0.0493176   \n",
       "3                         8                 0.4       0.0004192  0.0493176   \n",
       "4                         4                0.35       0.0004192  0.0493176   \n",
       "...                     ...                 ...             ...        ...   \n",
       "1755                      8                 0.4       0.0004192  0.0493176   \n",
       "1756                      3                 0.5       0.0004192  0.0493176   \n",
       "1757                      0                 0.4       0.0004192  0.0493176   \n",
       "1758                      3                 0.5       0.0004192  0.0493176   \n",
       "1759                      5                 0.4       0.0004192  0.0493176   \n",
       "\n",
       "     Turbidity_Wn  Colour_Wn  Cl2_Wn Conductivity_Qn    Ph_Qn Turbidity_Qn  \\\n",
       "0         0.08384  0.0279467  0.8384           13.96 -14.6667         5.92   \n",
       "1         0.08384  0.0279467  0.8384           14.06 -11.3333        11.22   \n",
       "2         0.08384  0.0279467  0.8384           14.12       -8         3.46   \n",
       "3         0.08384  0.0279467  0.8384           13.87      -18        15.78   \n",
       "4         0.08384  0.0279467  0.8384           13.96 -2.66667          7.9   \n",
       "...           ...        ...     ...             ...      ...          ...   \n",
       "1755      0.08384  0.0279467  0.8384           12.84  12.6667          9.7   \n",
       "1756      0.08384  0.0279467  0.8384           12.56  18.6667          5.8   \n",
       "1757      0.08384  0.0279467  0.8384           13.28  9.33333         6.52   \n",
       "1758      0.08384  0.0279467  0.8384           13.09        4         7.02   \n",
       "1759      0.08384  0.0279467  0.8384           13.19       10        10.02   \n",
       "\n",
       "     Colour_Qn Cl2_Qn sum_WnQn    sum_Wn      WQI  \n",
       "0      26.6667     70  59.2121  0.999924  59.2166  \n",
       "1           40     80  68.5775  0.999924  68.5828  \n",
       "2            0     80  66.9735  0.999924  66.9786  \n",
       "3      53.3333     80  69.0036  0.999924  69.0089  \n",
       "4      26.6667     70  59.9699  0.999924  59.9745  \n",
       "...        ...    ...      ...       ...      ...  \n",
       "1755   53.3333     80  70.0058  0.999924  70.0112  \n",
       "1756        20    100  85.8111  0.999924  85.8176  \n",
       "1757         0     80  68.0845  0.999924  68.0897  \n",
       "1758        20    100  85.1902  0.999924  85.1968  \n",
       "1759   33.3333     80  69.3423  0.999924  69.3476  \n",
       "\n",
       "[1760 rows x 18 columns]"
      ]
     },
     "execution_count": 30,
     "metadata": {},
     "output_type": "execute_result"
    }
   ],
   "source": [
    "n_data.astype(object)"
   ]
  },
  {
   "cell_type": "code",
   "execution_count": 31,
   "metadata": {},
   "outputs": [
    {
     "data": {
      "text/plain": [
       "dtype('float64')"
      ]
     },
     "execution_count": 31,
     "metadata": {},
     "output_type": "execute_result"
    }
   ],
   "source": [
    "n_data['WQI'].dtypes"
   ]
  },
  {
   "cell_type": "code",
   "execution_count": 32,
   "metadata": {
    "scrolled": true
   },
   "outputs": [],
   "source": [
    "n_data.loc[(n_data['WQI'] <= 25.0), 'WQC'] = 'Excellent'"
   ]
  },
  {
   "cell_type": "code",
   "execution_count": 33,
   "metadata": {},
   "outputs": [],
   "source": [
    "n_data.loc[(n_data['WQI'] <= 51.0) & (n_data['WQI'] > 25.0), 'WQC'] = 'Good'"
   ]
  },
  {
   "cell_type": "code",
   "execution_count": 34,
   "metadata": {},
   "outputs": [],
   "source": [
    "n_data.loc[(n_data['WQI'] <= 76.0) & (n_data['WQI'] > 51.0), 'WQC'] = 'Poor'"
   ]
  },
  {
   "cell_type": "code",
   "execution_count": 35,
   "metadata": {},
   "outputs": [],
   "source": [
    "n_data.loc[(n_data['WQI'] <= 100.0) & (n_data['WQI'] > 76.0), 'WQC'] = 'Very Poor'"
   ]
  },
  {
   "cell_type": "code",
   "execution_count": 36,
   "metadata": {},
   "outputs": [],
   "source": [
    "n_data.loc[n_data['WQI'] > 100.0 , 'WQC'] = 'Unfit for Consumption'"
   ]
  },
  {
   "cell_type": "code",
   "execution_count": 37,
   "metadata": {
    "scrolled": true
   },
   "outputs": [
    {
     "data": {
      "text/plain": [
       "Electrical Conductivty (µs/cm)    0\n",
       "pH (pH Units)                     0\n",
       "Turbidty (NTU)                    0\n",
       "Apparent Colour (PtCo)            0\n",
       "Residual Cl2 (mg/L)               0\n",
       "Conductivity_Wn                   0\n",
       "Ph_Wn                             0\n",
       "Turbidity_Wn                      0\n",
       "Colour_Wn                         0\n",
       "Cl2_Wn                            0\n",
       "Conductivity_Qn                   0\n",
       "Ph_Qn                             0\n",
       "Turbidity_Qn                      0\n",
       "Colour_Qn                         0\n",
       "Cl2_Qn                            0\n",
       "sum_WnQn                          0\n",
       "sum_Wn                            0\n",
       "WQI                               0\n",
       "WQC                               0\n",
       "dtype: int64"
      ]
     },
     "execution_count": 37,
     "metadata": {},
     "output_type": "execute_result"
    }
   ],
   "source": [
    "n_data.isnull().sum()"
   ]
  },
  {
   "cell_type": "code",
   "execution_count": 38,
   "metadata": {},
   "outputs": [
    {
     "data": {
      "text/plain": [
       "Poor                     1075\n",
       "Good                      409\n",
       "Very Poor                 154\n",
       "Excellent                  68\n",
       "Unfit for Consumption      54\n",
       "Name: WQC, dtype: int64"
      ]
     },
     "execution_count": 38,
     "metadata": {},
     "output_type": "execute_result"
    }
   ],
   "source": [
    "n_data['WQC'].value_counts(ascending=False)"
   ]
  },
  {
   "cell_type": "code",
   "execution_count": 39,
   "metadata": {},
   "outputs": [
    {
     "name": "stdout",
     "output_type": "stream",
     "text": [
      "<class 'pandas.core.frame.DataFrame'>\n",
      "RangeIndex: 1760 entries, 0 to 1759\n",
      "Data columns (total 19 columns):\n",
      " #   Column                          Non-Null Count  Dtype  \n",
      "---  ------                          --------------  -----  \n",
      " 0   Electrical Conductivty (µs/cm)  1760 non-null   float64\n",
      " 1   pH (pH Units)                   1760 non-null   float64\n",
      " 2   Turbidty (NTU)                  1760 non-null   float64\n",
      " 3   Apparent Colour (PtCo)          1760 non-null   int64  \n",
      " 4   Residual Cl2 (mg/L)             1760 non-null   float64\n",
      " 5   Conductivity_Wn                 1760 non-null   float64\n",
      " 6   Ph_Wn                           1760 non-null   float64\n",
      " 7   Turbidity_Wn                    1760 non-null   float64\n",
      " 8   Colour_Wn                       1760 non-null   float64\n",
      " 9   Cl2_Wn                          1760 non-null   float64\n",
      " 10  Conductivity_Qn                 1760 non-null   float64\n",
      " 11  Ph_Qn                           1760 non-null   float64\n",
      " 12  Turbidity_Qn                    1760 non-null   float64\n",
      " 13  Colour_Qn                       1760 non-null   float64\n",
      " 14  Cl2_Qn                          1760 non-null   float64\n",
      " 15  sum_WnQn                        1760 non-null   float64\n",
      " 16  sum_Wn                          1760 non-null   float64\n",
      " 17  WQI                             1760 non-null   float64\n",
      " 18  WQC                             1760 non-null   object \n",
      "dtypes: float64(17), int64(1), object(1)\n",
      "memory usage: 261.4+ KB\n"
     ]
    }
   ],
   "source": [
    "n_data.info()"
   ]
  },
  {
   "cell_type": "code",
   "execution_count": 40,
   "metadata": {},
   "outputs": [
    {
     "data": {
      "text/html": [
       "<div>\n",
       "<style scoped>\n",
       "    .dataframe tbody tr th:only-of-type {\n",
       "        vertical-align: middle;\n",
       "    }\n",
       "\n",
       "    .dataframe tbody tr th {\n",
       "        vertical-align: top;\n",
       "    }\n",
       "\n",
       "    .dataframe thead th {\n",
       "        text-align: right;\n",
       "    }\n",
       "</style>\n",
       "<table border=\"1\" class=\"dataframe\">\n",
       "  <thead>\n",
       "    <tr style=\"text-align: right;\">\n",
       "      <th></th>\n",
       "      <th>Electrical Conductivty (µs/cm)</th>\n",
       "      <th>pH (pH Units)</th>\n",
       "      <th>Turbidty (NTU)</th>\n",
       "      <th>Apparent Colour (PtCo)</th>\n",
       "      <th>Residual Cl2 (mg/L)</th>\n",
       "    </tr>\n",
       "  </thead>\n",
       "  <tbody>\n",
       "    <tr>\n",
       "      <th>count</th>\n",
       "      <td>1760.000000</td>\n",
       "      <td>1760.000000</td>\n",
       "      <td>1760.000000</td>\n",
       "      <td>1760.000000</td>\n",
       "      <td>1760.000000</td>\n",
       "    </tr>\n",
       "    <tr>\n",
       "      <th>mean</th>\n",
       "      <td>125.534250</td>\n",
       "      <td>7.349045</td>\n",
       "      <td>0.531558</td>\n",
       "      <td>5.305682</td>\n",
       "      <td>0.348914</td>\n",
       "    </tr>\n",
       "    <tr>\n",
       "      <th>std</th>\n",
       "      <td>20.483945</td>\n",
       "      <td>0.353498</td>\n",
       "      <td>0.275412</td>\n",
       "      <td>4.104071</td>\n",
       "      <td>0.423536</td>\n",
       "    </tr>\n",
       "    <tr>\n",
       "      <th>min</th>\n",
       "      <td>96.100000</td>\n",
       "      <td>6.050000</td>\n",
       "      <td>0.037700</td>\n",
       "      <td>0.000000</td>\n",
       "      <td>0.050000</td>\n",
       "    </tr>\n",
       "    <tr>\n",
       "      <th>25%</th>\n",
       "      <td>112.250000</td>\n",
       "      <td>7.100000</td>\n",
       "      <td>0.388750</td>\n",
       "      <td>4.000000</td>\n",
       "      <td>0.250000</td>\n",
       "    </tr>\n",
       "    <tr>\n",
       "      <th>50%</th>\n",
       "      <td>122.790000</td>\n",
       "      <td>7.300000</td>\n",
       "      <td>0.483500</td>\n",
       "      <td>5.000000</td>\n",
       "      <td>0.300000</td>\n",
       "    </tr>\n",
       "    <tr>\n",
       "      <th>75%</th>\n",
       "      <td>134.225000</td>\n",
       "      <td>7.600000</td>\n",
       "      <td>0.603000</td>\n",
       "      <td>6.000000</td>\n",
       "      <td>0.400000</td>\n",
       "    </tr>\n",
       "    <tr>\n",
       "      <th>max</th>\n",
       "      <td>330.000000</td>\n",
       "      <td>8.560000</td>\n",
       "      <td>4.460000</td>\n",
       "      <td>46.000000</td>\n",
       "      <td>7.349045</td>\n",
       "    </tr>\n",
       "  </tbody>\n",
       "</table>\n",
       "</div>"
      ],
      "text/plain": [
       "       Electrical Conductivty (µs/cm)  pH (pH Units)  Turbidty (NTU)  \\\n",
       "count                     1760.000000    1760.000000     1760.000000   \n",
       "mean                       125.534250       7.349045        0.531558   \n",
       "std                         20.483945       0.353498        0.275412   \n",
       "min                         96.100000       6.050000        0.037700   \n",
       "25%                        112.250000       7.100000        0.388750   \n",
       "50%                        122.790000       7.300000        0.483500   \n",
       "75%                        134.225000       7.600000        0.603000   \n",
       "max                        330.000000       8.560000        4.460000   \n",
       "\n",
       "       Apparent Colour (PtCo)  Residual Cl2 (mg/L)  \n",
       "count             1760.000000          1760.000000  \n",
       "mean                 5.305682             0.348914  \n",
       "std                  4.104071             0.423536  \n",
       "min                  0.000000             0.050000  \n",
       "25%                  4.000000             0.250000  \n",
       "50%                  5.000000             0.300000  \n",
       "75%                  6.000000             0.400000  \n",
       "max                 46.000000             7.349045  "
      ]
     },
     "execution_count": 40,
     "metadata": {},
     "output_type": "execute_result"
    }
   ],
   "source": [
    "n_data[['Electrical Conductivty (µs/cm)','pH (pH Units)','Turbidty (NTU)','Apparent Colour (PtCo)','Residual Cl2 (mg/L)']].describe()"
   ]
  },
  {
   "cell_type": "markdown",
   "metadata": {},
   "source": [
    "#### Feature Selection"
   ]
  },
  {
   "cell_type": "code",
   "execution_count": 41,
   "metadata": {},
   "outputs": [
    {
     "data": {
      "text/plain": [
       "<matplotlib.axes._subplots.AxesSubplot at 0x20bc045ceb0>"
      ]
     },
     "execution_count": 41,
     "metadata": {},
     "output_type": "execute_result"
    },
    {
     "data": {
      "image/png": "[encoded data removed]",
      "text/plain": [
       "<Figure size 432x288 with 2 Axes>"
      ]
     },
     "metadata": {
      "needs_background": "light"
     },
     "output_type": "display_data"
    }
   ],
   "source": [
    "sns.heatmap(n_data[['Electrical Conductivty (µs/cm)','pH (pH Units)','Turbidty (NTU)','Apparent Colour (PtCo)','Residual Cl2 (mg/L)', 'WQI']].corr(), annot=True)"
   ]
  },
  {
   "cell_type": "markdown",
   "metadata": {},
   "source": [
    "#### Outlier Detection\n"
   ]
  },
  {
   "cell_type": "code",
   "execution_count": 42,
   "metadata": {},
   "outputs": [
    {
     "data": {
      "text/plain": [
       "<matplotlib.axes._subplots.AxesSubplot at 0x20bc063af10>"
      ]
     },
     "execution_count": 42,
     "metadata": {},
     "output_type": "execute_result"
    },
    {
     "data": {
      "image/png": "[encoded data removed]",
      "text/plain": [
       "<Figure size 1080x1080 with 1 Axes>"
      ]
     },
     "metadata": {
      "needs_background": "light"
     },
     "output_type": "display_data"
    }
   ],
   "source": [
    "# Checking for Outliers\n",
    "n_data[['Electrical Conductivty (µs/cm)','pH (pH Units)','Turbidty (NTU)','Apparent Colour (PtCo)','Residual Cl2 (mg/L)', 'WQI']].boxplot(figsize=(15,15))"
   ]
  },
  {
   "cell_type": "code",
   "execution_count": 43,
   "metadata": {},
   "outputs": [
    {
     "name": "stdout",
     "output_type": "stream",
     "text": [
      "Electrical Conductivty (µs/cm)    155.400000\n",
      "pH (pH Units)                       7.960000\n",
      "Turbidty (NTU)                      0.896200\n",
      "Apparent Colour (PtCo)             11.000000\n",
      "Residual Cl2 (mg/L)                 0.500000\n",
      "WQI                                85.899785\n",
      "Name: 0.95, dtype: float64\n",
      "Electrical Conductivty (µs/cm)    104.600000\n",
      "pH (pH Units)                       6.850000\n",
      "Turbidty (NTU)                      0.280000\n",
      "Apparent Colour (PtCo)              0.000000\n",
      "Residual Cl2 (mg/L)                 0.200000\n",
      "WQI                                34.234814\n",
      "Name: 0.05, dtype: float64\n"
     ]
    }
   ],
   "source": [
    "df = n_data[['Electrical Conductivty (µs/cm)','pH (pH Units)','Turbidty (NTU)','Apparent Colour (PtCo)','Residual Cl2 (mg/L)', 'WQI']]\n",
    "max_threshold = df.quantile(0.95)\n",
    "min_threshold = df.quantile(0.05)\n",
    "print(max_threshold)\n",
    "print(min_threshold)"
   ]
  },
  {
   "cell_type": "code",
   "execution_count": 44,
   "metadata": {},
   "outputs": [],
   "source": [
    "new_df = df[(df<max_threshold) & (df>min_threshold)]"
   ]
  },
  {
   "cell_type": "code",
   "execution_count": 45,
   "metadata": {},
   "outputs": [
    {
     "name": "stdout",
     "output_type": "stream",
     "text": [
      "(1760, 6)\n",
      "(1760, 6)\n"
     ]
    }
   ],
   "source": [
    "print(df.shape)\n",
    "print(new_df.shape)"
   ]
  },
  {
   "cell_type": "code",
   "execution_count": 46,
   "metadata": {},
   "outputs": [
    {
     "data": {
      "text/html": [
       "<div>\n",
       "<style scoped>\n",
       "    .dataframe tbody tr th:only-of-type {\n",
       "        vertical-align: middle;\n",
       "    }\n",
       "\n",
       "    .dataframe tbody tr th {\n",
       "        vertical-align: top;\n",
       "    }\n",
       "\n",
       "    .dataframe thead th {\n",
       "        text-align: right;\n",
       "    }\n",
       "</style>\n",
       "<table border=\"1\" class=\"dataframe\">\n",
       "  <thead>\n",
       "    <tr style=\"text-align: right;\">\n",
       "      <th></th>\n",
       "      <th>Electrical Conductivty (µs/cm)</th>\n",
       "      <th>pH (pH Units)</th>\n",
       "      <th>Turbidty (NTU)</th>\n",
       "      <th>Apparent Colour (PtCo)</th>\n",
       "      <th>Residual Cl2 (mg/L)</th>\n",
       "      <th>WQI</th>\n",
       "    </tr>\n",
       "  </thead>\n",
       "  <tbody>\n",
       "    <tr>\n",
       "      <th>count</th>\n",
       "      <td>1574.000000</td>\n",
       "      <td>1570.000000</td>\n",
       "      <td>1581.000000</td>\n",
       "      <td>1555.000000</td>\n",
       "      <td>1254.000000</td>\n",
       "      <td>1584.000000</td>\n",
       "    </tr>\n",
       "    <tr>\n",
       "      <th>mean</th>\n",
       "      <td>123.818856</td>\n",
       "      <td>7.342789</td>\n",
       "      <td>0.504418</td>\n",
       "      <td>5.006431</td>\n",
       "      <td>0.351431</td>\n",
       "      <td>57.286721</td>\n",
       "    </tr>\n",
       "    <tr>\n",
       "      <th>std</th>\n",
       "      <td>12.185835</td>\n",
       "      <td>0.292234</td>\n",
       "      <td>0.142444</td>\n",
       "      <td>1.967551</td>\n",
       "      <td>0.058748</td>\n",
       "      <td>13.613659</td>\n",
       "    </tr>\n",
       "    <tr>\n",
       "      <th>min</th>\n",
       "      <td>104.700000</td>\n",
       "      <td>6.860000</td>\n",
       "      <td>0.281000</td>\n",
       "      <td>1.000000</td>\n",
       "      <td>0.210000</td>\n",
       "      <td>34.237618</td>\n",
       "    </tr>\n",
       "    <tr>\n",
       "      <th>25%</th>\n",
       "      <td>113.600000</td>\n",
       "      <td>7.120000</td>\n",
       "      <td>0.393000</td>\n",
       "      <td>4.000000</td>\n",
       "      <td>0.300000</td>\n",
       "      <td>51.236318</td>\n",
       "    </tr>\n",
       "    <tr>\n",
       "      <th>50%</th>\n",
       "      <td>122.800000</td>\n",
       "      <td>7.300000</td>\n",
       "      <td>0.484000</td>\n",
       "      <td>5.000000</td>\n",
       "      <td>0.350000</td>\n",
       "      <td>54.571733</td>\n",
       "    </tr>\n",
       "    <tr>\n",
       "      <th>75%</th>\n",
       "      <td>133.300000</td>\n",
       "      <td>7.560000</td>\n",
       "      <td>0.589000</td>\n",
       "      <td>6.000000</td>\n",
       "      <td>0.400000</td>\n",
       "      <td>69.399739</td>\n",
       "    </tr>\n",
       "    <tr>\n",
       "      <th>max</th>\n",
       "      <td>155.200000</td>\n",
       "      <td>7.950000</td>\n",
       "      <td>0.896000</td>\n",
       "      <td>10.000000</td>\n",
       "      <td>0.490000</td>\n",
       "      <td>85.892252</td>\n",
       "    </tr>\n",
       "  </tbody>\n",
       "</table>\n",
       "</div>"
      ],
      "text/plain": [
       "       Electrical Conductivty (µs/cm)  pH (pH Units)  Turbidty (NTU)  \\\n",
       "count                     1574.000000    1570.000000     1581.000000   \n",
       "mean                       123.818856       7.342789        0.504418   \n",
       "std                         12.185835       0.292234        0.142444   \n",
       "min                        104.700000       6.860000        0.281000   \n",
       "25%                        113.600000       7.120000        0.393000   \n",
       "50%                        122.800000       7.300000        0.484000   \n",
       "75%                        133.300000       7.560000        0.589000   \n",
       "max                        155.200000       7.950000        0.896000   \n",
       "\n",
       "       Apparent Colour (PtCo)  Residual Cl2 (mg/L)          WQI  \n",
       "count             1555.000000          1254.000000  1584.000000  \n",
       "mean                 5.006431             0.351431    57.286721  \n",
       "std                  1.967551             0.058748    13.613659  \n",
       "min                  1.000000             0.210000    34.237618  \n",
       "25%                  4.000000             0.300000    51.236318  \n",
       "50%                  5.000000             0.350000    54.571733  \n",
       "75%                  6.000000             0.400000    69.399739  \n",
       "max                 10.000000             0.490000    85.892252  "
      ]
     },
     "execution_count": 46,
     "metadata": {},
     "output_type": "execute_result"
    }
   ],
   "source": [
    "new_df.describe()"
   ]
  },
  {
   "cell_type": "code",
   "execution_count": 47,
   "metadata": {},
   "outputs": [
    {
     "data": {
      "text/plain": [
       "<matplotlib.axes._subplots.AxesSubplot at 0x20bc0717df0>"
      ]
     },
     "execution_count": 47,
     "metadata": {},
     "output_type": "execute_result"
    },
    {
     "data": {
      "image/png": "[encoded data removed]",
      "text/plain": [
       "<Figure size 1080x1080 with 1 Axes>"
      ]
     },
     "metadata": {
      "needs_background": "light"
     },
     "output_type": "display_data"
    }
   ],
   "source": [
    "new_df.boxplot(figsize=(15,15))"
   ]
  },
  {
   "cell_type": "code",
   "execution_count": 48,
   "metadata": {},
   "outputs": [
    {
     "data": {
      "text/plain": [
       "<matplotlib.axes._subplots.AxesSubplot at 0x20bc07119d0>"
      ]
     },
     "execution_count": 48,
     "metadata": {},
     "output_type": "execute_result"
    },
    {
     "data": {
      "image/png": "[encoded data removed]",
      "text/plain": [
       "<Figure size 1080x1080 with 1 Axes>"
      ]
     },
     "metadata": {
      "needs_background": "light"
     },
     "output_type": "display_data"
    }
   ],
   "source": [
    "new_df.fillna(value=new_df.mean(), inplace=True)\n",
    "new_df.boxplot(figsize=(15,15))"
   ]
  },
  {
   "cell_type": "markdown",
   "metadata": {},
   "source": [
    "#### Redetermining WQC"
   ]
  },
  {
   "cell_type": "code",
   "execution_count": 49,
   "metadata": {},
   "outputs": [
    {
     "data": {
      "text/html": [
       "<div>\n",
       "<style scoped>\n",
       "    .dataframe tbody tr th:only-of-type {\n",
       "        vertical-align: middle;\n",
       "    }\n",
       "\n",
       "    .dataframe tbody tr th {\n",
       "        vertical-align: top;\n",
       "    }\n",
       "\n",
       "    .dataframe thead th {\n",
       "        text-align: right;\n",
       "    }\n",
       "</style>\n",
       "<table border=\"1\" class=\"dataframe\">\n",
       "  <thead>\n",
       "    <tr style=\"text-align: right;\">\n",
       "      <th></th>\n",
       "      <th>Electrical Conductivty (µs/cm)</th>\n",
       "      <th>pH (pH Units)</th>\n",
       "      <th>Turbidty (NTU)</th>\n",
       "      <th>Apparent Colour (PtCo)</th>\n",
       "      <th>Residual Cl2 (mg/L)</th>\n",
       "      <th>WQI</th>\n",
       "      <th>WQC</th>\n",
       "    </tr>\n",
       "  </thead>\n",
       "  <tbody>\n",
       "    <tr>\n",
       "      <th>0</th>\n",
       "      <td>139.6</td>\n",
       "      <td>7.342789</td>\n",
       "      <td>0.296000</td>\n",
       "      <td>4.000000</td>\n",
       "      <td>0.350000</td>\n",
       "      <td>59.216633</td>\n",
       "      <td>Poor</td>\n",
       "    </tr>\n",
       "    <tr>\n",
       "      <th>1</th>\n",
       "      <td>140.6</td>\n",
       "      <td>7.342789</td>\n",
       "      <td>0.561000</td>\n",
       "      <td>6.000000</td>\n",
       "      <td>0.400000</td>\n",
       "      <td>68.582758</td>\n",
       "      <td>Poor</td>\n",
       "    </tr>\n",
       "    <tr>\n",
       "      <th>2</th>\n",
       "      <td>141.2</td>\n",
       "      <td>6.880000</td>\n",
       "      <td>0.504418</td>\n",
       "      <td>5.006431</td>\n",
       "      <td>0.400000</td>\n",
       "      <td>66.978587</td>\n",
       "      <td>Poor</td>\n",
       "    </tr>\n",
       "    <tr>\n",
       "      <th>3</th>\n",
       "      <td>138.7</td>\n",
       "      <td>7.342789</td>\n",
       "      <td>0.789000</td>\n",
       "      <td>8.000000</td>\n",
       "      <td>0.400000</td>\n",
       "      <td>69.008859</td>\n",
       "      <td>Poor</td>\n",
       "    </tr>\n",
       "    <tr>\n",
       "      <th>4</th>\n",
       "      <td>139.6</td>\n",
       "      <td>6.960000</td>\n",
       "      <td>0.395000</td>\n",
       "      <td>4.000000</td>\n",
       "      <td>0.350000</td>\n",
       "      <td>59.974506</td>\n",
       "      <td>Poor</td>\n",
       "    </tr>\n",
       "    <tr>\n",
       "      <th>...</th>\n",
       "      <td>...</td>\n",
       "      <td>...</td>\n",
       "      <td>...</td>\n",
       "      <td>...</td>\n",
       "      <td>...</td>\n",
       "      <td>...</td>\n",
       "      <td>...</td>\n",
       "    </tr>\n",
       "    <tr>\n",
       "      <th>1755</th>\n",
       "      <td>128.4</td>\n",
       "      <td>7.190000</td>\n",
       "      <td>0.485000</td>\n",
       "      <td>8.000000</td>\n",
       "      <td>0.400000</td>\n",
       "      <td>70.011165</td>\n",
       "      <td>Poor</td>\n",
       "    </tr>\n",
       "    <tr>\n",
       "      <th>1756</th>\n",
       "      <td>125.6</td>\n",
       "      <td>7.280000</td>\n",
       "      <td>0.290000</td>\n",
       "      <td>3.000000</td>\n",
       "      <td>0.351431</td>\n",
       "      <td>85.817630</td>\n",
       "      <td>Very Poor</td>\n",
       "    </tr>\n",
       "    <tr>\n",
       "      <th>1757</th>\n",
       "      <td>132.8</td>\n",
       "      <td>7.140000</td>\n",
       "      <td>0.326000</td>\n",
       "      <td>5.006431</td>\n",
       "      <td>0.400000</td>\n",
       "      <td>68.089710</td>\n",
       "      <td>Poor</td>\n",
       "    </tr>\n",
       "    <tr>\n",
       "      <th>1758</th>\n",
       "      <td>130.9</td>\n",
       "      <td>7.060000</td>\n",
       "      <td>0.351000</td>\n",
       "      <td>3.000000</td>\n",
       "      <td>0.351431</td>\n",
       "      <td>85.196764</td>\n",
       "      <td>Very Poor</td>\n",
       "    </tr>\n",
       "    <tr>\n",
       "      <th>1759</th>\n",
       "      <td>131.9</td>\n",
       "      <td>7.150000</td>\n",
       "      <td>0.501000</td>\n",
       "      <td>5.000000</td>\n",
       "      <td>0.400000</td>\n",
       "      <td>69.347642</td>\n",
       "      <td>Poor</td>\n",
       "    </tr>\n",
       "  </tbody>\n",
       "</table>\n",
       "<p>1760 rows × 7 columns</p>\n",
       "</div>"
      ],
      "text/plain": [
       "      Electrical Conductivty (µs/cm)  pH (pH Units)  Turbidty (NTU)  \\\n",
       "0                              139.6       7.342789        0.296000   \n",
       "1                              140.6       7.342789        0.561000   \n",
       "2                              141.2       6.880000        0.504418   \n",
       "3                              138.7       7.342789        0.789000   \n",
       "4                              139.6       6.960000        0.395000   \n",
       "...                              ...            ...             ...   \n",
       "1755                           128.4       7.190000        0.485000   \n",
       "1756                           125.6       7.280000        0.290000   \n",
       "1757                           132.8       7.140000        0.326000   \n",
       "1758                           130.9       7.060000        0.351000   \n",
       "1759                           131.9       7.150000        0.501000   \n",
       "\n",
       "      Apparent Colour (PtCo)  Residual Cl2 (mg/L)        WQI        WQC  \n",
       "0                   4.000000             0.350000  59.216633       Poor  \n",
       "1                   6.000000             0.400000  68.582758       Poor  \n",
       "2                   5.006431             0.400000  66.978587       Poor  \n",
       "3                   8.000000             0.400000  69.008859       Poor  \n",
       "4                   4.000000             0.350000  59.974506       Poor  \n",
       "...                      ...                  ...        ...        ...  \n",
       "1755                8.000000             0.400000  70.011165       Poor  \n",
       "1756                3.000000             0.351431  85.817630  Very Poor  \n",
       "1757                5.006431             0.400000  68.089710       Poor  \n",
       "1758                3.000000             0.351431  85.196764  Very Poor  \n",
       "1759                5.000000             0.400000  69.347642       Poor  \n",
       "\n",
       "[1760 rows x 7 columns]"
      ]
     },
     "execution_count": 49,
     "metadata": {},
     "output_type": "execute_result"
    }
   ],
   "source": [
    "new_df.loc[(new_df['WQI'] <= 25.0), 'WQC'] = 'Excellent'\n",
    "new_df.loc[(new_df['WQI'] <= 51.0) & (new_df['WQI'] > 25.0), 'WQC'] = 'Good'\n",
    "new_df.loc[(new_df['WQI'] <= 76.0) & (new_df['WQI'] > 51.0), 'WQC'] = 'Poor'\n",
    "new_df.loc[(new_df['WQI'] <= 100.0) & (new_df['WQI'] > 76.0), 'WQC'] = 'Very Poor'\n",
    "new_df.loc[new_df['WQI'] > 100.0 , 'WQC'] = 'Unfit for Consumption'\n",
    "new_df"
   ]
  },
  {
   "cell_type": "markdown",
   "metadata": {},
   "source": [
    "#### Label Encoding"
   ]
  },
  {
   "cell_type": "code",
   "execution_count": 50,
   "metadata": {},
   "outputs": [
    {
     "data": {
      "text/html": [
       "<div>\n",
       "<style scoped>\n",
       "    .dataframe tbody tr th:only-of-type {\n",
       "        vertical-align: middle;\n",
       "    }\n",
       "\n",
       "    .dataframe tbody tr th {\n",
       "        vertical-align: top;\n",
       "    }\n",
       "\n",
       "    .dataframe thead th {\n",
       "        text-align: right;\n",
       "    }\n",
       "</style>\n",
       "<table border=\"1\" class=\"dataframe\">\n",
       "  <thead>\n",
       "    <tr style=\"text-align: right;\">\n",
       "      <th></th>\n",
       "      <th>Electrical Conductivty (µs/cm)</th>\n",
       "      <th>pH (pH Units)</th>\n",
       "      <th>Turbidty (NTU)</th>\n",
       "      <th>Apparent Colour (PtCo)</th>\n",
       "      <th>Residual Cl2 (mg/L)</th>\n",
       "      <th>WQI</th>\n",
       "      <th>WQC</th>\n",
       "      <th>WQC_label</th>\n",
       "    </tr>\n",
       "  </thead>\n",
       "  <tbody>\n",
       "    <tr>\n",
       "      <th>0</th>\n",
       "      <td>139.6</td>\n",
       "      <td>7.342789</td>\n",
       "      <td>0.296000</td>\n",
       "      <td>4.000000</td>\n",
       "      <td>0.350000</td>\n",
       "      <td>59.216633</td>\n",
       "      <td>Poor</td>\n",
       "      <td>1</td>\n",
       "    </tr>\n",
       "    <tr>\n",
       "      <th>1</th>\n",
       "      <td>140.6</td>\n",
       "      <td>7.342789</td>\n",
       "      <td>0.561000</td>\n",
       "      <td>6.000000</td>\n",
       "      <td>0.400000</td>\n",
       "      <td>68.582758</td>\n",
       "      <td>Poor</td>\n",
       "      <td>1</td>\n",
       "    </tr>\n",
       "    <tr>\n",
       "      <th>2</th>\n",
       "      <td>141.2</td>\n",
       "      <td>6.880000</td>\n",
       "      <td>0.504418</td>\n",
       "      <td>5.006431</td>\n",
       "      <td>0.400000</td>\n",
       "      <td>66.978587</td>\n",
       "      <td>Poor</td>\n",
       "      <td>1</td>\n",
       "    </tr>\n",
       "    <tr>\n",
       "      <th>3</th>\n",
       "      <td>138.7</td>\n",
       "      <td>7.342789</td>\n",
       "      <td>0.789000</td>\n",
       "      <td>8.000000</td>\n",
       "      <td>0.400000</td>\n",
       "      <td>69.008859</td>\n",
       "      <td>Poor</td>\n",
       "      <td>1</td>\n",
       "    </tr>\n",
       "    <tr>\n",
       "      <th>4</th>\n",
       "      <td>139.6</td>\n",
       "      <td>6.960000</td>\n",
       "      <td>0.395000</td>\n",
       "      <td>4.000000</td>\n",
       "      <td>0.350000</td>\n",
       "      <td>59.974506</td>\n",
       "      <td>Poor</td>\n",
       "      <td>1</td>\n",
       "    </tr>\n",
       "    <tr>\n",
       "      <th>...</th>\n",
       "      <td>...</td>\n",
       "      <td>...</td>\n",
       "      <td>...</td>\n",
       "      <td>...</td>\n",
       "      <td>...</td>\n",
       "      <td>...</td>\n",
       "      <td>...</td>\n",
       "      <td>...</td>\n",
       "    </tr>\n",
       "    <tr>\n",
       "      <th>1755</th>\n",
       "      <td>128.4</td>\n",
       "      <td>7.190000</td>\n",
       "      <td>0.485000</td>\n",
       "      <td>8.000000</td>\n",
       "      <td>0.400000</td>\n",
       "      <td>70.011165</td>\n",
       "      <td>Poor</td>\n",
       "      <td>1</td>\n",
       "    </tr>\n",
       "    <tr>\n",
       "      <th>1756</th>\n",
       "      <td>125.6</td>\n",
       "      <td>7.280000</td>\n",
       "      <td>0.290000</td>\n",
       "      <td>3.000000</td>\n",
       "      <td>0.351431</td>\n",
       "      <td>85.817630</td>\n",
       "      <td>Very Poor</td>\n",
       "      <td>2</td>\n",
       "    </tr>\n",
       "    <tr>\n",
       "      <th>1757</th>\n",
       "      <td>132.8</td>\n",
       "      <td>7.140000</td>\n",
       "      <td>0.326000</td>\n",
       "      <td>5.006431</td>\n",
       "      <td>0.400000</td>\n",
       "      <td>68.089710</td>\n",
       "      <td>Poor</td>\n",
       "      <td>1</td>\n",
       "    </tr>\n",
       "    <tr>\n",
       "      <th>1758</th>\n",
       "      <td>130.9</td>\n",
       "      <td>7.060000</td>\n",
       "      <td>0.351000</td>\n",
       "      <td>3.000000</td>\n",
       "      <td>0.351431</td>\n",
       "      <td>85.196764</td>\n",
       "      <td>Very Poor</td>\n",
       "      <td>2</td>\n",
       "    </tr>\n",
       "    <tr>\n",
       "      <th>1759</th>\n",
       "      <td>131.9</td>\n",
       "      <td>7.150000</td>\n",
       "      <td>0.501000</td>\n",
       "      <td>5.000000</td>\n",
       "      <td>0.400000</td>\n",
       "      <td>69.347642</td>\n",
       "      <td>Poor</td>\n",
       "      <td>1</td>\n",
       "    </tr>\n",
       "  </tbody>\n",
       "</table>\n",
       "<p>1760 rows × 8 columns</p>\n",
       "</div>"
      ],
      "text/plain": [
       "      Electrical Conductivty (µs/cm)  pH (pH Units)  Turbidty (NTU)  \\\n",
       "0                              139.6       7.342789        0.296000   \n",
       "1                              140.6       7.342789        0.561000   \n",
       "2                              141.2       6.880000        0.504418   \n",
       "3                              138.7       7.342789        0.789000   \n",
       "4                              139.6       6.960000        0.395000   \n",
       "...                              ...            ...             ...   \n",
       "1755                           128.4       7.190000        0.485000   \n",
       "1756                           125.6       7.280000        0.290000   \n",
       "1757                           132.8       7.140000        0.326000   \n",
       "1758                           130.9       7.060000        0.351000   \n",
       "1759                           131.9       7.150000        0.501000   \n",
       "\n",
       "      Apparent Colour (PtCo)  Residual Cl2 (mg/L)        WQI        WQC  \\\n",
       "0                   4.000000             0.350000  59.216633       Poor   \n",
       "1                   6.000000             0.400000  68.582758       Poor   \n",
       "2                   5.006431             0.400000  66.978587       Poor   \n",
       "3                   8.000000             0.400000  69.008859       Poor   \n",
       "4                   4.000000             0.350000  59.974506       Poor   \n",
       "...                      ...                  ...        ...        ...   \n",
       "1755                8.000000             0.400000  70.011165       Poor   \n",
       "1756                3.000000             0.351431  85.817630  Very Poor   \n",
       "1757                5.006431             0.400000  68.089710       Poor   \n",
       "1758                3.000000             0.351431  85.196764  Very Poor   \n",
       "1759                5.000000             0.400000  69.347642       Poor   \n",
       "\n",
       "      WQC_label  \n",
       "0             1  \n",
       "1             1  \n",
       "2             1  \n",
       "3             1  \n",
       "4             1  \n",
       "...         ...  \n",
       "1755          1  \n",
       "1756          2  \n",
       "1757          1  \n",
       "1758          2  \n",
       "1759          1  \n",
       "\n",
       "[1760 rows x 8 columns]"
      ]
     },
     "execution_count": 50,
     "metadata": {},
     "output_type": "execute_result"
    }
   ],
   "source": [
    "from sklearn.preprocessing import LabelEncoder\n",
    "label_encoder = LabelEncoder()\n",
    "new_df['WQC_label']= label_encoder.fit_transform(new_df['WQC'])\n",
    "new_df"
   ]
  },
  {
   "cell_type": "markdown",
   "metadata": {},
   "source": [
    "#### Feature Scaling"
   ]
  },
  {
   "cell_type": "code",
   "execution_count": 51,
   "metadata": {},
   "outputs": [
    {
     "data": {
      "text/plain": [
       "array([[<matplotlib.axes._subplots.AxesSubplot object at 0x0000020BC07FDF70>,\n",
       "        <matplotlib.axes._subplots.AxesSubplot object at 0x0000020BC0EA1BB0>,\n",
       "        <matplotlib.axes._subplots.AxesSubplot object at 0x0000020BC0ECB0A0>],\n",
       "       [<matplotlib.axes._subplots.AxesSubplot object at 0x0000020BC0F02490>,\n",
       "        <matplotlib.axes._subplots.AxesSubplot object at 0x0000020BC0F2E880>,\n",
       "        <matplotlib.axes._subplots.AxesSubplot object at 0x0000020BC0F5BC10>],\n",
       "       [<matplotlib.axes._subplots.AxesSubplot object at 0x0000020BC0F5BD00>,\n",
       "        <matplotlib.axes._subplots.AxesSubplot object at 0x0000020BC0FC1610>,\n",
       "        <matplotlib.axes._subplots.AxesSubplot object at 0x0000020BC0FE0B20>]],\n",
       "      dtype=object)"
      ]
     },
     "execution_count": 51,
     "metadata": {},
     "output_type": "execute_result"
    },
    {
     "data": {
      "image/png": "[encoded data removed]",
      "text/plain": [
       "<Figure size 1008x864 with 9 Axes>"
      ]
     },
     "metadata": {
      "needs_background": "light"
     },
     "output_type": "display_data"
    }
   ],
   "source": [
    "new_df.hist(figsize=(14,12))"
   ]
  },
  {
   "cell_type": "code",
   "execution_count": 52,
   "metadata": {},
   "outputs": [],
   "source": [
    "normalized_df = new_df[['Electrical Conductivty (µs/cm)','pH (pH Units)','Turbidty (NTU)','Apparent Colour (PtCo)','Residual Cl2 (mg/L)', 'WQC_label']]\n",
    "from sklearn.preprocessing import MinMaxScaler\n",
    "scaler = MinMaxScaler()\n",
    "scaler.fit(normalized_df)\n",
    "scaled = scaler.transform(normalized_df)\n",
    "scaled_df = pd.DataFrame(scaled, columns = normalized_df.columns)"
   ]
  },
  {
   "cell_type": "code",
   "execution_count": 53,
   "metadata": {},
   "outputs": [
    {
     "data": {
      "text/plain": [
       "array([[<matplotlib.axes._subplots.AxesSubplot object at 0x0000020BC11BF8E0>,\n",
       "        <matplotlib.axes._subplots.AxesSubplot object at 0x0000020BC12141F0>],\n",
       "       [<matplotlib.axes._subplots.AxesSubplot object at 0x0000020BC12405E0>,\n",
       "        <matplotlib.axes._subplots.AxesSubplot object at 0x0000020BC126AA30>],\n",
       "       [<matplotlib.axes._subplots.AxesSubplot object at 0x0000020BC1298DC0>,\n",
       "        <matplotlib.axes._subplots.AxesSubplot object at 0x0000020BC12CD4F0>]],\n",
       "      dtype=object)"
      ]
     },
     "execution_count": 53,
     "metadata": {},
     "output_type": "execute_result"
    },
    {
     "data": {
      "image/png": "[encoded data removed]",
      "text/plain": [
       "<Figure size 1008x864 with 6 Axes>"
      ]
     },
     "metadata": {
      "needs_background": "light"
     },
     "output_type": "display_data"
    }
   ],
   "source": [
    "scaled_df.hist(figsize=(14,12))"
   ]
  },
  {
   "cell_type": "markdown",
   "metadata": {},
   "source": [
    "#### Checking for class Imbalance"
   ]
  },
  {
   "cell_type": "code",
   "execution_count": 54,
   "metadata": {
    "scrolled": true
   },
   "outputs": [
    {
     "data": {
      "text/plain": [
       "<matplotlib.axes._subplots.AxesSubplot at 0x20bc1bbf6a0>"
      ]
     },
     "execution_count": 54,
     "metadata": {},
     "output_type": "execute_result"
    },
    {
     "data": {
      "image/png": "[encoded data removed]",
      "text/plain": [
       "<Figure size 432x288 with 1 Axes>"
      ]
     },
     "metadata": {
      "needs_background": "light"
     },
     "output_type": "display_data"
    }
   ],
   "source": [
    "sns.countplot(scaled_df['WQC_label'])"
   ]
  },
  {
   "cell_type": "code",
   "execution_count": 55,
   "metadata": {},
   "outputs": [
    {
     "data": {
      "text/plain": [
       "0.5    1251\n",
       "0.0     389\n",
       "1.0     120\n",
       "Name: WQC_label, dtype: int64"
      ]
     },
     "execution_count": 55,
     "metadata": {},
     "output_type": "execute_result"
    }
   ],
   "source": [
    "scaled_df['WQC_label'].value_counts()# output is imbalanced"
   ]
  },
  {
   "cell_type": "markdown",
   "metadata": {},
   "source": [
    "#### Feature Selection on Normalized data"
   ]
  },
  {
   "cell_type": "code",
   "execution_count": 56,
   "metadata": {},
   "outputs": [
    {
     "data": {
      "text/plain": [
       "<matplotlib.axes._subplots.AxesSubplot at 0x20bc32bd490>"
      ]
     },
     "execution_count": 56,
     "metadata": {},
     "output_type": "execute_result"
    },
    {
     "data": {
      "image/png": "[encoded data removed]",
      "text/plain": [
       "<Figure size 432x288 with 2 Axes>"
      ]
     },
     "metadata": {
      "needs_background": "light"
     },
     "output_type": "display_data"
    }
   ],
   "source": [
    "sns.heatmap(scaled_df.corr(), annot=True, cmap = 'terrain')"
   ]
  },
  {
   "cell_type": "markdown",
   "metadata": {},
   "source": [
    "#### Label Encorder"
   ]
  },
  {
   "cell_type": "code",
   "execution_count": 57,
   "metadata": {},
   "outputs": [
    {
     "data": {
      "text/html": [
       "<div>\n",
       "<style scoped>\n",
       "    .dataframe tbody tr th:only-of-type {\n",
       "        vertical-align: middle;\n",
       "    }\n",
       "\n",
       "    .dataframe tbody tr th {\n",
       "        vertical-align: top;\n",
       "    }\n",
       "\n",
       "    .dataframe thead th {\n",
       "        text-align: right;\n",
       "    }\n",
       "</style>\n",
       "<table border=\"1\" class=\"dataframe\">\n",
       "  <thead>\n",
       "    <tr style=\"text-align: right;\">\n",
       "      <th></th>\n",
       "      <th>Electrical Conductivty (µs/cm)</th>\n",
       "      <th>pH (pH Units)</th>\n",
       "      <th>Turbidty (NTU)</th>\n",
       "      <th>Apparent Colour (PtCo)</th>\n",
       "      <th>Residual Cl2 (mg/L)</th>\n",
       "      <th>WQC_label</th>\n",
       "    </tr>\n",
       "  </thead>\n",
       "  <tbody>\n",
       "    <tr>\n",
       "      <th>0</th>\n",
       "      <td>0.691089</td>\n",
       "      <td>0.442926</td>\n",
       "      <td>0.024390</td>\n",
       "      <td>0.333333</td>\n",
       "      <td>0.500000</td>\n",
       "      <td>1</td>\n",
       "    </tr>\n",
       "    <tr>\n",
       "      <th>1</th>\n",
       "      <td>0.710891</td>\n",
       "      <td>0.442926</td>\n",
       "      <td>0.455285</td>\n",
       "      <td>0.555556</td>\n",
       "      <td>0.678571</td>\n",
       "      <td>1</td>\n",
       "    </tr>\n",
       "    <tr>\n",
       "      <th>2</th>\n",
       "      <td>0.722772</td>\n",
       "      <td>0.018349</td>\n",
       "      <td>0.363281</td>\n",
       "      <td>0.445159</td>\n",
       "      <td>0.678571</td>\n",
       "      <td>1</td>\n",
       "    </tr>\n",
       "    <tr>\n",
       "      <th>3</th>\n",
       "      <td>0.673267</td>\n",
       "      <td>0.442926</td>\n",
       "      <td>0.826016</td>\n",
       "      <td>0.777778</td>\n",
       "      <td>0.678571</td>\n",
       "      <td>1</td>\n",
       "    </tr>\n",
       "    <tr>\n",
       "      <th>4</th>\n",
       "      <td>0.691089</td>\n",
       "      <td>0.091743</td>\n",
       "      <td>0.185366</td>\n",
       "      <td>0.333333</td>\n",
       "      <td>0.500000</td>\n",
       "      <td>1</td>\n",
       "    </tr>\n",
       "    <tr>\n",
       "      <th>...</th>\n",
       "      <td>...</td>\n",
       "      <td>...</td>\n",
       "      <td>...</td>\n",
       "      <td>...</td>\n",
       "      <td>...</td>\n",
       "      <td>...</td>\n",
       "    </tr>\n",
       "    <tr>\n",
       "      <th>1755</th>\n",
       "      <td>0.469307</td>\n",
       "      <td>0.302752</td>\n",
       "      <td>0.331707</td>\n",
       "      <td>0.777778</td>\n",
       "      <td>0.678571</td>\n",
       "      <td>1</td>\n",
       "    </tr>\n",
       "    <tr>\n",
       "      <th>1756</th>\n",
       "      <td>0.413861</td>\n",
       "      <td>0.385321</td>\n",
       "      <td>0.014634</td>\n",
       "      <td>0.222222</td>\n",
       "      <td>0.505112</td>\n",
       "      <td>2</td>\n",
       "    </tr>\n",
       "    <tr>\n",
       "      <th>1757</th>\n",
       "      <td>0.556436</td>\n",
       "      <td>0.256881</td>\n",
       "      <td>0.073171</td>\n",
       "      <td>0.445159</td>\n",
       "      <td>0.678571</td>\n",
       "      <td>1</td>\n",
       "    </tr>\n",
       "    <tr>\n",
       "      <th>1758</th>\n",
       "      <td>0.518812</td>\n",
       "      <td>0.183486</td>\n",
       "      <td>0.113821</td>\n",
       "      <td>0.222222</td>\n",
       "      <td>0.505112</td>\n",
       "      <td>2</td>\n",
       "    </tr>\n",
       "    <tr>\n",
       "      <th>1759</th>\n",
       "      <td>0.538614</td>\n",
       "      <td>0.266055</td>\n",
       "      <td>0.357724</td>\n",
       "      <td>0.444444</td>\n",
       "      <td>0.678571</td>\n",
       "      <td>1</td>\n",
       "    </tr>\n",
       "  </tbody>\n",
       "</table>\n",
       "<p>1760 rows × 6 columns</p>\n",
       "</div>"
      ],
      "text/plain": [
       "      Electrical Conductivty (µs/cm)  pH (pH Units)  Turbidty (NTU)  \\\n",
       "0                           0.691089       0.442926        0.024390   \n",
       "1                           0.710891       0.442926        0.455285   \n",
       "2                           0.722772       0.018349        0.363281   \n",
       "3                           0.673267       0.442926        0.826016   \n",
       "4                           0.691089       0.091743        0.185366   \n",
       "...                              ...            ...             ...   \n",
       "1755                        0.469307       0.302752        0.331707   \n",
       "1756                        0.413861       0.385321        0.014634   \n",
       "1757                        0.556436       0.256881        0.073171   \n",
       "1758                        0.518812       0.183486        0.113821   \n",
       "1759                        0.538614       0.266055        0.357724   \n",
       "\n",
       "      Apparent Colour (PtCo)  Residual Cl2 (mg/L)  WQC_label  \n",
       "0                   0.333333             0.500000          1  \n",
       "1                   0.555556             0.678571          1  \n",
       "2                   0.445159             0.678571          1  \n",
       "3                   0.777778             0.678571          1  \n",
       "4                   0.333333             0.500000          1  \n",
       "...                      ...                  ...        ...  \n",
       "1755                0.777778             0.678571          1  \n",
       "1756                0.222222             0.505112          2  \n",
       "1757                0.445159             0.678571          1  \n",
       "1758                0.222222             0.505112          2  \n",
       "1759                0.444444             0.678571          1  \n",
       "\n",
       "[1760 rows x 6 columns]"
      ]
     },
     "execution_count": 57,
     "metadata": {},
     "output_type": "execute_result"
    }
   ],
   "source": [
    "from sklearn.preprocessing import LabelEncoder\n",
    "label_encoder = LabelEncoder()\n",
    "scaled_df['WQC_label']= label_encoder.fit_transform(scaled_df['WQC_label'])\n",
    "scaled_df"
   ]
  },
  {
   "cell_type": "markdown",
   "metadata": {},
   "source": [
    "### Model Training "
   ]
  },
  {
   "cell_type": "markdown",
   "metadata": {},
   "source": [
    "#### Data Splitting - Imbalanced data "
   ]
  },
  {
   "cell_type": "code",
   "execution_count": 58,
   "metadata": {},
   "outputs": [],
   "source": [
    "X = scaled_df.drop('WQC_label',axis=1)\n",
    "Y= scaled_df['WQC_label']"
   ]
  },
  {
   "cell_type": "code",
   "execution_count": 59,
   "metadata": {},
   "outputs": [],
   "source": [
    "from sklearn.model_selection import train_test_split\n",
    "X_train, X_test, Y_train, Y_test = train_test_split(X,Y, test_size= 0.2, random_state = 101, shuffle = True)"
   ]
  },
  {
   "cell_type": "code",
   "execution_count": 60,
   "metadata": {},
   "outputs": [
    {
     "data": {
      "image/png": "[encoded data removed]",
      "text/plain": [
       "<Figure size 360x360 with 1 Axes>"
      ]
     },
     "metadata": {},
     "output_type": "display_data"
    }
   ],
   "source": [
    "no_classes = Y_train.value_counts()\n",
    "plot = no_classes.plot.pie(figsize=(5, 5))"
   ]
  },
  {
   "cell_type": "markdown",
   "metadata": {},
   "source": [
    "#### Decision Tree Classifier and Accuracy"
   ]
  },
  {
   "cell_type": "code",
   "execution_count": 61,
   "metadata": {},
   "outputs": [
    {
     "data": {
      "text/plain": [
       "DecisionTreeClassifier(min_samples_split=10)"
      ]
     },
     "execution_count": 61,
     "metadata": {},
     "output_type": "execute_result"
    }
   ],
   "source": [
    "from sklearn.tree import DecisionTreeClassifier\n",
    "from sklearn.metrics import accuracy_score,confusion_matrix,classification_report\n",
    "from sklearn.metrics import plot_confusion_matrix\n",
    "dt=DecisionTreeClassifier(criterion= 'gini', min_samples_split= 10, splitter= 'best')\n",
    "dt.fit(X_train,Y_train)"
   ]
  },
  {
   "cell_type": "code",
   "execution_count": 62,
   "metadata": {
    "scrolled": true
   },
   "outputs": [
    {
     "name": "stdout",
     "output_type": "stream",
     "text": [
      "Accuracy Score = 86.64772727272727\n",
      "Confusion Matrix = \n",
      " [[ 57  15   0]\n",
      " [ 27 227   1]\n",
      " [  2   2  21]]\n",
      "Classification Report =\n",
      "               precision    recall  f1-score   support\n",
      "\n",
      "           0       0.66      0.79      0.72        72\n",
      "           1       0.93      0.89      0.91       255\n",
      "           2       0.95      0.84      0.89        25\n",
      "\n",
      "    accuracy                           0.87       352\n",
      "   macro avg       0.85      0.84      0.84       352\n",
      "weighted avg       0.88      0.87      0.87       352\n",
      "\n"
     ]
    },
    {
     "data": {
      "image/png": "[encoded data removed]",
      "text/plain": [
       "<Figure size 432x288 with 2 Axes>"
      ]
     },
     "metadata": {
      "needs_background": "light"
     },
     "output_type": "display_data"
    }
   ],
   "source": [
    "prediction_1 = dt.predict(X_test)\n",
    "print(f\"Accuracy Score = {accuracy_score(Y_test,prediction_1)*100}\")\n",
    "print(f\"Confusion Matrix = \\n {confusion_matrix(Y_test,prediction_1)}\")\n",
    "print(f\"Classification Report =\\n {classification_report(Y_test,prediction_1)}\")\n",
    "disp = plot_confusion_matrix(dt, X_test,Y_test, cmap = 'cividis' )"
   ]
  },
  {
   "cell_type": "markdown",
   "metadata": {},
   "source": [
    "#### Checking for Feature Importance"
   ]
  },
  {
   "cell_type": "code",
   "execution_count": 63,
   "metadata": {},
   "outputs": [
    {
     "name": "stdout",
     "output_type": "stream",
     "text": [
      "Feature importances:\n",
      "[0.06797613 0.07655672 0.06140119 0.04115658 0.75290938]\n",
      "                        Feature_Importance\n",
      "Electrical Conductivty            0.067976\n",
      "pH                                0.076557\n",
      "Turbidty                          0.061401\n",
      "Apparent Colour                   0.041157\n",
      "Residual Cl2                      0.752909\n"
     ]
    },
    {
     "data": {
      "text/plain": [
       "<matplotlib.axes._subplots.AxesSubplot at 0x20bc1869d60>"
      ]
     },
     "execution_count": 63,
     "metadata": {},
     "output_type": "execute_result"
    },
    {
     "data": {
      "image/png": "[encoded data removed]",
      "text/plain": [
       "<Figure size 360x360 with 1 Axes>"
      ]
     },
     "metadata": {
      "needs_background": "light"
     },
     "output_type": "display_data"
    }
   ],
   "source": [
    "print(\"Feature importances:\\n{}\".format(dt.feature_importances_))\n",
    "df = pd.DataFrame(dt.feature_importances_, index = ['Electrical Conductivty', 'pH', 'Turbidty', 'Apparent Colour', 'Residual Cl2'], columns = ['Feature_Importance'])\n",
    "print(df)\n",
    "df.astype('object')\n",
    "df.plot( kind = 'bar', figsize = (5,5))"
   ]
  },
  {
   "cell_type": "markdown",
   "metadata": {},
   "source": [
    "#### Prediction on one set of data "
   ]
  },
  {
   "cell_type": "code",
   "execution_count": 64,
   "metadata": {},
   "outputs": [
    {
     "name": "stdout",
     "output_type": "stream",
     "text": [
      "[1]\n"
     ]
    }
   ],
   "source": [
    "res = dt.predict(X.iloc[[1758]])\n",
    "print(res)# biased due to class imbalance"
   ]
  },
  {
   "cell_type": "markdown",
   "metadata": {},
   "source": [
    "#### DecisionTreeClassifier with Class Imbalance"
   ]
  },
  {
   "cell_type": "code",
   "execution_count": 65,
   "metadata": {},
   "outputs": [
    {
     "name": "stdout",
     "output_type": "stream",
     "text": [
      "Note: you may need to restart the kernel to use updated packages.\n"
     ]
    },
    {
     "name": "stderr",
     "output_type": "stream",
     "text": [
      "'C:\\Users\\jagen' is not recognized as an internal or external command,\n",
      "operable program or batch file.\n"
     ]
    }
   ],
   "source": [
    "pip install imblearn"
   ]
  },
  {
   "cell_type": "code",
   "execution_count": 66,
   "metadata": {},
   "outputs": [
    {
     "data": {
      "text/plain": [
       "DecisionTreeClassifier(class_weight='balanced', min_samples_split=10)"
      ]
     },
     "execution_count": 66,
     "metadata": {},
     "output_type": "execute_result"
    }
   ],
   "source": [
    "dt_b=DecisionTreeClassifier(criterion= 'gini',class_weight = 'balanced', min_samples_split= 10, splitter= 'best')\n",
    "dt_b.fit(X_train,Y_train)"
   ]
  },
  {
   "cell_type": "code",
   "execution_count": 67,
   "metadata": {},
   "outputs": [
    {
     "name": "stdout",
     "output_type": "stream",
     "text": [
      "Accuracy Score = 86.64772727272727\n",
      "Confusion Matrix = \n",
      " [[ 59  11   2]\n",
      " [ 27 224   4]\n",
      " [  1   2  22]]\n",
      "Classification Report =\n",
      "               precision    recall  f1-score   support\n",
      "\n",
      "           0       0.68      0.82      0.74        72\n",
      "           1       0.95      0.88      0.91       255\n",
      "           2       0.79      0.88      0.83        25\n",
      "\n",
      "    accuracy                           0.87       352\n",
      "   macro avg       0.80      0.86      0.83       352\n",
      "weighted avg       0.88      0.87      0.87       352\n",
      "\n"
     ]
    },
    {
     "data": {
      "image/png": "[encoded data removed]",
      "text/plain": [
       "<Figure size 432x288 with 2 Axes>"
      ]
     },
     "metadata": {
      "needs_background": "light"
     },
     "output_type": "display_data"
    }
   ],
   "source": [
    "prediction_2 = dt_b.predict(X_test)\n",
    "print(f\"Accuracy Score = {accuracy_score(Y_test,prediction_2)*100}\")\n",
    "print(f\"Confusion Matrix = \\n {confusion_matrix(Y_test,prediction_2)}\")\n",
    "print(f\"Classification Report =\\n {classification_report(Y_test,prediction_2)}\")\n",
    "disp_1 = plot_confusion_matrix(dt_b, X_test,Y_test, cmap = 'cividis' )"
   ]
  },
  {
   "cell_type": "code",
   "execution_count": 68,
   "metadata": {},
   "outputs": [
    {
     "name": "stdout",
     "output_type": "stream",
     "text": [
      "Feature importances:\n",
      "[0.05115614 0.092359   0.04242343 0.02048809 0.79357335]\n",
      "                        Feature_Importance\n",
      "Electrical Conductivty            0.051156\n",
      "pH                                0.092359\n",
      "Turbidty                          0.042423\n",
      "Apparent Colour                   0.020488\n",
      "Residual Cl2                      0.793573\n"
     ]
    },
    {
     "data": {
      "text/plain": [
       "<matplotlib.axes._subplots.AxesSubplot at 0x20bc1d33dc0>"
      ]
     },
     "execution_count": 68,
     "metadata": {},
     "output_type": "execute_result"
    },
    {
     "data": {
      "image/png": "[encoded data removed]",
      "text/plain": [
       "<Figure size 360x360 with 1 Axes>"
      ]
     },
     "metadata": {
      "needs_background": "light"
     },
     "output_type": "display_data"
    }
   ],
   "source": [
    "print(\"Feature importances:\\n{}\".format(dt_b.feature_importances_))\n",
    "df_a = pd.DataFrame(dt_b.feature_importances_, index = ['Electrical Conductivty', 'pH', 'Turbidty', 'Apparent Colour', 'Residual Cl2 '], columns = ['Feature_Importance'])\n",
    "print(df_a)\n",
    "df_a.astype('object')\n",
    "df_a.plot( kind = 'bar', figsize = (5,5))"
   ]
  },
  {
   "cell_type": "markdown",
   "metadata": {},
   "source": [
    "#### Prediction on one set of data"
   ]
  },
  {
   "cell_type": "code",
   "execution_count": 69,
   "metadata": {},
   "outputs": [
    {
     "name": "stdout",
     "output_type": "stream",
     "text": [
      "[2]\n"
     ]
    }
   ],
   "source": [
    "res_a = dt_b.predict(X.iloc[[1758]])\n",
    "print(res_a)# better at predicting rare events"
   ]
  },
  {
   "cell_type": "markdown",
   "metadata": {},
   "source": [
    "#### DecisionTreeClassifier with Data-level preprocessing"
   ]
  },
  {
   "cell_type": "markdown",
   "metadata": {},
   "source": [
    "##### Oversampling"
   ]
  },
  {
   "cell_type": "code",
   "execution_count": 70,
   "metadata": {},
   "outputs": [],
   "source": [
    "from imblearn.over_sampling import RandomOverSampler\n",
    "ros = RandomOverSampler(random_state = 0)\n",
    "X_train_resampled, y_train_resampled = ros.fit_resample(X_train,Y_train)"
   ]
  },
  {
   "cell_type": "code",
   "execution_count": 71,
   "metadata": {},
   "outputs": [
    {
     "data": {
      "image/png": "[encoded data removed]",
      "text/plain": [
       "<Figure size 360x360 with 1 Axes>"
      ]
     },
     "metadata": {},
     "output_type": "display_data"
    }
   ],
   "source": [
    "over_classes = y_train_resampled.value_counts()\n",
    "plot = over_classes.plot.pie(figsize=(5, 5))"
   ]
  },
  {
   "cell_type": "code",
   "execution_count": 72,
   "metadata": {},
   "outputs": [
    {
     "data": {
      "text/plain": [
       "DecisionTreeClassifier(min_samples_split=10)"
      ]
     },
     "execution_count": 72,
     "metadata": {},
     "output_type": "execute_result"
    }
   ],
   "source": [
    "dt_c=DecisionTreeClassifier(criterion= 'gini', min_samples_split= 10, splitter= 'best')\n",
    "dt_c.fit(X_train_resampled,y_train_resampled)"
   ]
  },
  {
   "cell_type": "code",
   "execution_count": 73,
   "metadata": {},
   "outputs": [
    {
     "name": "stdout",
     "output_type": "stream",
     "text": [
      "Accuracy Score = 86.93181818181817\n",
      "Confusion Matrix = \n",
      " [[ 53  18   1]\n",
      " [ 23 231   1]\n",
      " [  2   1  22]]\n",
      "Classification Report =\n",
      "               precision    recall  f1-score   support\n",
      "\n",
      "           0       0.68      0.74      0.71        72\n",
      "           1       0.92      0.91      0.91       255\n",
      "           2       0.92      0.88      0.90        25\n",
      "\n",
      "    accuracy                           0.87       352\n",
      "   macro avg       0.84      0.84      0.84       352\n",
      "weighted avg       0.87      0.87      0.87       352\n",
      "\n"
     ]
    },
    {
     "data": {
      "image/png": "[encoded data removed]",
      "text/plain": [
       "<Figure size 432x288 with 2 Axes>"
      ]
     },
     "metadata": {
      "needs_background": "light"
     },
     "output_type": "display_data"
    }
   ],
   "source": [
    "prediction_3 = dt_c.predict(X_test)\n",
    "print(f\"Accuracy Score = {accuracy_score(Y_test,prediction_3)*100}\")\n",
    "print(f\"Confusion Matrix = \\n {confusion_matrix(Y_test,prediction_3)}\")\n",
    "print(f\"Classification Report =\\n {classification_report(Y_test,prediction_3)}\")\n",
    "disp_2 = plot_confusion_matrix(dt_c, X_test,Y_test, cmap = 'cividis' )"
   ]
  },
  {
   "cell_type": "code",
   "execution_count": 74,
   "metadata": {},
   "outputs": [
    {
     "name": "stdout",
     "output_type": "stream",
     "text": [
      "Feature importances:\n",
      "[0.0822211  0.09883006 0.0515143  0.02702438 0.74041016]\n",
      "                        Feature_Importance\n",
      "Electrical Conductivty            0.082221\n",
      "pH                                0.098830\n",
      "Turbidty                          0.051514\n",
      "Apparent Colour                   0.027024\n",
      "Residual Cl2                      0.740410\n"
     ]
    },
    {
     "data": {
      "text/plain": [
       "<matplotlib.axes._subplots.AxesSubplot at 0x20bc3361d60>"
      ]
     },
     "execution_count": 74,
     "metadata": {},
     "output_type": "execute_result"
    },
    {
     "data": {
      "image/png": "[encoded data removed]",
      "text/plain": [
       "<Figure size 360x360 with 1 Axes>"
      ]
     },
     "metadata": {
      "needs_background": "light"
     },
     "output_type": "display_data"
    }
   ],
   "source": [
    "print(\"Feature importances:\\n{}\".format(dt_c.feature_importances_))\n",
    "df_b = pd.DataFrame(dt_c.feature_importances_, index = ['Electrical Conductivty', 'pH', 'Turbidty', 'Apparent Colour', 'Residual Cl2 '], columns = ['Feature_Importance'])\n",
    "print(df_b)\n",
    "df_b.astype('object')\n",
    "df_b.plot( kind = 'bar', figsize = (5,5))"
   ]
  },
  {
   "cell_type": "code",
   "execution_count": 75,
   "metadata": {},
   "outputs": [
    {
     "name": "stdout",
     "output_type": "stream",
     "text": [
      "[2]\n"
     ]
    }
   ],
   "source": [
    "res_b = dt_c.predict(X.iloc[[1758]])\n",
    "print(res_b)"
   ]
  },
  {
   "cell_type": "code",
   "execution_count": 76,
   "metadata": {},
   "outputs": [],
   "source": [
    "# Decision Tree Classifier with oversampling has the best performance so far"
   ]
  },
  {
   "cell_type": "markdown",
   "metadata": {},
   "source": [
    "##### Oversampling using SMOTE"
   ]
  },
  {
   "cell_type": "code",
   "execution_count": 77,
   "metadata": {},
   "outputs": [],
   "source": [
    "from imblearn.over_sampling import SMOTE\n",
    "smote = SMOTE()\n",
    "X_train_resampled1, y_train_resampled1 = smote.fit_resample(X_train,Y_train)"
   ]
  },
  {
   "cell_type": "code",
   "execution_count": 78,
   "metadata": {},
   "outputs": [
    {
     "data": {
      "image/png": "[encoded data removed]",
      "text/plain": [
       "<Figure size 360x360 with 1 Axes>"
      ]
     },
     "metadata": {},
     "output_type": "display_data"
    }
   ],
   "source": [
    "over_classes_1 = y_train_resampled1.value_counts()\n",
    "plot = over_classes_1.plot.pie(figsize=(5, 5))"
   ]
  },
  {
   "cell_type": "code",
   "execution_count": 79,
   "metadata": {},
   "outputs": [
    {
     "data": {
      "text/plain": [
       "DecisionTreeClassifier(min_samples_split=10)"
      ]
     },
     "execution_count": 79,
     "metadata": {},
     "output_type": "execute_result"
    }
   ],
   "source": [
    "dt_d=DecisionTreeClassifier(criterion= 'gini', min_samples_split= 10, splitter= 'best')\n",
    "dt_d.fit(X_train_resampled1,y_train_resampled1)"
   ]
  },
  {
   "cell_type": "code",
   "execution_count": 80,
   "metadata": {},
   "outputs": [
    {
     "name": "stdout",
     "output_type": "stream",
     "text": [
      "Accuracy Score = 85.22727272727273\n",
      "Confusion Matrix = \n",
      " [[ 51  18   3]\n",
      " [ 24 227   4]\n",
      " [  2   1  22]]\n",
      "Classification Report =\n",
      "               precision    recall  f1-score   support\n",
      "\n",
      "           0       0.66      0.71      0.68        72\n",
      "           1       0.92      0.89      0.91       255\n",
      "           2       0.76      0.88      0.81        25\n",
      "\n",
      "    accuracy                           0.85       352\n",
      "   macro avg       0.78      0.83      0.80       352\n",
      "weighted avg       0.86      0.85      0.85       352\n",
      "\n"
     ]
    },
    {
     "data": {
      "image/png": "[encoded data removed]",
      "text/plain": [
       "<Figure size 432x288 with 2 Axes>"
      ]
     },
     "metadata": {
      "needs_background": "light"
     },
     "output_type": "display_data"
    }
   ],
   "source": [
    "prediction_4 = dt_d.predict(X_test)\n",
    "print(f\"Accuracy Score = {accuracy_score(Y_test,prediction_4)*100}\")\n",
    "print(f\"Confusion Matrix = \\n {confusion_matrix(Y_test,prediction_4)}\")\n",
    "print(f\"Classification Report =\\n {classification_report(Y_test,prediction_4)}\")\n",
    "disp_3 = plot_confusion_matrix(dt_d, X_test,Y_test, cmap = 'cividis' )"
   ]
  },
  {
   "cell_type": "code",
   "execution_count": 81,
   "metadata": {},
   "outputs": [
    {
     "name": "stdout",
     "output_type": "stream",
     "text": [
      "Feature importances:\n",
      "[0.05070094 0.08100135 0.05921079 0.04052018 0.76856673]\n",
      "                        Feature_Importance\n",
      "Electrical Conductivty            0.050701\n",
      "pH                                0.081001\n",
      "Turbidty                          0.059211\n",
      "Apparent Colour                   0.040520\n",
      "Residual Cl2                      0.768567\n"
     ]
    },
    {
     "data": {
      "text/plain": [
       "<matplotlib.axes._subplots.AxesSubplot at 0x20bc348c9a0>"
      ]
     },
     "execution_count": 81,
     "metadata": {},
     "output_type": "execute_result"
    },
    {
     "data": {
      "image/png": "[encoded data removed]",
      "text/plain": [
       "<Figure size 360x360 with 1 Axes>"
      ]
     },
     "metadata": {
      "needs_background": "light"
     },
     "output_type": "display_data"
    }
   ],
   "source": [
    "print(\"Feature importances:\\n{}\".format(dt_d.feature_importances_))\n",
    "df_c = pd.DataFrame(dt_d.feature_importances_, index = ['Electrical Conductivty', 'pH', 'Turbidty', 'Apparent Colour', 'Residual Cl2 '], columns = ['Feature_Importance'])\n",
    "print(df_c)\n",
    "df_c.astype('object')\n",
    "df_c.plot( kind = 'bar', figsize = (5,5))"
   ]
  },
  {
   "cell_type": "code",
   "execution_count": 82,
   "metadata": {},
   "outputs": [
    {
     "name": "stdout",
     "output_type": "stream",
     "text": [
      "[2]\n"
     ]
    }
   ],
   "source": [
    "res_d = dt_d.predict(X.iloc[[1758]])\n",
    "print(res_d)# better at predicting rare events"
   ]
  },
  {
   "cell_type": "markdown",
   "metadata": {},
   "source": [
    "##### Undersampling using k clusters"
   ]
  },
  {
   "cell_type": "code",
   "execution_count": 83,
   "metadata": {},
   "outputs": [],
   "source": [
    "from imblearn.under_sampling import ClusterCentroids\n",
    "cc = ClusterCentroids(random_state = 0)\n",
    "X_train_resampled2, y_train_resample2 = cc.fit_resample(X_train,Y_train)"
   ]
  },
  {
   "cell_type": "code",
   "execution_count": 84,
   "metadata": {},
   "outputs": [
    {
     "data": {
      "image/png": "[encoded data removed]",
      "text/plain": [
       "<Figure size 360x360 with 1 Axes>"
      ]
     },
     "metadata": {},
     "output_type": "display_data"
    }
   ],
   "source": [
    "over_classes_2 = y_train_resample2.value_counts()\n",
    "plot = over_classes_2.plot.pie(figsize=(5, 5))"
   ]
  },
  {
   "cell_type": "code",
   "execution_count": 85,
   "metadata": {},
   "outputs": [
    {
     "data": {
      "text/plain": [
       "DecisionTreeClassifier(min_samples_split=10)"
      ]
     },
     "execution_count": 85,
     "metadata": {},
     "output_type": "execute_result"
    }
   ],
   "source": [
    "dt_e=DecisionTreeClassifier(criterion= 'gini', min_samples_split= 10, splitter= 'best')\n",
    "dt_e.fit(X_train_resampled2,y_train_resample2)"
   ]
  },
  {
   "cell_type": "code",
   "execution_count": 86,
   "metadata": {},
   "outputs": [
    {
     "name": "stdout",
     "output_type": "stream",
     "text": [
      "Accuracy Score = 85.79545454545455\n",
      "Confusion Matrix = \n",
      " [[ 67   0   5]\n",
      " [ 34 213   8]\n",
      " [  2   1  22]]\n",
      "Classification Report =\n",
      "               precision    recall  f1-score   support\n",
      "\n",
      "           0       0.65      0.93      0.77        72\n",
      "           1       1.00      0.84      0.91       255\n",
      "           2       0.63      0.88      0.73        25\n",
      "\n",
      "    accuracy                           0.86       352\n",
      "   macro avg       0.76      0.88      0.80       352\n",
      "weighted avg       0.90      0.86      0.87       352\n",
      "\n"
     ]
    },
    {
     "data": {
      "image/png": "[encoded data removed]",
      "text/plain": [
       "<Figure size 432x288 with 2 Axes>"
      ]
     },
     "metadata": {
      "needs_background": "light"
     },
     "output_type": "display_data"
    }
   ],
   "source": [
    "prediction_5 = dt_e.predict(X_test)\n",
    "print(f\"Accuracy Score = {accuracy_score(Y_test,prediction_5)*100}\")\n",
    "print(f\"Confusion Matrix = \\n {confusion_matrix(Y_test,prediction_5)}\")\n",
    "print(f\"Classification Report =\\n {classification_report(Y_test,prediction_5)}\")\n",
    "disp_4 = plot_confusion_matrix(dt_e, X_test,Y_test, cmap = 'cividis' )"
   ]
  },
  {
   "cell_type": "code",
   "execution_count": 87,
   "metadata": {},
   "outputs": [
    {
     "name": "stdout",
     "output_type": "stream",
     "text": [
      "Feature importances:\n",
      "[0.01263641 0.0690108  0.04412098 0.00549329 0.86873852]\n",
      "                        Feature_Importance\n",
      "Electrical Conductivty            0.012636\n",
      "pH                                0.069011\n",
      "Turbidty                          0.044121\n",
      "Apparent Colour                   0.005493\n",
      "Residual Cl2                      0.868739\n"
     ]
    },
    {
     "data": {
      "text/plain": [
       "<matplotlib.axes._subplots.AxesSubplot at 0x20bc36d1c10>"
      ]
     },
     "execution_count": 87,
     "metadata": {},
     "output_type": "execute_result"
    },
    {
     "data": {
      "image/png": "[encoded data removed]",
      "text/plain": [
       "<Figure size 360x360 with 1 Axes>"
      ]
     },
     "metadata": {
      "needs_background": "light"
     },
     "output_type": "display_data"
    }
   ],
   "source": [
    "print(\"Feature importances:\\n{}\".format(dt_e.feature_importances_))\n",
    "df_d = pd.DataFrame(dt_e.feature_importances_, index = ['Electrical Conductivty', 'pH', 'Turbidty', 'Apparent Colour', 'Residual Cl2 '], columns = ['Feature_Importance'])\n",
    "print(df_d)\n",
    "df_d.astype('object')\n",
    "df_d.plot( kind = 'bar', figsize = (5,5))"
   ]
  },
  {
   "cell_type": "code",
   "execution_count": 88,
   "metadata": {},
   "outputs": [
    {
     "name": "stdout",
     "output_type": "stream",
     "text": [
      "[1]\n"
     ]
    }
   ],
   "source": [
    "res_e = dt_e.predict(X.iloc[[1759]])\n",
    "print(res_e)# better at predicting rare events"
   ]
  },
  {
   "cell_type": "markdown",
   "metadata": {},
   "source": [
    "##### Ensemble learning: Bagging, ExtraTrees, RandomForest"
   ]
  },
  {
   "cell_type": "markdown",
   "metadata": {},
   "source": [
    "###### Bagging Classifier"
   ]
  },
  {
   "cell_type": "code",
   "execution_count": 89,
   "metadata": {},
   "outputs": [],
   "source": [
    "from sklearn.ensemble import BaggingClassifier "
   ]
  },
  {
   "cell_type": "code",
   "execution_count": 90,
   "metadata": {},
   "outputs": [],
   "source": [
    "clf = BaggingClassifier(n_estimators = 10, random_state=0)\n",
    "dt_f = clf.fit(X_train_resampled,y_train_resampled)"
   ]
  },
  {
   "cell_type": "code",
   "execution_count": 91,
   "metadata": {},
   "outputs": [
    {
     "name": "stdout",
     "output_type": "stream",
     "text": [
      "Accuracy Score = 86.64772727272727\n",
      "Confusion Matrix = \n",
      " [[ 57  14   1]\n",
      " [ 27 226   2]\n",
      " [  1   2  22]]\n",
      "Classification Report =\n",
      "               precision    recall  f1-score   support\n",
      "\n",
      "           0       0.67      0.79      0.73        72\n",
      "           1       0.93      0.89      0.91       255\n",
      "           2       0.88      0.88      0.88        25\n",
      "\n",
      "    accuracy                           0.87       352\n",
      "   macro avg       0.83      0.85      0.84       352\n",
      "weighted avg       0.88      0.87      0.87       352\n",
      "\n"
     ]
    },
    {
     "data": {
      "image/png": "[encoded data removed]",
      "text/plain": [
       "<Figure size 432x288 with 2 Axes>"
      ]
     },
     "metadata": {
      "needs_background": "light"
     },
     "output_type": "display_data"
    }
   ],
   "source": [
    "prediction_6 = dt_f.predict(X_test)\n",
    "print(f\"Accuracy Score = {accuracy_score(Y_test,prediction_6)*100}\")\n",
    "print(f\"Confusion Matrix = \\n {confusion_matrix(Y_test,prediction_6)}\")\n",
    "print(f\"Classification Report =\\n {classification_report(Y_test,prediction_6)}\")\n",
    "disp_5 = plot_confusion_matrix(dt_f, X_test,Y_test, cmap = 'cividis' )"
   ]
  },
  {
   "cell_type": "code",
   "execution_count": 92,
   "metadata": {},
   "outputs": [
    {
     "name": "stdout",
     "output_type": "stream",
     "text": [
      "[2]\n"
     ]
    }
   ],
   "source": [
    "res_f = dt_f.predict(X.iloc[[1758]])\n",
    "print(res_f)# better at predicting rare events"
   ]
  },
  {
   "cell_type": "code",
   "execution_count": 93,
   "metadata": {},
   "outputs": [],
   "source": [
    "# Bagging Classifier has the best performance so far\n",
    "# Bagging Classifier has no attribute for feature importance"
   ]
  },
  {
   "cell_type": "markdown",
   "metadata": {},
   "source": [
    "##### K Nearest Neighbors (KNN) Classifier"
   ]
  },
  {
   "cell_type": "code",
   "execution_count": 94,
   "metadata": {
    "scrolled": true
   },
   "outputs": [],
   "source": [
    "from sklearn.neighbors import KNeighborsClassifier\n",
    "k_classifier = KNeighborsClassifier(n_neighbors = 3)\n",
    "dt_g = k_classifier.fit(X_train_resampled,y_train_resampled)"
   ]
  },
  {
   "cell_type": "code",
   "execution_count": 95,
   "metadata": {},
   "outputs": [
    {
     "name": "stdout",
     "output_type": "stream",
     "text": [
      "Accuracy Score = 77.27272727272727\n",
      "Confusion Matrix = \n",
      " [[ 50  19   3]\n",
      " [ 48 201   6]\n",
      " [  1   3  21]]\n",
      "Classification Report =\n",
      "               precision    recall  f1-score   support\n",
      "\n",
      "           0       0.51      0.69      0.58        72\n",
      "           1       0.90      0.79      0.84       255\n",
      "           2       0.70      0.84      0.76        25\n",
      "\n",
      "    accuracy                           0.77       352\n",
      "   macro avg       0.70      0.77      0.73       352\n",
      "weighted avg       0.81      0.77      0.78       352\n",
      "\n"
     ]
    },
    {
     "data": {
      "image/png": "[encoded data removed]",
      "text/plain": [
       "<Figure size 432x288 with 2 Axes>"
      ]
     },
     "metadata": {
      "needs_background": "light"
     },
     "output_type": "display_data"
    }
   ],
   "source": [
    "prediction_7 = dt_g.predict(X_test)\n",
    "print(f\"Accuracy Score = {accuracy_score(Y_test,prediction_7)*100}\")\n",
    "print(f\"Confusion Matrix = \\n {confusion_matrix(Y_test,prediction_7)}\")\n",
    "print(f\"Classification Report =\\n {classification_report(Y_test,prediction_7)}\")\n",
    "disp_6 = plot_confusion_matrix(dt_g, X_test,Y_test, cmap = 'cividis' )"
   ]
  },
  {
   "cell_type": "code",
   "execution_count": 96,
   "metadata": {},
   "outputs": [],
   "source": [
    "# KNN classifier has the worst performance\n",
    "# KNN classifier has no attribute for feature importance"
   ]
  },
  {
   "cell_type": "code",
   "execution_count": 97,
   "metadata": {},
   "outputs": [
    {
     "name": "stdout",
     "output_type": "stream",
     "text": [
      "[2]\n"
     ]
    }
   ],
   "source": [
    "res_g = dt_g.predict(X.iloc[[1758]])\n",
    "print(res_g)# better at predicting rare events"
   ]
  },
  {
   "cell_type": "markdown",
   "metadata": {},
   "source": [
    "#### ExtraTreesClassifier"
   ]
  },
  {
   "cell_type": "code",
   "execution_count": 161,
   "metadata": {},
   "outputs": [],
   "source": [
    "from sklearn.ensemble import ExtraTreesClassifier\n",
    "from sklearn.model_selection import cross_val_score"
   ]
  },
  {
   "cell_type": "code",
   "execution_count": 162,
   "metadata": {},
   "outputs": [
    {
     "name": "stdout",
     "output_type": "stream",
     "text": [
      "ExtraTreesClassifier()\n"
     ]
    }
   ],
   "source": [
    "etc = ExtraTreesClassifier(n_estimators=100 )\n",
    "print(etc)"
   ]
  },
  {
   "cell_type": "code",
   "execution_count": 163,
   "metadata": {},
   "outputs": [],
   "source": [
    "dt_h = etc.fit(X_train_resampled,y_train_resampled)"
   ]
  },
  {
   "cell_type": "code",
   "execution_count": 164,
   "metadata": {},
   "outputs": [
    {
     "name": "stdout",
     "output_type": "stream",
     "text": [
      "Accuracy Score = 88.63636363636364\n",
      "Confusion Matrix = \n",
      " [[ 58  14   0]\n",
      " [ 21 232   2]\n",
      " [  1   2  22]]\n",
      "Classification Report =\n",
      "               precision    recall  f1-score   support\n",
      "\n",
      "           0       0.72      0.81      0.76        72\n",
      "           1       0.94      0.91      0.92       255\n",
      "           2       0.92      0.88      0.90        25\n",
      "\n",
      "    accuracy                           0.89       352\n",
      "   macro avg       0.86      0.87      0.86       352\n",
      "weighted avg       0.89      0.89      0.89       352\n",
      "\n"
     ]
    },
    {
     "data": {
      "image/png": "[encoded data removed]",
      "text/plain": [
       "<Figure size 432x288 with 2 Axes>"
      ]
     },
     "metadata": {
      "needs_background": "light"
     },
     "output_type": "display_data"
    }
   ],
   "source": [
    "prediction_8 = dt_h.predict(X_test)\n",
    "print(f\"Accuracy Score = {accuracy_score(Y_test,prediction_8)*100}\")\n",
    "print(f\"Confusion Matrix = \\n {confusion_matrix(Y_test,prediction_8)}\")\n",
    "print(f\"Classification Report =\\n {classification_report(Y_test,prediction_8)}\")\n",
    "disp_7 = plot_confusion_matrix(dt_h, X_test,Y_test, cmap = 'cividis' )"
   ]
  },
  {
   "cell_type": "code",
   "execution_count": 165,
   "metadata": {},
   "outputs": [
    {
     "name": "stdout",
     "output_type": "stream",
     "text": [
      "Feature importances:\n",
      "[0.09958108 0.10627073 0.09474596 0.06292363 0.6364786 ]\n",
      "                        Feature_Importance\n",
      "Electrical Conductivty            0.099581\n",
      "pH                                0.106271\n",
      "Turbidty                          0.094746\n",
      "Apparent Colour                   0.062924\n",
      "Residual Cl2                      0.636479\n"
     ]
    },
    {
     "data": {
      "text/plain": [
       "<matplotlib.axes._subplots.AxesSubplot at 0x20bc1800100>"
      ]
     },
     "execution_count": 165,
     "metadata": {},
     "output_type": "execute_result"
    },
    {
     "data": {
      "image/png": "[encoded data removed]",
      "text/plain": [
       "<Figure size 360x360 with 1 Axes>"
      ]
     },
     "metadata": {
      "needs_background": "light"
     },
     "output_type": "display_data"
    }
   ],
   "source": [
    "print(\"Feature importances:\\n{}\".format(dt_h.feature_importances_))\n",
    "df_e = pd.DataFrame(dt_h.feature_importances_, index = ['Electrical Conductivty', 'pH', 'Turbidty', 'Apparent Colour', 'Residual Cl2 '], columns = ['Feature_Importance'])\n",
    "print(df_e)\n",
    "df_e.astype('object')\n",
    "df_e.plot( kind = 'bar', figsize = (5,5))"
   ]
  },
  {
   "cell_type": "code",
   "execution_count": 130,
   "metadata": {},
   "outputs": [
    {
     "name": "stdout",
     "output_type": "stream",
     "text": [
      "[2]\n"
     ]
    }
   ],
   "source": [
    "res_h = dt_h.predict(X.iloc[[1758]])\n",
    "print(res_h)# better at predicting rare events"
   ]
  },
  {
   "cell_type": "code",
   "execution_count": 131,
   "metadata": {},
   "outputs": [],
   "source": [
    "# So far ExtraTreesClassifier has the best performance"
   ]
  },
  {
   "cell_type": "markdown",
   "metadata": {},
   "source": [
    "#### Random Forest Classifier"
   ]
  },
  {
   "cell_type": "code",
   "execution_count": 132,
   "metadata": {},
   "outputs": [],
   "source": [
    "from sklearn.ensemble import RandomForestClassifier"
   ]
  },
  {
   "cell_type": "code",
   "execution_count": 133,
   "metadata": {},
   "outputs": [
    {
     "name": "stdout",
     "output_type": "stream",
     "text": [
      "RandomForestClassifier()\n"
     ]
    }
   ],
   "source": [
    "rfc = RandomForestClassifier(n_estimators=100 )\n",
    "print(rfc)"
   ]
  },
  {
   "cell_type": "code",
   "execution_count": 134,
   "metadata": {},
   "outputs": [],
   "source": [
    "dt_i = rfc.fit(X_train_resampled,y_train_resampled)"
   ]
  },
  {
   "cell_type": "code",
   "execution_count": 135,
   "metadata": {},
   "outputs": [
    {
     "name": "stdout",
     "output_type": "stream",
     "text": [
      "Accuracy Score = 88.06818181818183\n",
      "Confusion Matrix = \n",
      " [[ 59  13   0]\n",
      " [ 23 229   3]\n",
      " [  2   1  22]]\n",
      "Classification Report =\n",
      "               precision    recall  f1-score   support\n",
      "\n",
      "           0       0.70      0.82      0.76        72\n",
      "           1       0.94      0.90      0.92       255\n",
      "           2       0.88      0.88      0.88        25\n",
      "\n",
      "    accuracy                           0.88       352\n",
      "   macro avg       0.84      0.87      0.85       352\n",
      "weighted avg       0.89      0.88      0.88       352\n",
      "\n"
     ]
    },
    {
     "data": {
      "image/png": "[encoded data removed]",
      "text/plain": [
       "<Figure size 432x288 with 2 Axes>"
      ]
     },
     "metadata": {
      "needs_background": "light"
     },
     "output_type": "display_data"
    }
   ],
   "source": [
    "prediction_9 = dt_i.predict(X_test)\n",
    "print(f\"Accuracy Score = {accuracy_score(Y_test,prediction_9)*100}\")\n",
    "print(f\"Confusion Matrix = \\n {confusion_matrix(Y_test,prediction_9)}\")\n",
    "print(f\"Classification Report =\\n {classification_report(Y_test,prediction_9)}\")\n",
    "disp_8 = plot_confusion_matrix(dt_i, X_test,Y_test, cmap = 'cividis' )"
   ]
  },
  {
   "cell_type": "code",
   "execution_count": 136,
   "metadata": {},
   "outputs": [
    {
     "name": "stdout",
     "output_type": "stream",
     "text": [
      "Feature importances:\n",
      "[0.11191896 0.1097675  0.10494227 0.04826006 0.62511121]\n",
      "                        Feature_Importance\n",
      "Electrical Conductivty            0.111919\n",
      "pH                                0.109768\n",
      "Turbidty                          0.104942\n",
      "Apparent Colour                   0.048260\n",
      "Residual Cl2                      0.625111\n"
     ]
    },
    {
     "data": {
      "text/plain": [
       "<matplotlib.axes._subplots.AxesSubplot at 0x20bc5cb96d0>"
      ]
     },
     "execution_count": 136,
     "metadata": {},
     "output_type": "execute_result"
    },
    {
     "data": {
      "image/png": "[encoded data removed]",
      "text/plain": [
       "<Figure size 360x360 with 1 Axes>"
      ]
     },
     "metadata": {
      "needs_background": "light"
     },
     "output_type": "display_data"
    }
   ],
   "source": [
    "print(\"Feature importances:\\n{}\".format(dt_i.feature_importances_))\n",
    "df_f = pd.DataFrame(dt_i.feature_importances_, index = ['Electrical Conductivty', 'pH', 'Turbidty', 'Apparent Colour', 'Residual Cl2 '], columns = ['Feature_Importance'])\n",
    "print(df_f)\n",
    "df_f.astype('object')\n",
    "df_f.plot( kind = 'bar', figsize = (5,5))"
   ]
  },
  {
   "cell_type": "code",
   "execution_count": 137,
   "metadata": {},
   "outputs": [
    {
     "name": "stdout",
     "output_type": "stream",
     "text": [
      "[2]\n"
     ]
    }
   ],
   "source": [
    "res_g = dt_i.predict(X.iloc[[1758]])\n",
    "print(res_g)# better at predicting rare events"
   ]
  },
  {
   "cell_type": "code",
   "execution_count": 138,
   "metadata": {},
   "outputs": [],
   "source": [
    "# So far RandomForestClassifier has good performance"
   ]
  },
  {
   "cell_type": "markdown",
   "metadata": {},
   "source": [
    "#### GradientBoosting Classifier"
   ]
  },
  {
   "cell_type": "code",
   "execution_count": 139,
   "metadata": {},
   "outputs": [],
   "source": [
    "from sklearn.ensemble import GradientBoostingClassifier"
   ]
  },
  {
   "cell_type": "code",
   "execution_count": 140,
   "metadata": {},
   "outputs": [
    {
     "name": "stdout",
     "output_type": "stream",
     "text": [
      "GradientBoostingClassifier()\n"
     ]
    }
   ],
   "source": [
    "gb = GradientBoostingClassifier(n_estimators=100 )\n",
    "print(gb)"
   ]
  },
  {
   "cell_type": "code",
   "execution_count": 141,
   "metadata": {},
   "outputs": [],
   "source": [
    "dt_j = gb.fit(X_train_resampled,y_train_resampled)"
   ]
  },
  {
   "cell_type": "code",
   "execution_count": 142,
   "metadata": {},
   "outputs": [
    {
     "name": "stdout",
     "output_type": "stream",
     "text": [
      "Accuracy Score = 89.20454545454545\n",
      "Confusion Matrix = \n",
      " [[ 68   2   2]\n",
      " [ 28 224   3]\n",
      " [  2   1  22]]\n",
      "Classification Report =\n",
      "               precision    recall  f1-score   support\n",
      "\n",
      "           0       0.69      0.94      0.80        72\n",
      "           1       0.99      0.88      0.93       255\n",
      "           2       0.81      0.88      0.85        25\n",
      "\n",
      "    accuracy                           0.89       352\n",
      "   macro avg       0.83      0.90      0.86       352\n",
      "weighted avg       0.91      0.89      0.90       352\n",
      "\n"
     ]
    },
    {
     "data": {
      "image/png": "[encoded data removed]",
      "text/plain": [
       "<Figure size 432x288 with 2 Axes>"
      ]
     },
     "metadata": {
      "needs_background": "light"
     },
     "output_type": "display_data"
    }
   ],
   "source": [
    "prediction_10 = dt_j.predict(X_test)\n",
    "print(f\"Accuracy Score = {accuracy_score(Y_test,prediction_10)*100}\")\n",
    "print(f\"Confusion Matrix = \\n {confusion_matrix(Y_test,prediction_10)}\")\n",
    "print(f\"Classification Report =\\n {classification_report(Y_test,prediction_10)}\")\n",
    "disp_9 = plot_confusion_matrix(dt_j, X_test,Y_test, cmap = 'cividis' )"
   ]
  },
  {
   "cell_type": "code",
   "execution_count": 143,
   "metadata": {},
   "outputs": [
    {
     "name": "stdout",
     "output_type": "stream",
     "text": [
      "Feature importances:\n",
      "[0.04583928 0.05115472 0.03208646 0.01196757 0.85895198]\n",
      "                        Feature_Importance\n",
      "Electrical Conductivty            0.045839\n",
      "pH                                0.051155\n",
      "Turbidty                          0.032086\n",
      "Apparent Colour                   0.011968\n",
      "Residual Cl2                      0.858952\n"
     ]
    },
    {
     "data": {
      "text/plain": [
       "<matplotlib.axes._subplots.AxesSubplot at 0x20bc5db0ac0>"
      ]
     },
     "execution_count": 143,
     "metadata": {},
     "output_type": "execute_result"
    },
    {
     "data": {
      "image/png": "[encoded data removed]",
      "text/plain": [
       "<Figure size 360x360 with 1 Axes>"
      ]
     },
     "metadata": {
      "needs_background": "light"
     },
     "output_type": "display_data"
    }
   ],
   "source": [
    "print(\"Feature importances:\\n{}\".format(dt_j.feature_importances_))\n",
    "df_g = pd.DataFrame(dt_j.feature_importances_, index = ['Electrical Conductivty', 'pH', 'Turbidty', 'Apparent Colour', 'Residual Cl2 '], columns = ['Feature_Importance'])\n",
    "print(df_g)\n",
    "df_g.astype('object')\n",
    "df_g.plot( kind = 'bar', figsize = (5,5))"
   ]
  },
  {
   "cell_type": "code",
   "execution_count": 155,
   "metadata": {},
   "outputs": [
    {
     "name": "stdout",
     "output_type": "stream",
     "text": [
      "[2]\n"
     ]
    }
   ],
   "source": [
    "res_h= dt_j.predict(X.iloc[[1758]])\n",
    "print(res_h)# better at predicting rare events"
   ]
  },
  {
   "cell_type": "code",
   "execution_count": 145,
   "metadata": {},
   "outputs": [],
   "source": [
    "# ExtraTreesClassifier has the best performance"
   ]
  },
  {
   "cell_type": "markdown",
   "metadata": {},
   "source": [
    "#### Logistic Regression Classifier"
   ]
  },
  {
   "cell_type": "code",
   "execution_count": 146,
   "metadata": {},
   "outputs": [],
   "source": [
    "from sklearn.linear_model import LogisticRegression"
   ]
  },
  {
   "cell_type": "code",
   "execution_count": 147,
   "metadata": {},
   "outputs": [
    {
     "name": "stdout",
     "output_type": "stream",
     "text": [
      "LogisticRegression()\n"
     ]
    }
   ],
   "source": [
    "lr = LogisticRegression() \n",
    "print(lr)"
   ]
  },
  {
   "cell_type": "code",
   "execution_count": 148,
   "metadata": {},
   "outputs": [],
   "source": [
    "dt_k = lr.fit(X_train_resampled,y_train_resampled)"
   ]
  },
  {
   "cell_type": "code",
   "execution_count": 149,
   "metadata": {},
   "outputs": [
    {
     "name": "stdout",
     "output_type": "stream",
     "text": [
      "Accuracy Score = 38.35227272727273\n",
      "Confusion Matrix = \n",
      " [[ 36  36   0]\n",
      " [114  77  64]\n",
      " [  0   3  22]]\n",
      "Classification Report =\n",
      "               precision    recall  f1-score   support\n",
      "\n",
      "           0       0.24      0.50      0.32        72\n",
      "           1       0.66      0.30      0.42       255\n",
      "           2       0.26      0.88      0.40        25\n",
      "\n",
      "    accuracy                           0.38       352\n",
      "   macro avg       0.39      0.56      0.38       352\n",
      "weighted avg       0.55      0.38      0.40       352\n",
      "\n"
     ]
    },
    {
     "data": {
      "image/png": "[encoded data removed]",
      "text/plain": [
       "<Figure size 432x288 with 2 Axes>"
      ]
     },
     "metadata": {
      "needs_background": "light"
     },
     "output_type": "display_data"
    }
   ],
   "source": [
    "prediction_11 = dt_k.predict(X_test)\n",
    "print(f\"Accuracy Score = {accuracy_score(Y_test,prediction_11)*100}\")\n",
    "print(f\"Confusion Matrix = \\n {confusion_matrix(Y_test,prediction_11)}\")\n",
    "print(f\"Classification Report =\\n {classification_report(Y_test,prediction_11)}\")\n",
    "disp_10 = plot_confusion_matrix(dt_k, X_test,Y_test, cmap = 'cividis' )"
   ]
  },
  {
   "cell_type": "code",
   "execution_count": null,
   "metadata": {},
   "outputs": [],
   "source": [
    "# LogisticRegression has no attribute for feature performance"
   ]
  },
  {
   "cell_type": "code",
   "execution_count": 160,
   "metadata": {},
   "outputs": [
    {
     "name": "stdout",
     "output_type": "stream",
     "text": [
      "[2]\n"
     ]
    }
   ],
   "source": [
    "res_h= dt_j.predict(X.iloc[[1758]])\n",
    "print(res_h)# better at predicting rare events"
   ]
  },
  {
   "cell_type": "markdown",
   "metadata": {},
   "source": [
    "#### SVM Classifier"
   ]
  },
  {
   "cell_type": "code",
   "execution_count": null,
   "metadata": {},
   "outputs": [],
   "source": [
    "from sklearn.svn import svc"
   ]
  },
  {
   "cell_type": "code",
   "execution_count": null,
   "metadata": {},
   "outputs": [],
   "source": [
    "sv_clf = SVC(probability=TRUE< kernel )"
   ]
  },
  {
   "cell_type": "code",
   "execution_count": null,
   "metadata": {},
   "outputs": [],
   "source": []
  },
  {
   "cell_type": "code",
   "execution_count": null,
   "metadata": {},
   "outputs": [],
   "source": []
  },
  {
   "cell_type": "code",
   "execution_count": null,
   "metadata": {},
   "outputs": [],
   "source": []
  },
  {
   "cell_type": "markdown",
   "metadata": {},
   "source": [
    "#### Applying Hyperparameter Tuning"
   ]
  },
  {
   "cell_type": "code",
   "execution_count": 150,
   "metadata": {},
   "outputs": [
    {
     "ename": "SyntaxError",
     "evalue": "invalid syntax (<ipython-input-150-6f955898bf10>, line 2)",
     "output_type": "error",
     "traceback": [
      "\u001b[1;36m  File \u001b[1;32m\"<ipython-input-150-6f955898bf10>\"\u001b[1;36m, line \u001b[1;32m2\u001b[0m\n\u001b[1;33m    from sklearn.model\u001b[0m\n\u001b[1;37m                      ^\u001b[0m\n\u001b[1;31mSyntaxError\u001b[0m\u001b[1;31m:\u001b[0m invalid syntax\n"
     ]
    }
   ],
   "source": [
    "from sklearn.model_selection import RepeatedStratifiedFold\n",
    "from sklearn.model"
   ]
  },
  {
   "cell_type": "code",
   "execution_count": null,
   "metadata": {},
   "outputs": [],
   "source": []
  },
  {
   "cell_type": "code",
   "execution_count": null,
   "metadata": {},
   "outputs": [],
   "source": []
  },
  {
   "cell_type": "code",
   "execution_count": null,
   "metadata": {},
   "outputs": [],
   "source": []
  },
  {
   "cell_type": "code",
   "execution_count": null,
   "metadata": {},
   "outputs": [],
   "source": []
  },
  {
   "cell_type": "code",
   "execution_count": null,
   "metadata": {},
   "outputs": [],
   "source": []
  },
  {
   "cell_type": "code",
   "execution_count": null,
   "metadata": {},
   "outputs": [],
   "source": []
  },
  {
   "cell_type": "code",
   "execution_count": null,
   "metadata": {},
   "outputs": [],
   "source": []
  }
 ],
 "metadata": {
  "kernelspec": {
   "display_name": "Python 3",
   "language": "python",
   "name": "python3"
  },
  "language_info": {
   "codemirror_mode": {
    "name": "ipython",
    "version": 3
   },
   "file_extension": ".py",
   "mimetype": "text/x-python",
   "name": "python",
   "nbconvert_exporter": "python",
   "pygments_lexer": "ipython3",
   "version": "3.8.3"
  }
 },
 "nbformat": 4,
 "nbformat_minor": 4
}
